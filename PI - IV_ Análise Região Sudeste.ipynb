{
 "cells": [
  {
   "cell_type": "markdown",
   "id": "cba71eac",
   "metadata": {},
   "source": [
    "# Projeto Integrador - IV\n",
    "\n",
    "### Análise espacial das meningites na região sudeste entre os anos 2018 à 2022 \n",
    "\n",
    "           Este projeto propõe realizar uma análise espacial a partir do índice de incidência e prevalência dos casos de meningite e sua correlação com o índice socioeconômico da região sudeste do Brasil entre os anos de 2018 à 2022, baseado na análise de bancos de dados obtidos a partir do Sistema Nacional de Agravos de Notificação (SINAN), disponibilizados pelo Departamento de Informática do Sistema Único de Saúde (DataSUS)."
   ]
  },
  {
   "cell_type": "code",
   "execution_count": 84,
   "id": "4cdab12b",
   "metadata": {},
   "outputs": [
    {
     "data": {
      "text/html": [
       "<div>\n",
       "<style scoped>\n",
       "    .dataframe tbody tr th:only-of-type {\n",
       "        vertical-align: middle;\n",
       "    }\n",
       "\n",
       "    .dataframe tbody tr th {\n",
       "        vertical-align: top;\n",
       "    }\n",
       "\n",
       "    .dataframe thead th {\n",
       "        text-align: right;\n",
       "    }\n",
       "</style>\n",
       "<table border=\"1\" class=\"dataframe\">\n",
       "  <thead>\n",
       "    <tr style=\"text-align: right;\">\n",
       "      <th></th>\n",
       "      <th>Ano 1º Sintoma(s)</th>\n",
       "      <th>IGN/EM BRANCO</th>\n",
       "      <th>MCC</th>\n",
       "      <th>MM</th>\n",
       "      <th>MM+MCC</th>\n",
       "      <th>MTBC</th>\n",
       "      <th>MB</th>\n",
       "      <th>MNE</th>\n",
       "      <th>MV</th>\n",
       "      <th>MOE</th>\n",
       "      <th>MH</th>\n",
       "      <th>MP</th>\n",
       "      <th>Total</th>\n",
       "    </tr>\n",
       "  </thead>\n",
       "  <tbody>\n",
       "    <tr>\n",
       "      <th>0</th>\n",
       "      <td>2018</td>\n",
       "      <td>14.0</td>\n",
       "      <td>194.0</td>\n",
       "      <td>224.0</td>\n",
       "      <td>183.0</td>\n",
       "      <td>118.0</td>\n",
       "      <td>1495.0</td>\n",
       "      <td>941.0</td>\n",
       "      <td>5950.0</td>\n",
       "      <td>251.0</td>\n",
       "      <td>78.0</td>\n",
       "      <td>614.0</td>\n",
       "      <td>10062.0</td>\n",
       "    </tr>\n",
       "    <tr>\n",
       "      <th>1</th>\n",
       "      <td>2019</td>\n",
       "      <td>12.0</td>\n",
       "      <td>188.0</td>\n",
       "      <td>213.0</td>\n",
       "      <td>164.0</td>\n",
       "      <td>100.0</td>\n",
       "      <td>1276.0</td>\n",
       "      <td>935.0</td>\n",
       "      <td>5063.0</td>\n",
       "      <td>238.0</td>\n",
       "      <td>96.0</td>\n",
       "      <td>584.0</td>\n",
       "      <td>8869.0</td>\n",
       "    </tr>\n",
       "    <tr>\n",
       "      <th>2</th>\n",
       "      <td>2020</td>\n",
       "      <td>8.0</td>\n",
       "      <td>69.0</td>\n",
       "      <td>111.0</td>\n",
       "      <td>47.0</td>\n",
       "      <td>72.0</td>\n",
       "      <td>623.0</td>\n",
       "      <td>507.0</td>\n",
       "      <td>1835.0</td>\n",
       "      <td>159.0</td>\n",
       "      <td>18.0</td>\n",
       "      <td>171.0</td>\n",
       "      <td>3620.0</td>\n",
       "    </tr>\n",
       "    <tr>\n",
       "      <th>3</th>\n",
       "      <td>2021</td>\n",
       "      <td>9.0</td>\n",
       "      <td>50.0</td>\n",
       "      <td>59.0</td>\n",
       "      <td>38.0</td>\n",
       "      <td>72.0</td>\n",
       "      <td>548.0</td>\n",
       "      <td>533.0</td>\n",
       "      <td>1509.0</td>\n",
       "      <td>158.0</td>\n",
       "      <td>38.0</td>\n",
       "      <td>207.0</td>\n",
       "      <td>3221.0</td>\n",
       "    </tr>\n",
       "    <tr>\n",
       "      <th>4</th>\n",
       "      <td>2022</td>\n",
       "      <td>10.0</td>\n",
       "      <td>92.0</td>\n",
       "      <td>130.0</td>\n",
       "      <td>65.0</td>\n",
       "      <td>94.0</td>\n",
       "      <td>953.0</td>\n",
       "      <td>1035.0</td>\n",
       "      <td>3145.0</td>\n",
       "      <td>209.0</td>\n",
       "      <td>85.0</td>\n",
       "      <td>617.0</td>\n",
       "      <td>6435.0</td>\n",
       "    </tr>\n",
       "    <tr>\n",
       "      <th>5</th>\n",
       "      <td>Total</td>\n",
       "      <td>53.0</td>\n",
       "      <td>593.0</td>\n",
       "      <td>737.0</td>\n",
       "      <td>497.0</td>\n",
       "      <td>456.0</td>\n",
       "      <td>4895.0</td>\n",
       "      <td>3951.0</td>\n",
       "      <td>17502.0</td>\n",
       "      <td>1015.0</td>\n",
       "      <td>315.0</td>\n",
       "      <td>2193.0</td>\n",
       "      <td>32207.0</td>\n",
       "    </tr>\n",
       "  </tbody>\n",
       "</table>\n",
       "</div>"
      ],
      "text/plain": [
       "  Ano 1º Sintoma(s)  IGN/EM BRANCO    MCC     MM  MM+MCC   MTBC      MB  \\\n",
       "0              2018           14.0  194.0  224.0   183.0  118.0  1495.0   \n",
       "1              2019           12.0  188.0  213.0   164.0  100.0  1276.0   \n",
       "2              2020            8.0   69.0  111.0    47.0   72.0   623.0   \n",
       "3              2021            9.0   50.0   59.0    38.0   72.0   548.0   \n",
       "4              2022           10.0   92.0  130.0    65.0   94.0   953.0   \n",
       "5             Total           53.0  593.0  737.0   497.0  456.0  4895.0   \n",
       "\n",
       "      MNE       MV     MOE     MH      MP    Total  \n",
       "0   941.0   5950.0   251.0   78.0   614.0  10062.0  \n",
       "1   935.0   5063.0   238.0   96.0   584.0   8869.0  \n",
       "2   507.0   1835.0   159.0   18.0   171.0   3620.0  \n",
       "3   533.0   1509.0   158.0   38.0   207.0   3221.0  \n",
       "4  1035.0   3145.0   209.0   85.0   617.0   6435.0  \n",
       "5  3951.0  17502.0  1015.0  315.0  2193.0  32207.0  "
      ]
     },
     "metadata": {},
     "output_type": "display_data"
    }
   ],
   "source": [
    "# Importar a base de dados \"Etiologia\"\n",
    "import pandas as pd\n",
    "import matplotlib.pyplot as plt\n",
    "\n",
    "etiologia_sd = pd.read_csv(\"Etiologia_sudeste.csv\", encoding=\"latin\", sep=\";\")\n",
    "\n",
    "# corrigir informações vazias\n",
    "etiologia_sd = etiologia_sd.dropna()\n",
    "\n",
    "#Visualizar tabelas\n",
    "display (etiologia_sd)"
   ]
  },
  {
   "cell_type": "code",
   "execution_count": 85,
   "id": "97fcb05c",
   "metadata": {
    "scrolled": false
   },
   "outputs": [
    {
     "data": {
      "text/html": [
       "<div>\n",
       "<style scoped>\n",
       "    .dataframe tbody tr th:only-of-type {\n",
       "        vertical-align: middle;\n",
       "    }\n",
       "\n",
       "    .dataframe tbody tr th {\n",
       "        vertical-align: top;\n",
       "    }\n",
       "\n",
       "    .dataframe thead th {\n",
       "        text-align: right;\n",
       "    }\n",
       "</style>\n",
       "<table border=\"1\" class=\"dataframe\">\n",
       "  <thead>\n",
       "    <tr style=\"text-align: right;\">\n",
       "      <th></th>\n",
       "      <th>Ano 1º Sintoma(s)</th>\n",
       "      <th>IGN/EM BRANCO</th>\n",
       "      <th>MCC</th>\n",
       "      <th>MM</th>\n",
       "      <th>MM+MCC</th>\n",
       "      <th>MTBC</th>\n",
       "      <th>MB</th>\n",
       "      <th>MNE</th>\n",
       "      <th>MV</th>\n",
       "      <th>MOE</th>\n",
       "      <th>MH</th>\n",
       "      <th>MP</th>\n",
       "    </tr>\n",
       "  </thead>\n",
       "  <tbody>\n",
       "    <tr>\n",
       "      <th>0</th>\n",
       "      <td>2018</td>\n",
       "      <td>14.0</td>\n",
       "      <td>194.0</td>\n",
       "      <td>224.0</td>\n",
       "      <td>183.0</td>\n",
       "      <td>118.0</td>\n",
       "      <td>1495.0</td>\n",
       "      <td>941.0</td>\n",
       "      <td>5950.0</td>\n",
       "      <td>251.0</td>\n",
       "      <td>78.0</td>\n",
       "      <td>614.0</td>\n",
       "    </tr>\n",
       "    <tr>\n",
       "      <th>1</th>\n",
       "      <td>2019</td>\n",
       "      <td>12.0</td>\n",
       "      <td>188.0</td>\n",
       "      <td>213.0</td>\n",
       "      <td>164.0</td>\n",
       "      <td>100.0</td>\n",
       "      <td>1276.0</td>\n",
       "      <td>935.0</td>\n",
       "      <td>5063.0</td>\n",
       "      <td>238.0</td>\n",
       "      <td>96.0</td>\n",
       "      <td>584.0</td>\n",
       "    </tr>\n",
       "    <tr>\n",
       "      <th>2</th>\n",
       "      <td>2020</td>\n",
       "      <td>8.0</td>\n",
       "      <td>69.0</td>\n",
       "      <td>111.0</td>\n",
       "      <td>47.0</td>\n",
       "      <td>72.0</td>\n",
       "      <td>623.0</td>\n",
       "      <td>507.0</td>\n",
       "      <td>1835.0</td>\n",
       "      <td>159.0</td>\n",
       "      <td>18.0</td>\n",
       "      <td>171.0</td>\n",
       "    </tr>\n",
       "    <tr>\n",
       "      <th>3</th>\n",
       "      <td>2021</td>\n",
       "      <td>9.0</td>\n",
       "      <td>50.0</td>\n",
       "      <td>59.0</td>\n",
       "      <td>38.0</td>\n",
       "      <td>72.0</td>\n",
       "      <td>548.0</td>\n",
       "      <td>533.0</td>\n",
       "      <td>1509.0</td>\n",
       "      <td>158.0</td>\n",
       "      <td>38.0</td>\n",
       "      <td>207.0</td>\n",
       "    </tr>\n",
       "    <tr>\n",
       "      <th>4</th>\n",
       "      <td>2022</td>\n",
       "      <td>10.0</td>\n",
       "      <td>92.0</td>\n",
       "      <td>130.0</td>\n",
       "      <td>65.0</td>\n",
       "      <td>94.0</td>\n",
       "      <td>953.0</td>\n",
       "      <td>1035.0</td>\n",
       "      <td>3145.0</td>\n",
       "      <td>209.0</td>\n",
       "      <td>85.0</td>\n",
       "      <td>617.0</td>\n",
       "    </tr>\n",
       "  </tbody>\n",
       "</table>\n",
       "</div>"
      ],
      "text/plain": [
       "  Ano 1º Sintoma(s)  IGN/EM BRANCO    MCC     MM  MM+MCC   MTBC      MB  \\\n",
       "0              2018           14.0  194.0  224.0   183.0  118.0  1495.0   \n",
       "1              2019           12.0  188.0  213.0   164.0  100.0  1276.0   \n",
       "2              2020            8.0   69.0  111.0    47.0   72.0   623.0   \n",
       "3              2021            9.0   50.0   59.0    38.0   72.0   548.0   \n",
       "4              2022           10.0   92.0  130.0    65.0   94.0   953.0   \n",
       "\n",
       "      MNE      MV    MOE    MH     MP  \n",
       "0   941.0  5950.0  251.0  78.0  614.0  \n",
       "1   935.0  5063.0  238.0  96.0  584.0  \n",
       "2   507.0  1835.0  159.0  18.0  171.0  \n",
       "3   533.0  1509.0  158.0  38.0  207.0  \n",
       "4  1035.0  3145.0  209.0  85.0  617.0  "
      ]
     },
     "metadata": {},
     "output_type": "display_data"
    }
   ],
   "source": [
    "# deletar colunas \n",
    "# axis = 0 - se for linha ; axis = 1 se for coluna\n",
    "\n",
    "etiologia_sd = etiologia_sd.drop ('Total', axis=1)\n",
    "etiologia_sd = etiologia_sd.drop (5, axis=0)  \n",
    "display (etiologia_sd)"
   ]
  },
  {
   "cell_type": "code",
   "execution_count": 86,
   "id": "4a65e538",
   "metadata": {},
   "outputs": [
    {
     "data": {
      "application/vnd.plotly.v1+json": {
       "config": {
        "plotlyServerURL": "https://plot.ly"
       },
       "data": [
        {
         "mode": "lines",
         "name": "IGN/EM BRANCO",
         "type": "scatter",
         "x": [
          2018,
          2019,
          2020,
          2021,
          2022
         ],
         "y": [
          14,
          12,
          8,
          9,
          10
         ]
        },
        {
         "mode": "lines",
         "name": "MCC",
         "type": "scatter",
         "x": [
          2018,
          2019,
          2020,
          2021,
          2022
         ],
         "y": [
          194,
          188,
          69,
          50,
          92
         ]
        },
        {
         "mode": "lines",
         "name": "MM",
         "type": "scatter",
         "x": [
          2018,
          2019,
          2020,
          2021,
          2022
         ],
         "y": [
          224,
          213,
          111,
          59,
          130
         ]
        },
        {
         "mode": "lines",
         "name": "MM+MCC",
         "type": "scatter",
         "x": [
          2018,
          2019,
          2020,
          2021,
          2022
         ],
         "y": [
          183,
          164,
          47,
          38,
          65
         ]
        },
        {
         "mode": "lines",
         "name": "MTBC",
         "type": "scatter",
         "x": [
          2018,
          2019,
          2020,
          2021,
          2022
         ],
         "y": [
          118,
          100,
          72,
          72,
          94
         ]
        },
        {
         "mode": "lines",
         "name": "MB",
         "type": "scatter",
         "x": [
          2018,
          2019,
          2020,
          2021,
          2022
         ],
         "y": [
          1495,
          1276,
          623,
          548,
          953
         ]
        },
        {
         "mode": "lines",
         "name": "MNE",
         "type": "scatter",
         "x": [
          2018,
          2019,
          2020,
          2021,
          2022
         ],
         "y": [
          941,
          935,
          507,
          533,
          1035
         ]
        },
        {
         "mode": "lines",
         "name": "MV",
         "type": "scatter",
         "x": [
          2018,
          2019,
          2020,
          2021,
          2022
         ],
         "y": [
          5950,
          5063,
          1835,
          1509,
          3145
         ]
        },
        {
         "mode": "lines",
         "name": "MOE",
         "type": "scatter",
         "x": [
          2018,
          2019,
          2020,
          2021,
          2022
         ],
         "y": [
          251,
          238,
          159,
          158,
          209
         ]
        },
        {
         "mode": "lines",
         "name": "MH",
         "type": "scatter",
         "x": [
          2018,
          2019,
          2020,
          2021,
          2022
         ],
         "y": [
          78,
          96,
          18,
          38,
          85
         ]
        },
        {
         "mode": "lines",
         "name": "MP",
         "type": "scatter",
         "x": [
          2018,
          2019,
          2020,
          2021,
          2022
         ],
         "y": [
          614,
          584,
          171,
          207,
          617
         ]
        }
       ],
       "layout": {
        "hovermode": "x",
        "template": {
         "data": {
          "bar": [
           {
            "error_x": {
             "color": "#2a3f5f"
            },
            "error_y": {
             "color": "#2a3f5f"
            },
            "marker": {
             "line": {
              "color": "#E5ECF6",
              "width": 0.5
             },
             "pattern": {
              "fillmode": "overlay",
              "size": 10,
              "solidity": 0.2
             }
            },
            "type": "bar"
           }
          ],
          "barpolar": [
           {
            "marker": {
             "line": {
              "color": "#E5ECF6",
              "width": 0.5
             },
             "pattern": {
              "fillmode": "overlay",
              "size": 10,
              "solidity": 0.2
             }
            },
            "type": "barpolar"
           }
          ],
          "carpet": [
           {
            "aaxis": {
             "endlinecolor": "#2a3f5f",
             "gridcolor": "white",
             "linecolor": "white",
             "minorgridcolor": "white",
             "startlinecolor": "#2a3f5f"
            },
            "baxis": {
             "endlinecolor": "#2a3f5f",
             "gridcolor": "white",
             "linecolor": "white",
             "minorgridcolor": "white",
             "startlinecolor": "#2a3f5f"
            },
            "type": "carpet"
           }
          ],
          "choropleth": [
           {
            "colorbar": {
             "outlinewidth": 0,
             "ticks": ""
            },
            "type": "choropleth"
           }
          ],
          "contour": [
           {
            "colorbar": {
             "outlinewidth": 0,
             "ticks": ""
            },
            "colorscale": [
             [
              0,
              "#0d0887"
             ],
             [
              0.1111111111111111,
              "#46039f"
             ],
             [
              0.2222222222222222,
              "#7201a8"
             ],
             [
              0.3333333333333333,
              "#9c179e"
             ],
             [
              0.4444444444444444,
              "#bd3786"
             ],
             [
              0.5555555555555556,
              "#d8576b"
             ],
             [
              0.6666666666666666,
              "#ed7953"
             ],
             [
              0.7777777777777778,
              "#fb9f3a"
             ],
             [
              0.8888888888888888,
              "#fdca26"
             ],
             [
              1,
              "#f0f921"
             ]
            ],
            "type": "contour"
           }
          ],
          "contourcarpet": [
           {
            "colorbar": {
             "outlinewidth": 0,
             "ticks": ""
            },
            "type": "contourcarpet"
           }
          ],
          "heatmap": [
           {
            "colorbar": {
             "outlinewidth": 0,
             "ticks": ""
            },
            "colorscale": [
             [
              0,
              "#0d0887"
             ],
             [
              0.1111111111111111,
              "#46039f"
             ],
             [
              0.2222222222222222,
              "#7201a8"
             ],
             [
              0.3333333333333333,
              "#9c179e"
             ],
             [
              0.4444444444444444,
              "#bd3786"
             ],
             [
              0.5555555555555556,
              "#d8576b"
             ],
             [
              0.6666666666666666,
              "#ed7953"
             ],
             [
              0.7777777777777778,
              "#fb9f3a"
             ],
             [
              0.8888888888888888,
              "#fdca26"
             ],
             [
              1,
              "#f0f921"
             ]
            ],
            "type": "heatmap"
           }
          ],
          "heatmapgl": [
           {
            "colorbar": {
             "outlinewidth": 0,
             "ticks": ""
            },
            "colorscale": [
             [
              0,
              "#0d0887"
             ],
             [
              0.1111111111111111,
              "#46039f"
             ],
             [
              0.2222222222222222,
              "#7201a8"
             ],
             [
              0.3333333333333333,
              "#9c179e"
             ],
             [
              0.4444444444444444,
              "#bd3786"
             ],
             [
              0.5555555555555556,
              "#d8576b"
             ],
             [
              0.6666666666666666,
              "#ed7953"
             ],
             [
              0.7777777777777778,
              "#fb9f3a"
             ],
             [
              0.8888888888888888,
              "#fdca26"
             ],
             [
              1,
              "#f0f921"
             ]
            ],
            "type": "heatmapgl"
           }
          ],
          "histogram": [
           {
            "marker": {
             "pattern": {
              "fillmode": "overlay",
              "size": 10,
              "solidity": 0.2
             }
            },
            "type": "histogram"
           }
          ],
          "histogram2d": [
           {
            "colorbar": {
             "outlinewidth": 0,
             "ticks": ""
            },
            "colorscale": [
             [
              0,
              "#0d0887"
             ],
             [
              0.1111111111111111,
              "#46039f"
             ],
             [
              0.2222222222222222,
              "#7201a8"
             ],
             [
              0.3333333333333333,
              "#9c179e"
             ],
             [
              0.4444444444444444,
              "#bd3786"
             ],
             [
              0.5555555555555556,
              "#d8576b"
             ],
             [
              0.6666666666666666,
              "#ed7953"
             ],
             [
              0.7777777777777778,
              "#fb9f3a"
             ],
             [
              0.8888888888888888,
              "#fdca26"
             ],
             [
              1,
              "#f0f921"
             ]
            ],
            "type": "histogram2d"
           }
          ],
          "histogram2dcontour": [
           {
            "colorbar": {
             "outlinewidth": 0,
             "ticks": ""
            },
            "colorscale": [
             [
              0,
              "#0d0887"
             ],
             [
              0.1111111111111111,
              "#46039f"
             ],
             [
              0.2222222222222222,
              "#7201a8"
             ],
             [
              0.3333333333333333,
              "#9c179e"
             ],
             [
              0.4444444444444444,
              "#bd3786"
             ],
             [
              0.5555555555555556,
              "#d8576b"
             ],
             [
              0.6666666666666666,
              "#ed7953"
             ],
             [
              0.7777777777777778,
              "#fb9f3a"
             ],
             [
              0.8888888888888888,
              "#fdca26"
             ],
             [
              1,
              "#f0f921"
             ]
            ],
            "type": "histogram2dcontour"
           }
          ],
          "mesh3d": [
           {
            "colorbar": {
             "outlinewidth": 0,
             "ticks": ""
            },
            "type": "mesh3d"
           }
          ],
          "parcoords": [
           {
            "line": {
             "colorbar": {
              "outlinewidth": 0,
              "ticks": ""
             }
            },
            "type": "parcoords"
           }
          ],
          "pie": [
           {
            "automargin": true,
            "type": "pie"
           }
          ],
          "scatter": [
           {
            "fillpattern": {
             "fillmode": "overlay",
             "size": 10,
             "solidity": 0.2
            },
            "type": "scatter"
           }
          ],
          "scatter3d": [
           {
            "line": {
             "colorbar": {
              "outlinewidth": 0,
              "ticks": ""
             }
            },
            "marker": {
             "colorbar": {
              "outlinewidth": 0,
              "ticks": ""
             }
            },
            "type": "scatter3d"
           }
          ],
          "scattercarpet": [
           {
            "marker": {
             "colorbar": {
              "outlinewidth": 0,
              "ticks": ""
             }
            },
            "type": "scattercarpet"
           }
          ],
          "scattergeo": [
           {
            "marker": {
             "colorbar": {
              "outlinewidth": 0,
              "ticks": ""
             }
            },
            "type": "scattergeo"
           }
          ],
          "scattergl": [
           {
            "marker": {
             "colorbar": {
              "outlinewidth": 0,
              "ticks": ""
             }
            },
            "type": "scattergl"
           }
          ],
          "scattermapbox": [
           {
            "marker": {
             "colorbar": {
              "outlinewidth": 0,
              "ticks": ""
             }
            },
            "type": "scattermapbox"
           }
          ],
          "scatterpolar": [
           {
            "marker": {
             "colorbar": {
              "outlinewidth": 0,
              "ticks": ""
             }
            },
            "type": "scatterpolar"
           }
          ],
          "scatterpolargl": [
           {
            "marker": {
             "colorbar": {
              "outlinewidth": 0,
              "ticks": ""
             }
            },
            "type": "scatterpolargl"
           }
          ],
          "scatterternary": [
           {
            "marker": {
             "colorbar": {
              "outlinewidth": 0,
              "ticks": ""
             }
            },
            "type": "scatterternary"
           }
          ],
          "surface": [
           {
            "colorbar": {
             "outlinewidth": 0,
             "ticks": ""
            },
            "colorscale": [
             [
              0,
              "#0d0887"
             ],
             [
              0.1111111111111111,
              "#46039f"
             ],
             [
              0.2222222222222222,
              "#7201a8"
             ],
             [
              0.3333333333333333,
              "#9c179e"
             ],
             [
              0.4444444444444444,
              "#bd3786"
             ],
             [
              0.5555555555555556,
              "#d8576b"
             ],
             [
              0.6666666666666666,
              "#ed7953"
             ],
             [
              0.7777777777777778,
              "#fb9f3a"
             ],
             [
              0.8888888888888888,
              "#fdca26"
             ],
             [
              1,
              "#f0f921"
             ]
            ],
            "type": "surface"
           }
          ],
          "table": [
           {
            "cells": {
             "fill": {
              "color": "#EBF0F8"
             },
             "line": {
              "color": "white"
             }
            },
            "header": {
             "fill": {
              "color": "#C8D4E3"
             },
             "line": {
              "color": "white"
             }
            },
            "type": "table"
           }
          ]
         },
         "layout": {
          "annotationdefaults": {
           "arrowcolor": "#2a3f5f",
           "arrowhead": 0,
           "arrowwidth": 1
          },
          "autotypenumbers": "strict",
          "coloraxis": {
           "colorbar": {
            "outlinewidth": 0,
            "ticks": ""
           }
          },
          "colorscale": {
           "diverging": [
            [
             0,
             "#8e0152"
            ],
            [
             0.1,
             "#c51b7d"
            ],
            [
             0.2,
             "#de77ae"
            ],
            [
             0.3,
             "#f1b6da"
            ],
            [
             0.4,
             "#fde0ef"
            ],
            [
             0.5,
             "#f7f7f7"
            ],
            [
             0.6,
             "#e6f5d0"
            ],
            [
             0.7,
             "#b8e186"
            ],
            [
             0.8,
             "#7fbc41"
            ],
            [
             0.9,
             "#4d9221"
            ],
            [
             1,
             "#276419"
            ]
           ],
           "sequential": [
            [
             0,
             "#0d0887"
            ],
            [
             0.1111111111111111,
             "#46039f"
            ],
            [
             0.2222222222222222,
             "#7201a8"
            ],
            [
             0.3333333333333333,
             "#9c179e"
            ],
            [
             0.4444444444444444,
             "#bd3786"
            ],
            [
             0.5555555555555556,
             "#d8576b"
            ],
            [
             0.6666666666666666,
             "#ed7953"
            ],
            [
             0.7777777777777778,
             "#fb9f3a"
            ],
            [
             0.8888888888888888,
             "#fdca26"
            ],
            [
             1,
             "#f0f921"
            ]
           ],
           "sequentialminus": [
            [
             0,
             "#0d0887"
            ],
            [
             0.1111111111111111,
             "#46039f"
            ],
            [
             0.2222222222222222,
             "#7201a8"
            ],
            [
             0.3333333333333333,
             "#9c179e"
            ],
            [
             0.4444444444444444,
             "#bd3786"
            ],
            [
             0.5555555555555556,
             "#d8576b"
            ],
            [
             0.6666666666666666,
             "#ed7953"
            ],
            [
             0.7777777777777778,
             "#fb9f3a"
            ],
            [
             0.8888888888888888,
             "#fdca26"
            ],
            [
             1,
             "#f0f921"
            ]
           ]
          },
          "colorway": [
           "#636efa",
           "#EF553B",
           "#00cc96",
           "#ab63fa",
           "#FFA15A",
           "#19d3f3",
           "#FF6692",
           "#B6E880",
           "#FF97FF",
           "#FECB52"
          ],
          "font": {
           "color": "#2a3f5f"
          },
          "geo": {
           "bgcolor": "white",
           "lakecolor": "white",
           "landcolor": "#E5ECF6",
           "showlakes": true,
           "showland": true,
           "subunitcolor": "white"
          },
          "hoverlabel": {
           "align": "left"
          },
          "hovermode": "closest",
          "mapbox": {
           "style": "light"
          },
          "paper_bgcolor": "white",
          "plot_bgcolor": "#E5ECF6",
          "polar": {
           "angularaxis": {
            "gridcolor": "white",
            "linecolor": "white",
            "ticks": ""
           },
           "bgcolor": "#E5ECF6",
           "radialaxis": {
            "gridcolor": "white",
            "linecolor": "white",
            "ticks": ""
           }
          },
          "scene": {
           "xaxis": {
            "backgroundcolor": "#E5ECF6",
            "gridcolor": "white",
            "gridwidth": 2,
            "linecolor": "white",
            "showbackground": true,
            "ticks": "",
            "zerolinecolor": "white"
           },
           "yaxis": {
            "backgroundcolor": "#E5ECF6",
            "gridcolor": "white",
            "gridwidth": 2,
            "linecolor": "white",
            "showbackground": true,
            "ticks": "",
            "zerolinecolor": "white"
           },
           "zaxis": {
            "backgroundcolor": "#E5ECF6",
            "gridcolor": "white",
            "gridwidth": 2,
            "linecolor": "white",
            "showbackground": true,
            "ticks": "",
            "zerolinecolor": "white"
           }
          },
          "shapedefaults": {
           "line": {
            "color": "#2a3f5f"
           }
          },
          "ternary": {
           "aaxis": {
            "gridcolor": "white",
            "linecolor": "white",
            "ticks": ""
           },
           "baxis": {
            "gridcolor": "white",
            "linecolor": "white",
            "ticks": ""
           },
           "bgcolor": "#E5ECF6",
           "caxis": {
            "gridcolor": "white",
            "linecolor": "white",
            "ticks": ""
           }
          },
          "title": {
           "x": 0.05
          },
          "xaxis": {
           "automargin": true,
           "gridcolor": "white",
           "linecolor": "white",
           "ticks": "",
           "title": {
            "standoff": 15
           },
           "zerolinecolor": "white",
           "zerolinewidth": 2
          },
          "yaxis": {
           "automargin": true,
           "gridcolor": "white",
           "linecolor": "white",
           "ticks": "",
           "title": {
            "standoff": 15
           },
           "zerolinecolor": "white",
           "zerolinewidth": 2
          }
         }
        },
        "title": {
         "text": "Etiologia - Região Sudeste"
        },
        "xaxis": {
         "title": {
          "text": "Ano 1º Sintoma(s)"
         }
        },
        "yaxis": {
         "title": {
          "text": "Valores"
         }
        }
       }
      },
      "text/html": [
       "<div>                            <div id=\"4b70138d-82bb-4250-9645-41df0f8cd616\" class=\"plotly-graph-div\" style=\"height:525px; width:100%;\"></div>            <script type=\"text/javascript\">                require([\"plotly\"], function(Plotly) {                    window.PLOTLYENV=window.PLOTLYENV || {};                                    if (document.getElementById(\"4b70138d-82bb-4250-9645-41df0f8cd616\")) {                    Plotly.newPlot(                        \"4b70138d-82bb-4250-9645-41df0f8cd616\",                        [{\"mode\":\"lines\",\"name\":\"IGN/EM BRANCO\",\"x\":[2018,2019,2020,2021,2022],\"y\":[14.0,12.0,8.0,9.0,10.0],\"type\":\"scatter\"},{\"mode\":\"lines\",\"name\":\"MCC\",\"x\":[2018,2019,2020,2021,2022],\"y\":[194.0,188.0,69.0,50.0,92.0],\"type\":\"scatter\"},{\"mode\":\"lines\",\"name\":\"MM\",\"x\":[2018,2019,2020,2021,2022],\"y\":[224.0,213.0,111.0,59.0,130.0],\"type\":\"scatter\"},{\"mode\":\"lines\",\"name\":\"MM+MCC\",\"x\":[2018,2019,2020,2021,2022],\"y\":[183.0,164.0,47.0,38.0,65.0],\"type\":\"scatter\"},{\"mode\":\"lines\",\"name\":\"MTBC\",\"x\":[2018,2019,2020,2021,2022],\"y\":[118.0,100.0,72.0,72.0,94.0],\"type\":\"scatter\"},{\"mode\":\"lines\",\"name\":\"MB\",\"x\":[2018,2019,2020,2021,2022],\"y\":[1495.0,1276.0,623.0,548.0,953.0],\"type\":\"scatter\"},{\"mode\":\"lines\",\"name\":\"MNE\",\"x\":[2018,2019,2020,2021,2022],\"y\":[941.0,935.0,507.0,533.0,1035.0],\"type\":\"scatter\"},{\"mode\":\"lines\",\"name\":\"MV\",\"x\":[2018,2019,2020,2021,2022],\"y\":[5950.0,5063.0,1835.0,1509.0,3145.0],\"type\":\"scatter\"},{\"mode\":\"lines\",\"name\":\"MOE\",\"x\":[2018,2019,2020,2021,2022],\"y\":[251.0,238.0,159.0,158.0,209.0],\"type\":\"scatter\"},{\"mode\":\"lines\",\"name\":\"MH\",\"x\":[2018,2019,2020,2021,2022],\"y\":[78.0,96.0,18.0,38.0,85.0],\"type\":\"scatter\"},{\"mode\":\"lines\",\"name\":\"MP\",\"x\":[2018,2019,2020,2021,2022],\"y\":[614.0,584.0,171.0,207.0,617.0],\"type\":\"scatter\"}],                        {\"template\":{\"data\":{\"histogram2dcontour\":[{\"type\":\"histogram2dcontour\",\"colorbar\":{\"outlinewidth\":0,\"ticks\":\"\"},\"colorscale\":[[0.0,\"#0d0887\"],[0.1111111111111111,\"#46039f\"],[0.2222222222222222,\"#7201a8\"],[0.3333333333333333,\"#9c179e\"],[0.4444444444444444,\"#bd3786\"],[0.5555555555555556,\"#d8576b\"],[0.6666666666666666,\"#ed7953\"],[0.7777777777777778,\"#fb9f3a\"],[0.8888888888888888,\"#fdca26\"],[1.0,\"#f0f921\"]]}],\"choropleth\":[{\"type\":\"choropleth\",\"colorbar\":{\"outlinewidth\":0,\"ticks\":\"\"}}],\"histogram2d\":[{\"type\":\"histogram2d\",\"colorbar\":{\"outlinewidth\":0,\"ticks\":\"\"},\"colorscale\":[[0.0,\"#0d0887\"],[0.1111111111111111,\"#46039f\"],[0.2222222222222222,\"#7201a8\"],[0.3333333333333333,\"#9c179e\"],[0.4444444444444444,\"#bd3786\"],[0.5555555555555556,\"#d8576b\"],[0.6666666666666666,\"#ed7953\"],[0.7777777777777778,\"#fb9f3a\"],[0.8888888888888888,\"#fdca26\"],[1.0,\"#f0f921\"]]}],\"heatmap\":[{\"type\":\"heatmap\",\"colorbar\":{\"outlinewidth\":0,\"ticks\":\"\"},\"colorscale\":[[0.0,\"#0d0887\"],[0.1111111111111111,\"#46039f\"],[0.2222222222222222,\"#7201a8\"],[0.3333333333333333,\"#9c179e\"],[0.4444444444444444,\"#bd3786\"],[0.5555555555555556,\"#d8576b\"],[0.6666666666666666,\"#ed7953\"],[0.7777777777777778,\"#fb9f3a\"],[0.8888888888888888,\"#fdca26\"],[1.0,\"#f0f921\"]]}],\"heatmapgl\":[{\"type\":\"heatmapgl\",\"colorbar\":{\"outlinewidth\":0,\"ticks\":\"\"},\"colorscale\":[[0.0,\"#0d0887\"],[0.1111111111111111,\"#46039f\"],[0.2222222222222222,\"#7201a8\"],[0.3333333333333333,\"#9c179e\"],[0.4444444444444444,\"#bd3786\"],[0.5555555555555556,\"#d8576b\"],[0.6666666666666666,\"#ed7953\"],[0.7777777777777778,\"#fb9f3a\"],[0.8888888888888888,\"#fdca26\"],[1.0,\"#f0f921\"]]}],\"contourcarpet\":[{\"type\":\"contourcarpet\",\"colorbar\":{\"outlinewidth\":0,\"ticks\":\"\"}}],\"contour\":[{\"type\":\"contour\",\"colorbar\":{\"outlinewidth\":0,\"ticks\":\"\"},\"colorscale\":[[0.0,\"#0d0887\"],[0.1111111111111111,\"#46039f\"],[0.2222222222222222,\"#7201a8\"],[0.3333333333333333,\"#9c179e\"],[0.4444444444444444,\"#bd3786\"],[0.5555555555555556,\"#d8576b\"],[0.6666666666666666,\"#ed7953\"],[0.7777777777777778,\"#fb9f3a\"],[0.8888888888888888,\"#fdca26\"],[1.0,\"#f0f921\"]]}],\"surface\":[{\"type\":\"surface\",\"colorbar\":{\"outlinewidth\":0,\"ticks\":\"\"},\"colorscale\":[[0.0,\"#0d0887\"],[0.1111111111111111,\"#46039f\"],[0.2222222222222222,\"#7201a8\"],[0.3333333333333333,\"#9c179e\"],[0.4444444444444444,\"#bd3786\"],[0.5555555555555556,\"#d8576b\"],[0.6666666666666666,\"#ed7953\"],[0.7777777777777778,\"#fb9f3a\"],[0.8888888888888888,\"#fdca26\"],[1.0,\"#f0f921\"]]}],\"mesh3d\":[{\"type\":\"mesh3d\",\"colorbar\":{\"outlinewidth\":0,\"ticks\":\"\"}}],\"scatter\":[{\"fillpattern\":{\"fillmode\":\"overlay\",\"size\":10,\"solidity\":0.2},\"type\":\"scatter\"}],\"parcoords\":[{\"type\":\"parcoords\",\"line\":{\"colorbar\":{\"outlinewidth\":0,\"ticks\":\"\"}}}],\"scatterpolargl\":[{\"type\":\"scatterpolargl\",\"marker\":{\"colorbar\":{\"outlinewidth\":0,\"ticks\":\"\"}}}],\"bar\":[{\"error_x\":{\"color\":\"#2a3f5f\"},\"error_y\":{\"color\":\"#2a3f5f\"},\"marker\":{\"line\":{\"color\":\"#E5ECF6\",\"width\":0.5},\"pattern\":{\"fillmode\":\"overlay\",\"size\":10,\"solidity\":0.2}},\"type\":\"bar\"}],\"scattergeo\":[{\"type\":\"scattergeo\",\"marker\":{\"colorbar\":{\"outlinewidth\":0,\"ticks\":\"\"}}}],\"scatterpolar\":[{\"type\":\"scatterpolar\",\"marker\":{\"colorbar\":{\"outlinewidth\":0,\"ticks\":\"\"}}}],\"histogram\":[{\"marker\":{\"pattern\":{\"fillmode\":\"overlay\",\"size\":10,\"solidity\":0.2}},\"type\":\"histogram\"}],\"scattergl\":[{\"type\":\"scattergl\",\"marker\":{\"colorbar\":{\"outlinewidth\":0,\"ticks\":\"\"}}}],\"scatter3d\":[{\"type\":\"scatter3d\",\"line\":{\"colorbar\":{\"outlinewidth\":0,\"ticks\":\"\"}},\"marker\":{\"colorbar\":{\"outlinewidth\":0,\"ticks\":\"\"}}}],\"scattermapbox\":[{\"type\":\"scattermapbox\",\"marker\":{\"colorbar\":{\"outlinewidth\":0,\"ticks\":\"\"}}}],\"scatterternary\":[{\"type\":\"scatterternary\",\"marker\":{\"colorbar\":{\"outlinewidth\":0,\"ticks\":\"\"}}}],\"scattercarpet\":[{\"type\":\"scattercarpet\",\"marker\":{\"colorbar\":{\"outlinewidth\":0,\"ticks\":\"\"}}}],\"carpet\":[{\"aaxis\":{\"endlinecolor\":\"#2a3f5f\",\"gridcolor\":\"white\",\"linecolor\":\"white\",\"minorgridcolor\":\"white\",\"startlinecolor\":\"#2a3f5f\"},\"baxis\":{\"endlinecolor\":\"#2a3f5f\",\"gridcolor\":\"white\",\"linecolor\":\"white\",\"minorgridcolor\":\"white\",\"startlinecolor\":\"#2a3f5f\"},\"type\":\"carpet\"}],\"table\":[{\"cells\":{\"fill\":{\"color\":\"#EBF0F8\"},\"line\":{\"color\":\"white\"}},\"header\":{\"fill\":{\"color\":\"#C8D4E3\"},\"line\":{\"color\":\"white\"}},\"type\":\"table\"}],\"barpolar\":[{\"marker\":{\"line\":{\"color\":\"#E5ECF6\",\"width\":0.5},\"pattern\":{\"fillmode\":\"overlay\",\"size\":10,\"solidity\":0.2}},\"type\":\"barpolar\"}],\"pie\":[{\"automargin\":true,\"type\":\"pie\"}]},\"layout\":{\"autotypenumbers\":\"strict\",\"colorway\":[\"#636efa\",\"#EF553B\",\"#00cc96\",\"#ab63fa\",\"#FFA15A\",\"#19d3f3\",\"#FF6692\",\"#B6E880\",\"#FF97FF\",\"#FECB52\"],\"font\":{\"color\":\"#2a3f5f\"},\"hovermode\":\"closest\",\"hoverlabel\":{\"align\":\"left\"},\"paper_bgcolor\":\"white\",\"plot_bgcolor\":\"#E5ECF6\",\"polar\":{\"bgcolor\":\"#E5ECF6\",\"angularaxis\":{\"gridcolor\":\"white\",\"linecolor\":\"white\",\"ticks\":\"\"},\"radialaxis\":{\"gridcolor\":\"white\",\"linecolor\":\"white\",\"ticks\":\"\"}},\"ternary\":{\"bgcolor\":\"#E5ECF6\",\"aaxis\":{\"gridcolor\":\"white\",\"linecolor\":\"white\",\"ticks\":\"\"},\"baxis\":{\"gridcolor\":\"white\",\"linecolor\":\"white\",\"ticks\":\"\"},\"caxis\":{\"gridcolor\":\"white\",\"linecolor\":\"white\",\"ticks\":\"\"}},\"coloraxis\":{\"colorbar\":{\"outlinewidth\":0,\"ticks\":\"\"}},\"colorscale\":{\"sequential\":[[0.0,\"#0d0887\"],[0.1111111111111111,\"#46039f\"],[0.2222222222222222,\"#7201a8\"],[0.3333333333333333,\"#9c179e\"],[0.4444444444444444,\"#bd3786\"],[0.5555555555555556,\"#d8576b\"],[0.6666666666666666,\"#ed7953\"],[0.7777777777777778,\"#fb9f3a\"],[0.8888888888888888,\"#fdca26\"],[1.0,\"#f0f921\"]],\"sequentialminus\":[[0.0,\"#0d0887\"],[0.1111111111111111,\"#46039f\"],[0.2222222222222222,\"#7201a8\"],[0.3333333333333333,\"#9c179e\"],[0.4444444444444444,\"#bd3786\"],[0.5555555555555556,\"#d8576b\"],[0.6666666666666666,\"#ed7953\"],[0.7777777777777778,\"#fb9f3a\"],[0.8888888888888888,\"#fdca26\"],[1.0,\"#f0f921\"]],\"diverging\":[[0,\"#8e0152\"],[0.1,\"#c51b7d\"],[0.2,\"#de77ae\"],[0.3,\"#f1b6da\"],[0.4,\"#fde0ef\"],[0.5,\"#f7f7f7\"],[0.6,\"#e6f5d0\"],[0.7,\"#b8e186\"],[0.8,\"#7fbc41\"],[0.9,\"#4d9221\"],[1,\"#276419\"]]},\"xaxis\":{\"gridcolor\":\"white\",\"linecolor\":\"white\",\"ticks\":\"\",\"title\":{\"standoff\":15},\"zerolinecolor\":\"white\",\"automargin\":true,\"zerolinewidth\":2},\"yaxis\":{\"gridcolor\":\"white\",\"linecolor\":\"white\",\"ticks\":\"\",\"title\":{\"standoff\":15},\"zerolinecolor\":\"white\",\"automargin\":true,\"zerolinewidth\":2},\"scene\":{\"xaxis\":{\"backgroundcolor\":\"#E5ECF6\",\"gridcolor\":\"white\",\"linecolor\":\"white\",\"showbackground\":true,\"ticks\":\"\",\"zerolinecolor\":\"white\",\"gridwidth\":2},\"yaxis\":{\"backgroundcolor\":\"#E5ECF6\",\"gridcolor\":\"white\",\"linecolor\":\"white\",\"showbackground\":true,\"ticks\":\"\",\"zerolinecolor\":\"white\",\"gridwidth\":2},\"zaxis\":{\"backgroundcolor\":\"#E5ECF6\",\"gridcolor\":\"white\",\"linecolor\":\"white\",\"showbackground\":true,\"ticks\":\"\",\"zerolinecolor\":\"white\",\"gridwidth\":2}},\"shapedefaults\":{\"line\":{\"color\":\"#2a3f5f\"}},\"annotationdefaults\":{\"arrowcolor\":\"#2a3f5f\",\"arrowhead\":0,\"arrowwidth\":1},\"geo\":{\"bgcolor\":\"white\",\"landcolor\":\"#E5ECF6\",\"subunitcolor\":\"white\",\"showland\":true,\"showlakes\":true,\"lakecolor\":\"white\"},\"title\":{\"x\":0.05},\"mapbox\":{\"style\":\"light\"}}},\"title\":{\"text\":\"Etiologia - Regi\\u00e3o Sudeste\"},\"xaxis\":{\"title\":{\"text\":\"Ano 1\\u00ba Sintoma(s)\"}},\"yaxis\":{\"title\":{\"text\":\"Valores\"}},\"hovermode\":\"x\"},                        {\"responsive\": true}                    ).then(function(){\n",
       "                            \n",
       "var gd = document.getElementById('4b70138d-82bb-4250-9645-41df0f8cd616');\n",
       "var x = new MutationObserver(function (mutations, observer) {{\n",
       "        var display = window.getComputedStyle(gd).display;\n",
       "        if (!display || display === 'none') {{\n",
       "            console.log([gd, 'removed!']);\n",
       "            Plotly.purge(gd);\n",
       "            observer.disconnect();\n",
       "        }}\n",
       "}});\n",
       "\n",
       "// Listen for the removal of the full notebook cells\n",
       "var notebookContainer = gd.closest('#notebook-container');\n",
       "if (notebookContainer) {{\n",
       "    x.observe(notebookContainer, {childList: true});\n",
       "}}\n",
       "\n",
       "// Listen for the clearing of the current output cell\n",
       "var outputEl = gd.closest('.output');\n",
       "if (outputEl) {{\n",
       "    x.observe(outputEl, {childList: true});\n",
       "}}\n",
       "\n",
       "                        })                };                });            </script>        </div>"
      ]
     },
     "metadata": {},
     "output_type": "display_data"
    }
   ],
   "source": [
    "import plotly.graph_objects as go\n",
    "import pandas as pd\n",
    "\n",
    "# Dados da tabela\n",
    "data = {'Ano 1º Sintoma(s)': [2018, 2019, 2020, 2021, 2022],\n",
    "                    'IGN/EM BRANCO': [14.0, 12.0, 8.0, 9.0, 10.0],\n",
    "                    'MCC': [194.0, 188.0, 69.0, 50.0, 92.0],\n",
    "                    'MM': [224.0, 213.0, 111.0, 59.0, 130.0],\n",
    "                    'MM+MCC': [183.0, 164.0, 47.0, 38.0, 65.0],\n",
    "                    'MTBC': [118.0, 100.0, 72.0, 72.0, 94.0],\n",
    "                    'MB': [1495.0, 1276.0, 623.0, 548.0, 953.0],\n",
    "                    'MNE': [941.0, 935.0, 507.0, 533.0, 1035.0],\n",
    "                    'MV': [5950.0, 5063.0, 1835.0, 1509.0, 3145.0],\n",
    "                    'MOE': [251.0, 238.0, 159.0, 158.0, 209.0],\n",
    "                    'MH': [78.0, 96.0, 18.0, 38.0, 85.0],\n",
    "                    'MP': [614.0, 584.0, 171.0, 207.0, 617.0]\n",
    "    \n",
    "}\n",
    "\n",
    "etiologia_sd = pd.DataFrame(data)\n",
    "\n",
    "# Criação do gráfico interativo\n",
    "fig = go.Figure()\n",
    "\n",
    "# Adição das linhas no gráfico\n",
    "for column in etiologia_sd.columns:\n",
    "    if column != 'Ano 1º Sintoma(s)':\n",
    "        fig.add_trace(go.Scatter(x=etiologia_sd['Ano 1º Sintoma(s)'], y=etiologia_sd[column], mode='lines', name=column))\n",
    "\n",
    "# Configurações do layout\n",
    "fig.update_layout(\n",
    "    title='Etiologia - Região Sudeste',\n",
    "    xaxis=dict(title='Ano 1º Sintoma(s)'),\n",
    "    yaxis=dict(title='Valores'),\n",
    "    hovermode='x'\n",
    ")\n",
    "\n",
    "# Exibição do gráfico\n",
    "fig.show()"
   ]
  },
  {
   "cell_type": "code",
   "execution_count": 62,
   "id": "962909ca",
   "metadata": {
    "scrolled": true
   },
   "outputs": [
    {
     "data": {
      "text/plain": [
       "'Descrição estatística:'"
      ]
     },
     "metadata": {},
     "output_type": "display_data"
    },
    {
     "data": {
      "text/html": [
       "<div>\n",
       "<style scoped>\n",
       "    .dataframe tbody tr th:only-of-type {\n",
       "        vertical-align: middle;\n",
       "    }\n",
       "\n",
       "    .dataframe tbody tr th {\n",
       "        vertical-align: top;\n",
       "    }\n",
       "\n",
       "    .dataframe thead th {\n",
       "        text-align: right;\n",
       "    }\n",
       "</style>\n",
       "<table border=\"1\" class=\"dataframe\">\n",
       "  <thead>\n",
       "    <tr style=\"text-align: right;\">\n",
       "      <th></th>\n",
       "      <th>Ano 1º Sintoma(s)</th>\n",
       "      <th>IGN/EM BRANCO</th>\n",
       "      <th>MCC</th>\n",
       "      <th>MM</th>\n",
       "      <th>MM+MCC</th>\n",
       "      <th>MTBC</th>\n",
       "      <th>MB</th>\n",
       "      <th>MNE</th>\n",
       "      <th>MV</th>\n",
       "      <th>MOE</th>\n",
       "      <th>MH</th>\n",
       "      <th>MP</th>\n",
       "    </tr>\n",
       "  </thead>\n",
       "  <tbody>\n",
       "    <tr>\n",
       "      <th>count</th>\n",
       "      <td>5.000000</td>\n",
       "      <td>5.000000</td>\n",
       "      <td>5.000000</td>\n",
       "      <td>5.000000</td>\n",
       "      <td>5.000000</td>\n",
       "      <td>5.000000</td>\n",
       "      <td>5.000000</td>\n",
       "      <td>5.0000</td>\n",
       "      <td>5.000000</td>\n",
       "      <td>5.000000</td>\n",
       "      <td>5.000000</td>\n",
       "      <td>5.000000</td>\n",
       "    </tr>\n",
       "    <tr>\n",
       "      <th>mean</th>\n",
       "      <td>2020.000000</td>\n",
       "      <td>10.600000</td>\n",
       "      <td>118.600000</td>\n",
       "      <td>147.400000</td>\n",
       "      <td>99.400000</td>\n",
       "      <td>91.200000</td>\n",
       "      <td>979.000000</td>\n",
       "      <td>790.2000</td>\n",
       "      <td>3500.400000</td>\n",
       "      <td>203.000000</td>\n",
       "      <td>63.000000</td>\n",
       "      <td>438.600000</td>\n",
       "    </tr>\n",
       "    <tr>\n",
       "      <th>std</th>\n",
       "      <td>1.581139</td>\n",
       "      <td>2.408319</td>\n",
       "      <td>67.777577</td>\n",
       "      <td>70.023567</td>\n",
       "      <td>68.668042</td>\n",
       "      <td>19.626513</td>\n",
       "      <td>408.545591</td>\n",
       "      <td>249.9944</td>\n",
       "      <td>1956.259134</td>\n",
       "      <td>43.376261</td>\n",
       "      <td>33.346664</td>\n",
       "      <td>228.572308</td>\n",
       "    </tr>\n",
       "    <tr>\n",
       "      <th>min</th>\n",
       "      <td>2018.000000</td>\n",
       "      <td>8.000000</td>\n",
       "      <td>50.000000</td>\n",
       "      <td>59.000000</td>\n",
       "      <td>38.000000</td>\n",
       "      <td>72.000000</td>\n",
       "      <td>548.000000</td>\n",
       "      <td>507.0000</td>\n",
       "      <td>1509.000000</td>\n",
       "      <td>158.000000</td>\n",
       "      <td>18.000000</td>\n",
       "      <td>171.000000</td>\n",
       "    </tr>\n",
       "    <tr>\n",
       "      <th>25%</th>\n",
       "      <td>2019.000000</td>\n",
       "      <td>9.000000</td>\n",
       "      <td>69.000000</td>\n",
       "      <td>111.000000</td>\n",
       "      <td>47.000000</td>\n",
       "      <td>72.000000</td>\n",
       "      <td>623.000000</td>\n",
       "      <td>533.0000</td>\n",
       "      <td>1835.000000</td>\n",
       "      <td>159.000000</td>\n",
       "      <td>38.000000</td>\n",
       "      <td>207.000000</td>\n",
       "    </tr>\n",
       "    <tr>\n",
       "      <th>50%</th>\n",
       "      <td>2020.000000</td>\n",
       "      <td>10.000000</td>\n",
       "      <td>92.000000</td>\n",
       "      <td>130.000000</td>\n",
       "      <td>65.000000</td>\n",
       "      <td>94.000000</td>\n",
       "      <td>953.000000</td>\n",
       "      <td>935.0000</td>\n",
       "      <td>3145.000000</td>\n",
       "      <td>209.000000</td>\n",
       "      <td>78.000000</td>\n",
       "      <td>584.000000</td>\n",
       "    </tr>\n",
       "    <tr>\n",
       "      <th>75%</th>\n",
       "      <td>2021.000000</td>\n",
       "      <td>12.000000</td>\n",
       "      <td>188.000000</td>\n",
       "      <td>213.000000</td>\n",
       "      <td>164.000000</td>\n",
       "      <td>100.000000</td>\n",
       "      <td>1276.000000</td>\n",
       "      <td>941.0000</td>\n",
       "      <td>5063.000000</td>\n",
       "      <td>238.000000</td>\n",
       "      <td>85.000000</td>\n",
       "      <td>614.000000</td>\n",
       "    </tr>\n",
       "    <tr>\n",
       "      <th>max</th>\n",
       "      <td>2022.000000</td>\n",
       "      <td>14.000000</td>\n",
       "      <td>194.000000</td>\n",
       "      <td>224.000000</td>\n",
       "      <td>183.000000</td>\n",
       "      <td>118.000000</td>\n",
       "      <td>1495.000000</td>\n",
       "      <td>1035.0000</td>\n",
       "      <td>5950.000000</td>\n",
       "      <td>251.000000</td>\n",
       "      <td>96.000000</td>\n",
       "      <td>617.000000</td>\n",
       "    </tr>\n",
       "  </tbody>\n",
       "</table>\n",
       "</div>"
      ],
      "text/plain": [
       "       Ano 1º Sintoma(s)  IGN/EM BRANCO         MCC          MM      MM+MCC  \\\n",
       "count           5.000000       5.000000    5.000000    5.000000    5.000000   \n",
       "mean         2020.000000      10.600000  118.600000  147.400000   99.400000   \n",
       "std             1.581139       2.408319   67.777577   70.023567   68.668042   \n",
       "min          2018.000000       8.000000   50.000000   59.000000   38.000000   \n",
       "25%          2019.000000       9.000000   69.000000  111.000000   47.000000   \n",
       "50%          2020.000000      10.000000   92.000000  130.000000   65.000000   \n",
       "75%          2021.000000      12.000000  188.000000  213.000000  164.000000   \n",
       "max          2022.000000      14.000000  194.000000  224.000000  183.000000   \n",
       "\n",
       "             MTBC           MB        MNE           MV         MOE         MH  \\\n",
       "count    5.000000     5.000000     5.0000     5.000000    5.000000   5.000000   \n",
       "mean    91.200000   979.000000   790.2000  3500.400000  203.000000  63.000000   \n",
       "std     19.626513   408.545591   249.9944  1956.259134   43.376261  33.346664   \n",
       "min     72.000000   548.000000   507.0000  1509.000000  158.000000  18.000000   \n",
       "25%     72.000000   623.000000   533.0000  1835.000000  159.000000  38.000000   \n",
       "50%     94.000000   953.000000   935.0000  3145.000000  209.000000  78.000000   \n",
       "75%    100.000000  1276.000000   941.0000  5063.000000  238.000000  85.000000   \n",
       "max    118.000000  1495.000000  1035.0000  5950.000000  251.000000  96.000000   \n",
       "\n",
       "               MP  \n",
       "count    5.000000  \n",
       "mean   438.600000  \n",
       "std    228.572308  \n",
       "min    171.000000  \n",
       "25%    207.000000  \n",
       "50%    584.000000  \n",
       "75%    614.000000  \n",
       "max    617.000000  "
      ]
     },
     "metadata": {},
     "output_type": "display_data"
    },
    {
     "data": {
      "text/plain": [
       "'\\nMédia:'"
      ]
     },
     "metadata": {},
     "output_type": "display_data"
    },
    {
     "data": {
      "text/plain": [
       "Ano 1º Sintoma(s)    2020.0\n",
       "IGN/EM BRANCO          10.6\n",
       "MCC                   118.6\n",
       "MM                    147.4\n",
       "MM+MCC                 99.4\n",
       "MTBC                   91.2\n",
       "MB                    979.0\n",
       "MNE                   790.2\n",
       "MV                   3500.4\n",
       "MOE                   203.0\n",
       "MH                     63.0\n",
       "MP                    438.6\n",
       "dtype: float64"
      ]
     },
     "metadata": {},
     "output_type": "display_data"
    },
    {
     "data": {
      "text/plain": [
       "'\\nDesvio Padrão:'"
      ]
     },
     "metadata": {},
     "output_type": "display_data"
    },
    {
     "data": {
      "text/plain": [
       "Ano 1º Sintoma(s)       1.581139\n",
       "IGN/EM BRANCO           2.408319\n",
       "MCC                    67.777577\n",
       "MM                     70.023567\n",
       "MM+MCC                 68.668042\n",
       "MTBC                   19.626513\n",
       "MB                    408.545591\n",
       "MNE                   249.994400\n",
       "MV                   1956.259134\n",
       "MOE                    43.376261\n",
       "MH                     33.346664\n",
       "MP                    228.572308\n",
       "dtype: float64"
      ]
     },
     "metadata": {},
     "output_type": "display_data"
    }
   ],
   "source": [
    "# Calcula a descrição estatística do DataFrame\n",
    "descricao = etiologia_sd.describe()\n",
    "\n",
    "# Calcula a média das colunas\n",
    "media = etiologia_sd.mean()\n",
    "\n",
    "# Calcula o desvio padrão das colunas\n",
    "desvio_padrao = etiologia_sd.std()\n",
    "\n",
    "# Exibe a descrição estatística\n",
    "display(\"Descrição estatística:\")\n",
    "display(descricao)\n",
    "\n",
    "# Exibe a média e o desvio padrão\n",
    "display(\"\\nMédia:\")\n",
    "display(media)\n",
    "display(\"\\nDesvio Padrão:\")\n",
    "display(desvio_padrao) \n"
   ]
  },
  {
   "cell_type": "code",
   "execution_count": 47,
   "id": "d5cf7c85",
   "metadata": {
    "scrolled": true
   },
   "outputs": [
    {
     "name": "stdout",
     "output_type": "stream",
     "text": [
      "   Ano 1º Sintoma(s)  IGN/EM BRANCO   MCC    MM  MM+MCC  MTBC     MB    MNE  \\\n",
      "0                NaN            6.0   7.0  43.0    11.0   6.0  106.0  164.0   \n",
      "1                NaN            4.0  17.0  29.0     7.0  10.0   84.0  250.0   \n",
      "2                NaN            1.0   2.0  13.0     2.0  13.0   66.0  146.0   \n",
      "3                NaN            0.0   6.0   5.0     1.0  15.0   74.0  109.0   \n",
      "4                NaN            1.0   5.0   6.0     1.0  11.0  114.0  111.0   \n",
      "\n",
      "      MV   MOE    MH    MP  \n",
      "0  144.0  67.0  14.0  53.0  \n",
      "1  143.0  64.0  11.0  53.0  \n",
      "2   66.0  46.0   3.0  21.0  \n",
      "3   67.0  63.0   6.0  18.0  \n",
      "4   82.0  60.0  12.0  39.0  \n"
     ]
    }
   ],
   "source": [
    "etiologia_sd.isnull().sum()\n",
    "print (etiologia_sd)"
   ]
  },
  {
   "cell_type": "code",
   "execution_count": 65,
   "id": "8de18cd1",
   "metadata": {},
   "outputs": [
    {
     "data": {
      "text/html": [
       "<div>\n",
       "<style scoped>\n",
       "    .dataframe tbody tr th:only-of-type {\n",
       "        vertical-align: middle;\n",
       "    }\n",
       "\n",
       "    .dataframe tbody tr th {\n",
       "        vertical-align: top;\n",
       "    }\n",
       "\n",
       "    .dataframe thead th {\n",
       "        text-align: right;\n",
       "    }\n",
       "</style>\n",
       "<table border=\"1\" class=\"dataframe\">\n",
       "  <thead>\n",
       "    <tr style=\"text-align: right;\">\n",
       "      <th></th>\n",
       "      <th>Ano 1º Sintoma(s)</th>\n",
       "      <th>Em branco/IGN</th>\n",
       "      <th>&lt;1 Ano</th>\n",
       "      <th>01-04</th>\n",
       "      <th>05-09</th>\n",
       "      <th>10-14</th>\n",
       "      <th>15-19</th>\n",
       "      <th>20-39</th>\n",
       "      <th>40-59</th>\n",
       "      <th>60-64</th>\n",
       "      <th>65-69</th>\n",
       "      <th>70-79</th>\n",
       "      <th>80 e +</th>\n",
       "      <th>Total</th>\n",
       "    </tr>\n",
       "  </thead>\n",
       "  <tbody>\n",
       "    <tr>\n",
       "      <th>0</th>\n",
       "      <td>2018</td>\n",
       "      <td>-</td>\n",
       "      <td>1735</td>\n",
       "      <td>2240</td>\n",
       "      <td>1301</td>\n",
       "      <td>577</td>\n",
       "      <td>373</td>\n",
       "      <td>1665</td>\n",
       "      <td>1325</td>\n",
       "      <td>290</td>\n",
       "      <td>205</td>\n",
       "      <td>247</td>\n",
       "      <td>108</td>\n",
       "      <td>10066</td>\n",
       "    </tr>\n",
       "    <tr>\n",
       "      <th>1</th>\n",
       "      <td>2019</td>\n",
       "      <td>-</td>\n",
       "      <td>1496</td>\n",
       "      <td>2020</td>\n",
       "      <td>1097</td>\n",
       "      <td>464</td>\n",
       "      <td>323</td>\n",
       "      <td>1515</td>\n",
       "      <td>1148</td>\n",
       "      <td>266</td>\n",
       "      <td>217</td>\n",
       "      <td>219</td>\n",
       "      <td>104</td>\n",
       "      <td>8869</td>\n",
       "    </tr>\n",
       "    <tr>\n",
       "      <th>2</th>\n",
       "      <td>2020</td>\n",
       "      <td>-</td>\n",
       "      <td>886</td>\n",
       "      <td>413</td>\n",
       "      <td>190</td>\n",
       "      <td>167</td>\n",
       "      <td>152</td>\n",
       "      <td>720</td>\n",
       "      <td>645</td>\n",
       "      <td>130</td>\n",
       "      <td>104</td>\n",
       "      <td>156</td>\n",
       "      <td>59</td>\n",
       "      <td>3622</td>\n",
       "    </tr>\n",
       "    <tr>\n",
       "      <th>3</th>\n",
       "      <td>2021</td>\n",
       "      <td>-</td>\n",
       "      <td>737</td>\n",
       "      <td>318</td>\n",
       "      <td>164</td>\n",
       "      <td>139</td>\n",
       "      <td>123</td>\n",
       "      <td>659</td>\n",
       "      <td>625</td>\n",
       "      <td>124</td>\n",
       "      <td>127</td>\n",
       "      <td>144</td>\n",
       "      <td>62</td>\n",
       "      <td>3222</td>\n",
       "    </tr>\n",
       "    <tr>\n",
       "      <th>4</th>\n",
       "      <td>2022</td>\n",
       "      <td>-</td>\n",
       "      <td>862</td>\n",
       "      <td>1451</td>\n",
       "      <td>809</td>\n",
       "      <td>288</td>\n",
       "      <td>213</td>\n",
       "      <td>1029</td>\n",
       "      <td>1033</td>\n",
       "      <td>209</td>\n",
       "      <td>178</td>\n",
       "      <td>260</td>\n",
       "      <td>113</td>\n",
       "      <td>6445</td>\n",
       "    </tr>\n",
       "    <tr>\n",
       "      <th>5</th>\n",
       "      <td>Total</td>\n",
       "      <td>-</td>\n",
       "      <td>5716</td>\n",
       "      <td>6442</td>\n",
       "      <td>3561</td>\n",
       "      <td>1635</td>\n",
       "      <td>1184</td>\n",
       "      <td>5588</td>\n",
       "      <td>4776</td>\n",
       "      <td>1019</td>\n",
       "      <td>831</td>\n",
       "      <td>1026</td>\n",
       "      <td>446</td>\n",
       "      <td>32224</td>\n",
       "    </tr>\n",
       "  </tbody>\n",
       "</table>\n",
       "</div>"
      ],
      "text/plain": [
       "  Ano 1º Sintoma(s) Em branco/IGN  <1 Ano  01-04  05-09  10-14  15-19  20-39  \\\n",
       "0              2018             -    1735   2240   1301    577    373   1665   \n",
       "1              2019             -    1496   2020   1097    464    323   1515   \n",
       "2              2020             -     886    413    190    167    152    720   \n",
       "3              2021             -     737    318    164    139    123    659   \n",
       "4              2022             -     862   1451    809    288    213   1029   \n",
       "5             Total             -    5716   6442   3561   1635   1184   5588   \n",
       "\n",
       "   40-59  60-64  65-69  70-79  80 e +  Total  \n",
       "0   1325    290    205    247     108  10066  \n",
       "1   1148    266    217    219     104   8869  \n",
       "2    645    130    104    156      59   3622  \n",
       "3    625    124    127    144      62   3222  \n",
       "4   1033    209    178    260     113   6445  \n",
       "5   4776   1019    831   1026     446  32224  "
      ]
     },
     "metadata": {},
     "output_type": "display_data"
    }
   ],
   "source": [
    "# Importar base de dados \"Idade\"\n",
    "idade_sd = pd.read_excel(\"Idade_sudeste.xlsx\")\n",
    "\n",
    "# corrigir informações vazias\n",
    "idade_sd = idade_sd.dropna()\n",
    "\n",
    "# Visualizar tabela \n",
    "display (idade_sd)"
   ]
  },
  {
   "cell_type": "code",
   "execution_count": 66,
   "id": "c0baab6d",
   "metadata": {},
   "outputs": [
    {
     "data": {
      "text/html": [
       "<div>\n",
       "<style scoped>\n",
       "    .dataframe tbody tr th:only-of-type {\n",
       "        vertical-align: middle;\n",
       "    }\n",
       "\n",
       "    .dataframe tbody tr th {\n",
       "        vertical-align: top;\n",
       "    }\n",
       "\n",
       "    .dataframe thead th {\n",
       "        text-align: right;\n",
       "    }\n",
       "</style>\n",
       "<table border=\"1\" class=\"dataframe\">\n",
       "  <thead>\n",
       "    <tr style=\"text-align: right;\">\n",
       "      <th></th>\n",
       "      <th>Ano 1º Sintoma(s)</th>\n",
       "      <th>&lt;1 Ano</th>\n",
       "      <th>01-04</th>\n",
       "      <th>05-09</th>\n",
       "      <th>10-14</th>\n",
       "      <th>15-19</th>\n",
       "      <th>20-39</th>\n",
       "      <th>40-59</th>\n",
       "      <th>60-64</th>\n",
       "      <th>65-69</th>\n",
       "      <th>70-79</th>\n",
       "      <th>80 e +</th>\n",
       "    </tr>\n",
       "  </thead>\n",
       "  <tbody>\n",
       "    <tr>\n",
       "      <th>0</th>\n",
       "      <td>2018</td>\n",
       "      <td>1735</td>\n",
       "      <td>2240</td>\n",
       "      <td>1301</td>\n",
       "      <td>577</td>\n",
       "      <td>373</td>\n",
       "      <td>1665</td>\n",
       "      <td>1325</td>\n",
       "      <td>290</td>\n",
       "      <td>205</td>\n",
       "      <td>247</td>\n",
       "      <td>108</td>\n",
       "    </tr>\n",
       "    <tr>\n",
       "      <th>1</th>\n",
       "      <td>2019</td>\n",
       "      <td>1496</td>\n",
       "      <td>2020</td>\n",
       "      <td>1097</td>\n",
       "      <td>464</td>\n",
       "      <td>323</td>\n",
       "      <td>1515</td>\n",
       "      <td>1148</td>\n",
       "      <td>266</td>\n",
       "      <td>217</td>\n",
       "      <td>219</td>\n",
       "      <td>104</td>\n",
       "    </tr>\n",
       "    <tr>\n",
       "      <th>2</th>\n",
       "      <td>2020</td>\n",
       "      <td>886</td>\n",
       "      <td>413</td>\n",
       "      <td>190</td>\n",
       "      <td>167</td>\n",
       "      <td>152</td>\n",
       "      <td>720</td>\n",
       "      <td>645</td>\n",
       "      <td>130</td>\n",
       "      <td>104</td>\n",
       "      <td>156</td>\n",
       "      <td>59</td>\n",
       "    </tr>\n",
       "    <tr>\n",
       "      <th>3</th>\n",
       "      <td>2021</td>\n",
       "      <td>737</td>\n",
       "      <td>318</td>\n",
       "      <td>164</td>\n",
       "      <td>139</td>\n",
       "      <td>123</td>\n",
       "      <td>659</td>\n",
       "      <td>625</td>\n",
       "      <td>124</td>\n",
       "      <td>127</td>\n",
       "      <td>144</td>\n",
       "      <td>62</td>\n",
       "    </tr>\n",
       "    <tr>\n",
       "      <th>4</th>\n",
       "      <td>2022</td>\n",
       "      <td>862</td>\n",
       "      <td>1451</td>\n",
       "      <td>809</td>\n",
       "      <td>288</td>\n",
       "      <td>213</td>\n",
       "      <td>1029</td>\n",
       "      <td>1033</td>\n",
       "      <td>209</td>\n",
       "      <td>178</td>\n",
       "      <td>260</td>\n",
       "      <td>113</td>\n",
       "    </tr>\n",
       "  </tbody>\n",
       "</table>\n",
       "</div>"
      ],
      "text/plain": [
       "  Ano 1º Sintoma(s)  <1 Ano  01-04  05-09  10-14  15-19  20-39  40-59  60-64  \\\n",
       "0              2018    1735   2240   1301    577    373   1665   1325    290   \n",
       "1              2019    1496   2020   1097    464    323   1515   1148    266   \n",
       "2              2020     886    413    190    167    152    720    645    130   \n",
       "3              2021     737    318    164    139    123    659    625    124   \n",
       "4              2022     862   1451    809    288    213   1029   1033    209   \n",
       "\n",
       "   65-69  70-79  80 e +  \n",
       "0    205    247     108  \n",
       "1    217    219     104  \n",
       "2    104    156      59  \n",
       "3    127    144      62  \n",
       "4    178    260     113  "
      ]
     },
     "metadata": {},
     "output_type": "display_data"
    }
   ],
   "source": [
    "# Deletar a coluna \"Em branco/IGN\", pois há muitos campos em branco, o que a torna inútil\n",
    "idade_sd = idade_sd.drop('Em branco/IGN', axis=1)\n",
    "idade_sd = idade_sd.drop('Total', axis=1)\n",
    "idade_sd = idade_sd.drop(5, axis=0)\n",
    "\n",
    "# Visualizar tabela corrigida\n",
    "display (idade_sd)"
   ]
  },
  {
   "cell_type": "code",
   "execution_count": 68,
   "id": "8e663a62",
   "metadata": {},
   "outputs": [
    {
     "data": {
      "application/vnd.plotly.v1+json": {
       "config": {
        "plotlyServerURL": "https://plot.ly"
       },
       "data": [
        {
         "mode": "lines",
         "name": "<1 Ano",
         "type": "scatter",
         "x": [
          2018,
          2019,
          2020,
          2021,
          2022
         ],
         "y": [
          1735,
          1496,
          886,
          737,
          862
         ]
        },
        {
         "mode": "lines",
         "name": "01-04",
         "type": "scatter",
         "x": [
          2018,
          2019,
          2020,
          2021,
          2022
         ],
         "y": [
          2240,
          2020,
          413,
          318,
          1451
         ]
        },
        {
         "mode": "lines",
         "name": "05-09",
         "type": "scatter",
         "x": [
          2018,
          2019,
          2020,
          2021,
          2022
         ],
         "y": [
          1301,
          1097,
          190,
          164,
          809
         ]
        },
        {
         "mode": "lines",
         "name": "10-14",
         "type": "scatter",
         "x": [
          2018,
          2019,
          2020,
          2021,
          2022
         ],
         "y": [
          577,
          464,
          167,
          139,
          288
         ]
        },
        {
         "mode": "lines",
         "name": "15-19",
         "type": "scatter",
         "x": [
          2018,
          2019,
          2020,
          2021,
          2022
         ],
         "y": [
          373,
          323,
          152,
          123,
          213
         ]
        },
        {
         "mode": "lines",
         "name": "20-39",
         "type": "scatter",
         "x": [
          2018,
          2019,
          2020,
          2021,
          2022
         ],
         "y": [
          1665,
          1515,
          720,
          659,
          1029
         ]
        },
        {
         "mode": "lines",
         "name": "40-59",
         "type": "scatter",
         "x": [
          2018,
          2019,
          2020,
          2021,
          2022
         ],
         "y": [
          1325,
          1148,
          645,
          625,
          1033
         ]
        },
        {
         "mode": "lines",
         "name": "60-64",
         "type": "scatter",
         "x": [
          2018,
          2019,
          2020,
          2021,
          2022
         ],
         "y": [
          290,
          266,
          130,
          124,
          209
         ]
        },
        {
         "mode": "lines",
         "name": "65-69",
         "type": "scatter",
         "x": [
          2018,
          2019,
          2020,
          2021,
          2022
         ],
         "y": [
          205,
          217,
          104,
          127,
          178
         ]
        },
        {
         "mode": "lines",
         "name": "70-79",
         "type": "scatter",
         "x": [
          2018,
          2019,
          2020,
          2021,
          2022
         ],
         "y": [
          247,
          219,
          156,
          144,
          260
         ]
        },
        {
         "mode": "lines",
         "name": "80 e +",
         "type": "scatter",
         "x": [
          2018,
          2019,
          2020,
          2021,
          2022
         ],
         "y": [
          108,
          104,
          59,
          62,
          113
         ]
        }
       ],
       "layout": {
        "hovermode": "x",
        "template": {
         "data": {
          "bar": [
           {
            "error_x": {
             "color": "#2a3f5f"
            },
            "error_y": {
             "color": "#2a3f5f"
            },
            "marker": {
             "line": {
              "color": "#E5ECF6",
              "width": 0.5
             },
             "pattern": {
              "fillmode": "overlay",
              "size": 10,
              "solidity": 0.2
             }
            },
            "type": "bar"
           }
          ],
          "barpolar": [
           {
            "marker": {
             "line": {
              "color": "#E5ECF6",
              "width": 0.5
             },
             "pattern": {
              "fillmode": "overlay",
              "size": 10,
              "solidity": 0.2
             }
            },
            "type": "barpolar"
           }
          ],
          "carpet": [
           {
            "aaxis": {
             "endlinecolor": "#2a3f5f",
             "gridcolor": "white",
             "linecolor": "white",
             "minorgridcolor": "white",
             "startlinecolor": "#2a3f5f"
            },
            "baxis": {
             "endlinecolor": "#2a3f5f",
             "gridcolor": "white",
             "linecolor": "white",
             "minorgridcolor": "white",
             "startlinecolor": "#2a3f5f"
            },
            "type": "carpet"
           }
          ],
          "choropleth": [
           {
            "colorbar": {
             "outlinewidth": 0,
             "ticks": ""
            },
            "type": "choropleth"
           }
          ],
          "contour": [
           {
            "colorbar": {
             "outlinewidth": 0,
             "ticks": ""
            },
            "colorscale": [
             [
              0,
              "#0d0887"
             ],
             [
              0.1111111111111111,
              "#46039f"
             ],
             [
              0.2222222222222222,
              "#7201a8"
             ],
             [
              0.3333333333333333,
              "#9c179e"
             ],
             [
              0.4444444444444444,
              "#bd3786"
             ],
             [
              0.5555555555555556,
              "#d8576b"
             ],
             [
              0.6666666666666666,
              "#ed7953"
             ],
             [
              0.7777777777777778,
              "#fb9f3a"
             ],
             [
              0.8888888888888888,
              "#fdca26"
             ],
             [
              1,
              "#f0f921"
             ]
            ],
            "type": "contour"
           }
          ],
          "contourcarpet": [
           {
            "colorbar": {
             "outlinewidth": 0,
             "ticks": ""
            },
            "type": "contourcarpet"
           }
          ],
          "heatmap": [
           {
            "colorbar": {
             "outlinewidth": 0,
             "ticks": ""
            },
            "colorscale": [
             [
              0,
              "#0d0887"
             ],
             [
              0.1111111111111111,
              "#46039f"
             ],
             [
              0.2222222222222222,
              "#7201a8"
             ],
             [
              0.3333333333333333,
              "#9c179e"
             ],
             [
              0.4444444444444444,
              "#bd3786"
             ],
             [
              0.5555555555555556,
              "#d8576b"
             ],
             [
              0.6666666666666666,
              "#ed7953"
             ],
             [
              0.7777777777777778,
              "#fb9f3a"
             ],
             [
              0.8888888888888888,
              "#fdca26"
             ],
             [
              1,
              "#f0f921"
             ]
            ],
            "type": "heatmap"
           }
          ],
          "heatmapgl": [
           {
            "colorbar": {
             "outlinewidth": 0,
             "ticks": ""
            },
            "colorscale": [
             [
              0,
              "#0d0887"
             ],
             [
              0.1111111111111111,
              "#46039f"
             ],
             [
              0.2222222222222222,
              "#7201a8"
             ],
             [
              0.3333333333333333,
              "#9c179e"
             ],
             [
              0.4444444444444444,
              "#bd3786"
             ],
             [
              0.5555555555555556,
              "#d8576b"
             ],
             [
              0.6666666666666666,
              "#ed7953"
             ],
             [
              0.7777777777777778,
              "#fb9f3a"
             ],
             [
              0.8888888888888888,
              "#fdca26"
             ],
             [
              1,
              "#f0f921"
             ]
            ],
            "type": "heatmapgl"
           }
          ],
          "histogram": [
           {
            "marker": {
             "pattern": {
              "fillmode": "overlay",
              "size": 10,
              "solidity": 0.2
             }
            },
            "type": "histogram"
           }
          ],
          "histogram2d": [
           {
            "colorbar": {
             "outlinewidth": 0,
             "ticks": ""
            },
            "colorscale": [
             [
              0,
              "#0d0887"
             ],
             [
              0.1111111111111111,
              "#46039f"
             ],
             [
              0.2222222222222222,
              "#7201a8"
             ],
             [
              0.3333333333333333,
              "#9c179e"
             ],
             [
              0.4444444444444444,
              "#bd3786"
             ],
             [
              0.5555555555555556,
              "#d8576b"
             ],
             [
              0.6666666666666666,
              "#ed7953"
             ],
             [
              0.7777777777777778,
              "#fb9f3a"
             ],
             [
              0.8888888888888888,
              "#fdca26"
             ],
             [
              1,
              "#f0f921"
             ]
            ],
            "type": "histogram2d"
           }
          ],
          "histogram2dcontour": [
           {
            "colorbar": {
             "outlinewidth": 0,
             "ticks": ""
            },
            "colorscale": [
             [
              0,
              "#0d0887"
             ],
             [
              0.1111111111111111,
              "#46039f"
             ],
             [
              0.2222222222222222,
              "#7201a8"
             ],
             [
              0.3333333333333333,
              "#9c179e"
             ],
             [
              0.4444444444444444,
              "#bd3786"
             ],
             [
              0.5555555555555556,
              "#d8576b"
             ],
             [
              0.6666666666666666,
              "#ed7953"
             ],
             [
              0.7777777777777778,
              "#fb9f3a"
             ],
             [
              0.8888888888888888,
              "#fdca26"
             ],
             [
              1,
              "#f0f921"
             ]
            ],
            "type": "histogram2dcontour"
           }
          ],
          "mesh3d": [
           {
            "colorbar": {
             "outlinewidth": 0,
             "ticks": ""
            },
            "type": "mesh3d"
           }
          ],
          "parcoords": [
           {
            "line": {
             "colorbar": {
              "outlinewidth": 0,
              "ticks": ""
             }
            },
            "type": "parcoords"
           }
          ],
          "pie": [
           {
            "automargin": true,
            "type": "pie"
           }
          ],
          "scatter": [
           {
            "fillpattern": {
             "fillmode": "overlay",
             "size": 10,
             "solidity": 0.2
            },
            "type": "scatter"
           }
          ],
          "scatter3d": [
           {
            "line": {
             "colorbar": {
              "outlinewidth": 0,
              "ticks": ""
             }
            },
            "marker": {
             "colorbar": {
              "outlinewidth": 0,
              "ticks": ""
             }
            },
            "type": "scatter3d"
           }
          ],
          "scattercarpet": [
           {
            "marker": {
             "colorbar": {
              "outlinewidth": 0,
              "ticks": ""
             }
            },
            "type": "scattercarpet"
           }
          ],
          "scattergeo": [
           {
            "marker": {
             "colorbar": {
              "outlinewidth": 0,
              "ticks": ""
             }
            },
            "type": "scattergeo"
           }
          ],
          "scattergl": [
           {
            "marker": {
             "colorbar": {
              "outlinewidth": 0,
              "ticks": ""
             }
            },
            "type": "scattergl"
           }
          ],
          "scattermapbox": [
           {
            "marker": {
             "colorbar": {
              "outlinewidth": 0,
              "ticks": ""
             }
            },
            "type": "scattermapbox"
           }
          ],
          "scatterpolar": [
           {
            "marker": {
             "colorbar": {
              "outlinewidth": 0,
              "ticks": ""
             }
            },
            "type": "scatterpolar"
           }
          ],
          "scatterpolargl": [
           {
            "marker": {
             "colorbar": {
              "outlinewidth": 0,
              "ticks": ""
             }
            },
            "type": "scatterpolargl"
           }
          ],
          "scatterternary": [
           {
            "marker": {
             "colorbar": {
              "outlinewidth": 0,
              "ticks": ""
             }
            },
            "type": "scatterternary"
           }
          ],
          "surface": [
           {
            "colorbar": {
             "outlinewidth": 0,
             "ticks": ""
            },
            "colorscale": [
             [
              0,
              "#0d0887"
             ],
             [
              0.1111111111111111,
              "#46039f"
             ],
             [
              0.2222222222222222,
              "#7201a8"
             ],
             [
              0.3333333333333333,
              "#9c179e"
             ],
             [
              0.4444444444444444,
              "#bd3786"
             ],
             [
              0.5555555555555556,
              "#d8576b"
             ],
             [
              0.6666666666666666,
              "#ed7953"
             ],
             [
              0.7777777777777778,
              "#fb9f3a"
             ],
             [
              0.8888888888888888,
              "#fdca26"
             ],
             [
              1,
              "#f0f921"
             ]
            ],
            "type": "surface"
           }
          ],
          "table": [
           {
            "cells": {
             "fill": {
              "color": "#EBF0F8"
             },
             "line": {
              "color": "white"
             }
            },
            "header": {
             "fill": {
              "color": "#C8D4E3"
             },
             "line": {
              "color": "white"
             }
            },
            "type": "table"
           }
          ]
         },
         "layout": {
          "annotationdefaults": {
           "arrowcolor": "#2a3f5f",
           "arrowhead": 0,
           "arrowwidth": 1
          },
          "autotypenumbers": "strict",
          "coloraxis": {
           "colorbar": {
            "outlinewidth": 0,
            "ticks": ""
           }
          },
          "colorscale": {
           "diverging": [
            [
             0,
             "#8e0152"
            ],
            [
             0.1,
             "#c51b7d"
            ],
            [
             0.2,
             "#de77ae"
            ],
            [
             0.3,
             "#f1b6da"
            ],
            [
             0.4,
             "#fde0ef"
            ],
            [
             0.5,
             "#f7f7f7"
            ],
            [
             0.6,
             "#e6f5d0"
            ],
            [
             0.7,
             "#b8e186"
            ],
            [
             0.8,
             "#7fbc41"
            ],
            [
             0.9,
             "#4d9221"
            ],
            [
             1,
             "#276419"
            ]
           ],
           "sequential": [
            [
             0,
             "#0d0887"
            ],
            [
             0.1111111111111111,
             "#46039f"
            ],
            [
             0.2222222222222222,
             "#7201a8"
            ],
            [
             0.3333333333333333,
             "#9c179e"
            ],
            [
             0.4444444444444444,
             "#bd3786"
            ],
            [
             0.5555555555555556,
             "#d8576b"
            ],
            [
             0.6666666666666666,
             "#ed7953"
            ],
            [
             0.7777777777777778,
             "#fb9f3a"
            ],
            [
             0.8888888888888888,
             "#fdca26"
            ],
            [
             1,
             "#f0f921"
            ]
           ],
           "sequentialminus": [
            [
             0,
             "#0d0887"
            ],
            [
             0.1111111111111111,
             "#46039f"
            ],
            [
             0.2222222222222222,
             "#7201a8"
            ],
            [
             0.3333333333333333,
             "#9c179e"
            ],
            [
             0.4444444444444444,
             "#bd3786"
            ],
            [
             0.5555555555555556,
             "#d8576b"
            ],
            [
             0.6666666666666666,
             "#ed7953"
            ],
            [
             0.7777777777777778,
             "#fb9f3a"
            ],
            [
             0.8888888888888888,
             "#fdca26"
            ],
            [
             1,
             "#f0f921"
            ]
           ]
          },
          "colorway": [
           "#636efa",
           "#EF553B",
           "#00cc96",
           "#ab63fa",
           "#FFA15A",
           "#19d3f3",
           "#FF6692",
           "#B6E880",
           "#FF97FF",
           "#FECB52"
          ],
          "font": {
           "color": "#2a3f5f"
          },
          "geo": {
           "bgcolor": "white",
           "lakecolor": "white",
           "landcolor": "#E5ECF6",
           "showlakes": true,
           "showland": true,
           "subunitcolor": "white"
          },
          "hoverlabel": {
           "align": "left"
          },
          "hovermode": "closest",
          "mapbox": {
           "style": "light"
          },
          "paper_bgcolor": "white",
          "plot_bgcolor": "#E5ECF6",
          "polar": {
           "angularaxis": {
            "gridcolor": "white",
            "linecolor": "white",
            "ticks": ""
           },
           "bgcolor": "#E5ECF6",
           "radialaxis": {
            "gridcolor": "white",
            "linecolor": "white",
            "ticks": ""
           }
          },
          "scene": {
           "xaxis": {
            "backgroundcolor": "#E5ECF6",
            "gridcolor": "white",
            "gridwidth": 2,
            "linecolor": "white",
            "showbackground": true,
            "ticks": "",
            "zerolinecolor": "white"
           },
           "yaxis": {
            "backgroundcolor": "#E5ECF6",
            "gridcolor": "white",
            "gridwidth": 2,
            "linecolor": "white",
            "showbackground": true,
            "ticks": "",
            "zerolinecolor": "white"
           },
           "zaxis": {
            "backgroundcolor": "#E5ECF6",
            "gridcolor": "white",
            "gridwidth": 2,
            "linecolor": "white",
            "showbackground": true,
            "ticks": "",
            "zerolinecolor": "white"
           }
          },
          "shapedefaults": {
           "line": {
            "color": "#2a3f5f"
           }
          },
          "ternary": {
           "aaxis": {
            "gridcolor": "white",
            "linecolor": "white",
            "ticks": ""
           },
           "baxis": {
            "gridcolor": "white",
            "linecolor": "white",
            "ticks": ""
           },
           "bgcolor": "#E5ECF6",
           "caxis": {
            "gridcolor": "white",
            "linecolor": "white",
            "ticks": ""
           }
          },
          "title": {
           "x": 0.05
          },
          "xaxis": {
           "automargin": true,
           "gridcolor": "white",
           "linecolor": "white",
           "ticks": "",
           "title": {
            "standoff": 15
           },
           "zerolinecolor": "white",
           "zerolinewidth": 2
          },
          "yaxis": {
           "automargin": true,
           "gridcolor": "white",
           "linecolor": "white",
           "ticks": "",
           "title": {
            "standoff": 15
           },
           "zerolinecolor": "white",
           "zerolinewidth": 2
          }
         }
        },
        "title": {
         "text": "Idade - Região Sudeste"
        },
        "xaxis": {
         "title": {
          "text": "Ano 1º Sintoma(s)"
         }
        },
        "yaxis": {
         "title": {
          "text": "Valores"
         }
        }
       }
      },
      "text/html": [
       "<div>                            <div id=\"ca72012c-3711-42ef-b944-c0da76ec924a\" class=\"plotly-graph-div\" style=\"height:525px; width:100%;\"></div>            <script type=\"text/javascript\">                require([\"plotly\"], function(Plotly) {                    window.PLOTLYENV=window.PLOTLYENV || {};                                    if (document.getElementById(\"ca72012c-3711-42ef-b944-c0da76ec924a\")) {                    Plotly.newPlot(                        \"ca72012c-3711-42ef-b944-c0da76ec924a\",                        [{\"mode\":\"lines\",\"name\":\"<1 Ano\",\"x\":[2018,2019,2020,2021,2022],\"y\":[1735,1496,886,737,862],\"type\":\"scatter\"},{\"mode\":\"lines\",\"name\":\"01-04\",\"x\":[2018,2019,2020,2021,2022],\"y\":[2240,2020,413,318,1451],\"type\":\"scatter\"},{\"mode\":\"lines\",\"name\":\"05-09\",\"x\":[2018,2019,2020,2021,2022],\"y\":[1301,1097,190,164,809],\"type\":\"scatter\"},{\"mode\":\"lines\",\"name\":\"10-14\",\"x\":[2018,2019,2020,2021,2022],\"y\":[577,464,167,139,288],\"type\":\"scatter\"},{\"mode\":\"lines\",\"name\":\"15-19\",\"x\":[2018,2019,2020,2021,2022],\"y\":[373,323,152,123,213],\"type\":\"scatter\"},{\"mode\":\"lines\",\"name\":\"20-39\",\"x\":[2018,2019,2020,2021,2022],\"y\":[1665,1515,720,659,1029],\"type\":\"scatter\"},{\"mode\":\"lines\",\"name\":\"40-59\",\"x\":[2018,2019,2020,2021,2022],\"y\":[1325,1148,645,625,1033],\"type\":\"scatter\"},{\"mode\":\"lines\",\"name\":\"60-64\",\"x\":[2018,2019,2020,2021,2022],\"y\":[290,266,130,124,209],\"type\":\"scatter\"},{\"mode\":\"lines\",\"name\":\"65-69\",\"x\":[2018,2019,2020,2021,2022],\"y\":[205,217,104,127,178],\"type\":\"scatter\"},{\"mode\":\"lines\",\"name\":\"70-79\",\"x\":[2018,2019,2020,2021,2022],\"y\":[247,219,156,144,260],\"type\":\"scatter\"},{\"mode\":\"lines\",\"name\":\"80 e +\",\"x\":[2018,2019,2020,2021,2022],\"y\":[108,104,59,62,113],\"type\":\"scatter\"}],                        {\"template\":{\"data\":{\"histogram2dcontour\":[{\"type\":\"histogram2dcontour\",\"colorbar\":{\"outlinewidth\":0,\"ticks\":\"\"},\"colorscale\":[[0.0,\"#0d0887\"],[0.1111111111111111,\"#46039f\"],[0.2222222222222222,\"#7201a8\"],[0.3333333333333333,\"#9c179e\"],[0.4444444444444444,\"#bd3786\"],[0.5555555555555556,\"#d8576b\"],[0.6666666666666666,\"#ed7953\"],[0.7777777777777778,\"#fb9f3a\"],[0.8888888888888888,\"#fdca26\"],[1.0,\"#f0f921\"]]}],\"choropleth\":[{\"type\":\"choropleth\",\"colorbar\":{\"outlinewidth\":0,\"ticks\":\"\"}}],\"histogram2d\":[{\"type\":\"histogram2d\",\"colorbar\":{\"outlinewidth\":0,\"ticks\":\"\"},\"colorscale\":[[0.0,\"#0d0887\"],[0.1111111111111111,\"#46039f\"],[0.2222222222222222,\"#7201a8\"],[0.3333333333333333,\"#9c179e\"],[0.4444444444444444,\"#bd3786\"],[0.5555555555555556,\"#d8576b\"],[0.6666666666666666,\"#ed7953\"],[0.7777777777777778,\"#fb9f3a\"],[0.8888888888888888,\"#fdca26\"],[1.0,\"#f0f921\"]]}],\"heatmap\":[{\"type\":\"heatmap\",\"colorbar\":{\"outlinewidth\":0,\"ticks\":\"\"},\"colorscale\":[[0.0,\"#0d0887\"],[0.1111111111111111,\"#46039f\"],[0.2222222222222222,\"#7201a8\"],[0.3333333333333333,\"#9c179e\"],[0.4444444444444444,\"#bd3786\"],[0.5555555555555556,\"#d8576b\"],[0.6666666666666666,\"#ed7953\"],[0.7777777777777778,\"#fb9f3a\"],[0.8888888888888888,\"#fdca26\"],[1.0,\"#f0f921\"]]}],\"heatmapgl\":[{\"type\":\"heatmapgl\",\"colorbar\":{\"outlinewidth\":0,\"ticks\":\"\"},\"colorscale\":[[0.0,\"#0d0887\"],[0.1111111111111111,\"#46039f\"],[0.2222222222222222,\"#7201a8\"],[0.3333333333333333,\"#9c179e\"],[0.4444444444444444,\"#bd3786\"],[0.5555555555555556,\"#d8576b\"],[0.6666666666666666,\"#ed7953\"],[0.7777777777777778,\"#fb9f3a\"],[0.8888888888888888,\"#fdca26\"],[1.0,\"#f0f921\"]]}],\"contourcarpet\":[{\"type\":\"contourcarpet\",\"colorbar\":{\"outlinewidth\":0,\"ticks\":\"\"}}],\"contour\":[{\"type\":\"contour\",\"colorbar\":{\"outlinewidth\":0,\"ticks\":\"\"},\"colorscale\":[[0.0,\"#0d0887\"],[0.1111111111111111,\"#46039f\"],[0.2222222222222222,\"#7201a8\"],[0.3333333333333333,\"#9c179e\"],[0.4444444444444444,\"#bd3786\"],[0.5555555555555556,\"#d8576b\"],[0.6666666666666666,\"#ed7953\"],[0.7777777777777778,\"#fb9f3a\"],[0.8888888888888888,\"#fdca26\"],[1.0,\"#f0f921\"]]}],\"surface\":[{\"type\":\"surface\",\"colorbar\":{\"outlinewidth\":0,\"ticks\":\"\"},\"colorscale\":[[0.0,\"#0d0887\"],[0.1111111111111111,\"#46039f\"],[0.2222222222222222,\"#7201a8\"],[0.3333333333333333,\"#9c179e\"],[0.4444444444444444,\"#bd3786\"],[0.5555555555555556,\"#d8576b\"],[0.6666666666666666,\"#ed7953\"],[0.7777777777777778,\"#fb9f3a\"],[0.8888888888888888,\"#fdca26\"],[1.0,\"#f0f921\"]]}],\"mesh3d\":[{\"type\":\"mesh3d\",\"colorbar\":{\"outlinewidth\":0,\"ticks\":\"\"}}],\"scatter\":[{\"fillpattern\":{\"fillmode\":\"overlay\",\"size\":10,\"solidity\":0.2},\"type\":\"scatter\"}],\"parcoords\":[{\"type\":\"parcoords\",\"line\":{\"colorbar\":{\"outlinewidth\":0,\"ticks\":\"\"}}}],\"scatterpolargl\":[{\"type\":\"scatterpolargl\",\"marker\":{\"colorbar\":{\"outlinewidth\":0,\"ticks\":\"\"}}}],\"bar\":[{\"error_x\":{\"color\":\"#2a3f5f\"},\"error_y\":{\"color\":\"#2a3f5f\"},\"marker\":{\"line\":{\"color\":\"#E5ECF6\",\"width\":0.5},\"pattern\":{\"fillmode\":\"overlay\",\"size\":10,\"solidity\":0.2}},\"type\":\"bar\"}],\"scattergeo\":[{\"type\":\"scattergeo\",\"marker\":{\"colorbar\":{\"outlinewidth\":0,\"ticks\":\"\"}}}],\"scatterpolar\":[{\"type\":\"scatterpolar\",\"marker\":{\"colorbar\":{\"outlinewidth\":0,\"ticks\":\"\"}}}],\"histogram\":[{\"marker\":{\"pattern\":{\"fillmode\":\"overlay\",\"size\":10,\"solidity\":0.2}},\"type\":\"histogram\"}],\"scattergl\":[{\"type\":\"scattergl\",\"marker\":{\"colorbar\":{\"outlinewidth\":0,\"ticks\":\"\"}}}],\"scatter3d\":[{\"type\":\"scatter3d\",\"line\":{\"colorbar\":{\"outlinewidth\":0,\"ticks\":\"\"}},\"marker\":{\"colorbar\":{\"outlinewidth\":0,\"ticks\":\"\"}}}],\"scattermapbox\":[{\"type\":\"scattermapbox\",\"marker\":{\"colorbar\":{\"outlinewidth\":0,\"ticks\":\"\"}}}],\"scatterternary\":[{\"type\":\"scatterternary\",\"marker\":{\"colorbar\":{\"outlinewidth\":0,\"ticks\":\"\"}}}],\"scattercarpet\":[{\"type\":\"scattercarpet\",\"marker\":{\"colorbar\":{\"outlinewidth\":0,\"ticks\":\"\"}}}],\"carpet\":[{\"aaxis\":{\"endlinecolor\":\"#2a3f5f\",\"gridcolor\":\"white\",\"linecolor\":\"white\",\"minorgridcolor\":\"white\",\"startlinecolor\":\"#2a3f5f\"},\"baxis\":{\"endlinecolor\":\"#2a3f5f\",\"gridcolor\":\"white\",\"linecolor\":\"white\",\"minorgridcolor\":\"white\",\"startlinecolor\":\"#2a3f5f\"},\"type\":\"carpet\"}],\"table\":[{\"cells\":{\"fill\":{\"color\":\"#EBF0F8\"},\"line\":{\"color\":\"white\"}},\"header\":{\"fill\":{\"color\":\"#C8D4E3\"},\"line\":{\"color\":\"white\"}},\"type\":\"table\"}],\"barpolar\":[{\"marker\":{\"line\":{\"color\":\"#E5ECF6\",\"width\":0.5},\"pattern\":{\"fillmode\":\"overlay\",\"size\":10,\"solidity\":0.2}},\"type\":\"barpolar\"}],\"pie\":[{\"automargin\":true,\"type\":\"pie\"}]},\"layout\":{\"autotypenumbers\":\"strict\",\"colorway\":[\"#636efa\",\"#EF553B\",\"#00cc96\",\"#ab63fa\",\"#FFA15A\",\"#19d3f3\",\"#FF6692\",\"#B6E880\",\"#FF97FF\",\"#FECB52\"],\"font\":{\"color\":\"#2a3f5f\"},\"hovermode\":\"closest\",\"hoverlabel\":{\"align\":\"left\"},\"paper_bgcolor\":\"white\",\"plot_bgcolor\":\"#E5ECF6\",\"polar\":{\"bgcolor\":\"#E5ECF6\",\"angularaxis\":{\"gridcolor\":\"white\",\"linecolor\":\"white\",\"ticks\":\"\"},\"radialaxis\":{\"gridcolor\":\"white\",\"linecolor\":\"white\",\"ticks\":\"\"}},\"ternary\":{\"bgcolor\":\"#E5ECF6\",\"aaxis\":{\"gridcolor\":\"white\",\"linecolor\":\"white\",\"ticks\":\"\"},\"baxis\":{\"gridcolor\":\"white\",\"linecolor\":\"white\",\"ticks\":\"\"},\"caxis\":{\"gridcolor\":\"white\",\"linecolor\":\"white\",\"ticks\":\"\"}},\"coloraxis\":{\"colorbar\":{\"outlinewidth\":0,\"ticks\":\"\"}},\"colorscale\":{\"sequential\":[[0.0,\"#0d0887\"],[0.1111111111111111,\"#46039f\"],[0.2222222222222222,\"#7201a8\"],[0.3333333333333333,\"#9c179e\"],[0.4444444444444444,\"#bd3786\"],[0.5555555555555556,\"#d8576b\"],[0.6666666666666666,\"#ed7953\"],[0.7777777777777778,\"#fb9f3a\"],[0.8888888888888888,\"#fdca26\"],[1.0,\"#f0f921\"]],\"sequentialminus\":[[0.0,\"#0d0887\"],[0.1111111111111111,\"#46039f\"],[0.2222222222222222,\"#7201a8\"],[0.3333333333333333,\"#9c179e\"],[0.4444444444444444,\"#bd3786\"],[0.5555555555555556,\"#d8576b\"],[0.6666666666666666,\"#ed7953\"],[0.7777777777777778,\"#fb9f3a\"],[0.8888888888888888,\"#fdca26\"],[1.0,\"#f0f921\"]],\"diverging\":[[0,\"#8e0152\"],[0.1,\"#c51b7d\"],[0.2,\"#de77ae\"],[0.3,\"#f1b6da\"],[0.4,\"#fde0ef\"],[0.5,\"#f7f7f7\"],[0.6,\"#e6f5d0\"],[0.7,\"#b8e186\"],[0.8,\"#7fbc41\"],[0.9,\"#4d9221\"],[1,\"#276419\"]]},\"xaxis\":{\"gridcolor\":\"white\",\"linecolor\":\"white\",\"ticks\":\"\",\"title\":{\"standoff\":15},\"zerolinecolor\":\"white\",\"automargin\":true,\"zerolinewidth\":2},\"yaxis\":{\"gridcolor\":\"white\",\"linecolor\":\"white\",\"ticks\":\"\",\"title\":{\"standoff\":15},\"zerolinecolor\":\"white\",\"automargin\":true,\"zerolinewidth\":2},\"scene\":{\"xaxis\":{\"backgroundcolor\":\"#E5ECF6\",\"gridcolor\":\"white\",\"linecolor\":\"white\",\"showbackground\":true,\"ticks\":\"\",\"zerolinecolor\":\"white\",\"gridwidth\":2},\"yaxis\":{\"backgroundcolor\":\"#E5ECF6\",\"gridcolor\":\"white\",\"linecolor\":\"white\",\"showbackground\":true,\"ticks\":\"\",\"zerolinecolor\":\"white\",\"gridwidth\":2},\"zaxis\":{\"backgroundcolor\":\"#E5ECF6\",\"gridcolor\":\"white\",\"linecolor\":\"white\",\"showbackground\":true,\"ticks\":\"\",\"zerolinecolor\":\"white\",\"gridwidth\":2}},\"shapedefaults\":{\"line\":{\"color\":\"#2a3f5f\"}},\"annotationdefaults\":{\"arrowcolor\":\"#2a3f5f\",\"arrowhead\":0,\"arrowwidth\":1},\"geo\":{\"bgcolor\":\"white\",\"landcolor\":\"#E5ECF6\",\"subunitcolor\":\"white\",\"showland\":true,\"showlakes\":true,\"lakecolor\":\"white\"},\"title\":{\"x\":0.05},\"mapbox\":{\"style\":\"light\"}}},\"title\":{\"text\":\"Idade - Regi\\u00e3o Sudeste\"},\"xaxis\":{\"title\":{\"text\":\"Ano 1\\u00ba Sintoma(s)\"}},\"yaxis\":{\"title\":{\"text\":\"Valores\"}},\"hovermode\":\"x\"},                        {\"responsive\": true}                    ).then(function(){\n",
       "                            \n",
       "var gd = document.getElementById('ca72012c-3711-42ef-b944-c0da76ec924a');\n",
       "var x = new MutationObserver(function (mutations, observer) {{\n",
       "        var display = window.getComputedStyle(gd).display;\n",
       "        if (!display || display === 'none') {{\n",
       "            console.log([gd, 'removed!']);\n",
       "            Plotly.purge(gd);\n",
       "            observer.disconnect();\n",
       "        }}\n",
       "}});\n",
       "\n",
       "// Listen for the removal of the full notebook cells\n",
       "var notebookContainer = gd.closest('#notebook-container');\n",
       "if (notebookContainer) {{\n",
       "    x.observe(notebookContainer, {childList: true});\n",
       "}}\n",
       "\n",
       "// Listen for the clearing of the current output cell\n",
       "var outputEl = gd.closest('.output');\n",
       "if (outputEl) {{\n",
       "    x.observe(outputEl, {childList: true});\n",
       "}}\n",
       "\n",
       "                        })                };                });            </script>        </div>"
      ]
     },
     "metadata": {},
     "output_type": "display_data"
    }
   ],
   "source": [
    "import plotly.graph_objects as go\n",
    "\n",
    "# Dados da tabela\n",
    "data = {'Ano 1º Sintoma(s)': [2018, 2019, 2020, 2021, 2022],\n",
    "    '<1 Ano': [1735, 1496, 886, 737, 862],\n",
    "    '01-04': [2240, 2020, 413, 318, 1451],\n",
    "    '05-09': [1301, 1097, 190, 164, 809],\n",
    "    '10-14': [577, 464, 167, 139, 288],\n",
    "    '15-19': [373, 323, 152, 123, 213],\n",
    "    '20-39': [1665, 1515, 720, 659, 1029],\n",
    "    '40-59': [1325, 1148, 645, 625, 1033],\n",
    "    '60-64': [290, 266, 130, 124, 209],\n",
    "    '65-69': [205, 217, 104, 127, 178],\n",
    "    '70-79': [247, 219, 156, 144, 260],\n",
    "    '80 e +': [108, 104, 59, 62, 113]\n",
    "    \n",
    "}\n",
    "idade_sd = pd.DataFrame(data)\n",
    "\n",
    "# Criação do gráfico interativo\n",
    "fig = go.Figure()\n",
    "\n",
    "# Adição das linhas no gráfico\n",
    "for column in idade_sd.columns:\n",
    "    if column != 'Ano 1º Sintoma(s)':\n",
    "        fig.add_trace(go.Scatter(x=idade_sd['Ano 1º Sintoma(s)'], y=idade_sd[column], mode='lines', name=column))\n",
    "\n",
    "# Configurações do layout\n",
    "fig.update_layout(\n",
    "    title='Idade - Região Sudeste',\n",
    "    xaxis=dict(title='Ano 1º Sintoma(s)'),\n",
    "    yaxis=dict(title='Valores'),\n",
    "    hovermode='x'\n",
    ")\n",
    "\n",
    "# Exibição do gráfico\n",
    "fig.show()"
   ]
  },
  {
   "cell_type": "code",
   "execution_count": 87,
   "id": "44f9b431",
   "metadata": {},
   "outputs": [
    {
     "data": {
      "text/plain": [
       "'Descrição estatística:'"
      ]
     },
     "metadata": {},
     "output_type": "display_data"
    },
    {
     "data": {
      "text/html": [
       "<div>\n",
       "<style scoped>\n",
       "    .dataframe tbody tr th:only-of-type {\n",
       "        vertical-align: middle;\n",
       "    }\n",
       "\n",
       "    .dataframe tbody tr th {\n",
       "        vertical-align: top;\n",
       "    }\n",
       "\n",
       "    .dataframe thead th {\n",
       "        text-align: right;\n",
       "    }\n",
       "</style>\n",
       "<table border=\"1\" class=\"dataframe\">\n",
       "  <thead>\n",
       "    <tr style=\"text-align: right;\">\n",
       "      <th></th>\n",
       "      <th>Ano 1º Sintoma(s)</th>\n",
       "      <th>&lt;1 Ano</th>\n",
       "      <th>01-04</th>\n",
       "      <th>05-09</th>\n",
       "      <th>10-14</th>\n",
       "      <th>15-19</th>\n",
       "      <th>20-39</th>\n",
       "      <th>40-59</th>\n",
       "      <th>60-64</th>\n",
       "      <th>65-69</th>\n",
       "      <th>70-79</th>\n",
       "      <th>80 e +</th>\n",
       "    </tr>\n",
       "  </thead>\n",
       "  <tbody>\n",
       "    <tr>\n",
       "      <th>count</th>\n",
       "      <td>5.000000</td>\n",
       "      <td>5.000000</td>\n",
       "      <td>5.000000</td>\n",
       "      <td>5.000000</td>\n",
       "      <td>5.000000</td>\n",
       "      <td>5.000000</td>\n",
       "      <td>5.0000</td>\n",
       "      <td>5.000000</td>\n",
       "      <td>5.000000</td>\n",
       "      <td>5.00000</td>\n",
       "      <td>5.000000</td>\n",
       "      <td>5.000000</td>\n",
       "    </tr>\n",
       "    <tr>\n",
       "      <th>mean</th>\n",
       "      <td>2020.000000</td>\n",
       "      <td>1143.200000</td>\n",
       "      <td>1288.400000</td>\n",
       "      <td>712.200000</td>\n",
       "      <td>327.000000</td>\n",
       "      <td>236.800000</td>\n",
       "      <td>1117.6000</td>\n",
       "      <td>955.200000</td>\n",
       "      <td>203.800000</td>\n",
       "      <td>166.20000</td>\n",
       "      <td>205.200000</td>\n",
       "      <td>89.200000</td>\n",
       "    </tr>\n",
       "    <tr>\n",
       "      <th>std</th>\n",
       "      <td>1.581139</td>\n",
       "      <td>442.978216</td>\n",
       "      <td>890.957519</td>\n",
       "      <td>518.975626</td>\n",
       "      <td>189.561336</td>\n",
       "      <td>108.037956</td>\n",
       "      <td>456.5696</td>\n",
       "      <td>310.335625</td>\n",
       "      <td>76.060502</td>\n",
       "      <td>49.06832</td>\n",
       "      <td>52.694402</td>\n",
       "      <td>26.414011</td>\n",
       "    </tr>\n",
       "    <tr>\n",
       "      <th>min</th>\n",
       "      <td>2018.000000</td>\n",
       "      <td>737.000000</td>\n",
       "      <td>318.000000</td>\n",
       "      <td>164.000000</td>\n",
       "      <td>139.000000</td>\n",
       "      <td>123.000000</td>\n",
       "      <td>659.0000</td>\n",
       "      <td>625.000000</td>\n",
       "      <td>124.000000</td>\n",
       "      <td>104.00000</td>\n",
       "      <td>144.000000</td>\n",
       "      <td>59.000000</td>\n",
       "    </tr>\n",
       "    <tr>\n",
       "      <th>25%</th>\n",
       "      <td>2019.000000</td>\n",
       "      <td>862.000000</td>\n",
       "      <td>413.000000</td>\n",
       "      <td>190.000000</td>\n",
       "      <td>167.000000</td>\n",
       "      <td>152.000000</td>\n",
       "      <td>720.0000</td>\n",
       "      <td>645.000000</td>\n",
       "      <td>130.000000</td>\n",
       "      <td>127.00000</td>\n",
       "      <td>156.000000</td>\n",
       "      <td>62.000000</td>\n",
       "    </tr>\n",
       "    <tr>\n",
       "      <th>50%</th>\n",
       "      <td>2020.000000</td>\n",
       "      <td>886.000000</td>\n",
       "      <td>1451.000000</td>\n",
       "      <td>809.000000</td>\n",
       "      <td>288.000000</td>\n",
       "      <td>213.000000</td>\n",
       "      <td>1029.0000</td>\n",
       "      <td>1033.000000</td>\n",
       "      <td>209.000000</td>\n",
       "      <td>178.00000</td>\n",
       "      <td>219.000000</td>\n",
       "      <td>104.000000</td>\n",
       "    </tr>\n",
       "    <tr>\n",
       "      <th>75%</th>\n",
       "      <td>2021.000000</td>\n",
       "      <td>1496.000000</td>\n",
       "      <td>2020.000000</td>\n",
       "      <td>1097.000000</td>\n",
       "      <td>464.000000</td>\n",
       "      <td>323.000000</td>\n",
       "      <td>1515.0000</td>\n",
       "      <td>1148.000000</td>\n",
       "      <td>266.000000</td>\n",
       "      <td>205.00000</td>\n",
       "      <td>247.000000</td>\n",
       "      <td>108.000000</td>\n",
       "    </tr>\n",
       "    <tr>\n",
       "      <th>max</th>\n",
       "      <td>2022.000000</td>\n",
       "      <td>1735.000000</td>\n",
       "      <td>2240.000000</td>\n",
       "      <td>1301.000000</td>\n",
       "      <td>577.000000</td>\n",
       "      <td>373.000000</td>\n",
       "      <td>1665.0000</td>\n",
       "      <td>1325.000000</td>\n",
       "      <td>290.000000</td>\n",
       "      <td>217.00000</td>\n",
       "      <td>260.000000</td>\n",
       "      <td>113.000000</td>\n",
       "    </tr>\n",
       "  </tbody>\n",
       "</table>\n",
       "</div>"
      ],
      "text/plain": [
       "       Ano 1º Sintoma(s)       <1 Ano        01-04        05-09       10-14  \\\n",
       "count           5.000000     5.000000     5.000000     5.000000    5.000000   \n",
       "mean         2020.000000  1143.200000  1288.400000   712.200000  327.000000   \n",
       "std             1.581139   442.978216   890.957519   518.975626  189.561336   \n",
       "min          2018.000000   737.000000   318.000000   164.000000  139.000000   \n",
       "25%          2019.000000   862.000000   413.000000   190.000000  167.000000   \n",
       "50%          2020.000000   886.000000  1451.000000   809.000000  288.000000   \n",
       "75%          2021.000000  1496.000000  2020.000000  1097.000000  464.000000   \n",
       "max          2022.000000  1735.000000  2240.000000  1301.000000  577.000000   \n",
       "\n",
       "            15-19      20-39        40-59       60-64      65-69       70-79  \\\n",
       "count    5.000000     5.0000     5.000000    5.000000    5.00000    5.000000   \n",
       "mean   236.800000  1117.6000   955.200000  203.800000  166.20000  205.200000   \n",
       "std    108.037956   456.5696   310.335625   76.060502   49.06832   52.694402   \n",
       "min    123.000000   659.0000   625.000000  124.000000  104.00000  144.000000   \n",
       "25%    152.000000   720.0000   645.000000  130.000000  127.00000  156.000000   \n",
       "50%    213.000000  1029.0000  1033.000000  209.000000  178.00000  219.000000   \n",
       "75%    323.000000  1515.0000  1148.000000  266.000000  205.00000  247.000000   \n",
       "max    373.000000  1665.0000  1325.000000  290.000000  217.00000  260.000000   \n",
       "\n",
       "           80 e +  \n",
       "count    5.000000  \n",
       "mean    89.200000  \n",
       "std     26.414011  \n",
       "min     59.000000  \n",
       "25%     62.000000  \n",
       "50%    104.000000  \n",
       "75%    108.000000  \n",
       "max    113.000000  "
      ]
     },
     "metadata": {},
     "output_type": "display_data"
    },
    {
     "data": {
      "text/plain": [
       "'\\nMédia:'"
      ]
     },
     "metadata": {},
     "output_type": "display_data"
    },
    {
     "data": {
      "text/plain": [
       "Ano 1º Sintoma(s)    2020.0\n",
       "<1 Ano               1143.2\n",
       "01-04                1288.4\n",
       "05-09                 712.2\n",
       "10-14                 327.0\n",
       "15-19                 236.8\n",
       "20-39                1117.6\n",
       "40-59                 955.2\n",
       "60-64                 203.8\n",
       "65-69                 166.2\n",
       "70-79                 205.2\n",
       "80 e +                 89.2\n",
       "dtype: float64"
      ]
     },
     "metadata": {},
     "output_type": "display_data"
    },
    {
     "data": {
      "text/plain": [
       "'\\nDesvio Padrão:'"
      ]
     },
     "metadata": {},
     "output_type": "display_data"
    },
    {
     "data": {
      "text/plain": [
       "Ano 1º Sintoma(s)      1.581139\n",
       "<1 Ano               442.978216\n",
       "01-04                890.957519\n",
       "05-09                518.975626\n",
       "10-14                189.561336\n",
       "15-19                108.037956\n",
       "20-39                456.569600\n",
       "40-59                310.335625\n",
       "60-64                 76.060502\n",
       "65-69                 49.068320\n",
       "70-79                 52.694402\n",
       "80 e +                26.414011\n",
       "dtype: float64"
      ]
     },
     "metadata": {},
     "output_type": "display_data"
    }
   ],
   "source": [
    "# Calcula a descrição estatística do DataFrame\n",
    "descricao = idade_sd.describe()\n",
    "\n",
    "# Calcula a média das colunas\n",
    "media = idade_sd.mean()\n",
    "\n",
    "# Calcula o desvio padrão das colunas\n",
    "desvio_padrao = idade_sd.std()\n",
    "\n",
    "# Exibe a descrição estatística\n",
    "display(\"Descrição estatística:\")\n",
    "display(descricao)\n",
    "\n",
    "# Exibe a média e o desvio padrão\n",
    "display(\"\\nMédia:\")\n",
    "display(media)\n",
    "display(\"\\nDesvio Padrão:\")\n",
    "display(desvio_padrao) \n"
   ]
  },
  {
   "cell_type": "code",
   "execution_count": 74,
   "id": "659b9118",
   "metadata": {},
   "outputs": [
    {
     "data": {
      "text/html": [
       "<div>\n",
       "<style scoped>\n",
       "    .dataframe tbody tr th:only-of-type {\n",
       "        vertical-align: middle;\n",
       "    }\n",
       "\n",
       "    .dataframe tbody tr th {\n",
       "        vertical-align: top;\n",
       "    }\n",
       "\n",
       "    .dataframe thead th {\n",
       "        text-align: right;\n",
       "    }\n",
       "</style>\n",
       "<table border=\"1\" class=\"dataframe\">\n",
       "  <thead>\n",
       "    <tr style=\"text-align: right;\">\n",
       "      <th></th>\n",
       "      <th>Ano 1º Sintoma(s)</th>\n",
       "      <th>Ignorado</th>\n",
       "      <th>Masculino</th>\n",
       "      <th>Feminino</th>\n",
       "      <th>Total</th>\n",
       "    </tr>\n",
       "  </thead>\n",
       "  <tbody>\n",
       "    <tr>\n",
       "      <th>0</th>\n",
       "      <td>2018</td>\n",
       "      <td>1</td>\n",
       "      <td>5759</td>\n",
       "      <td>4306</td>\n",
       "      <td>10066</td>\n",
       "    </tr>\n",
       "    <tr>\n",
       "      <th>1</th>\n",
       "      <td>2019</td>\n",
       "      <td>4</td>\n",
       "      <td>5174</td>\n",
       "      <td>3691</td>\n",
       "      <td>8869</td>\n",
       "    </tr>\n",
       "    <tr>\n",
       "      <th>2</th>\n",
       "      <td>2020</td>\n",
       "      <td>1</td>\n",
       "      <td>2053</td>\n",
       "      <td>1568</td>\n",
       "      <td>3622</td>\n",
       "    </tr>\n",
       "    <tr>\n",
       "      <th>3</th>\n",
       "      <td>2021</td>\n",
       "      <td>2</td>\n",
       "      <td>1786</td>\n",
       "      <td>1434</td>\n",
       "      <td>3222</td>\n",
       "    </tr>\n",
       "    <tr>\n",
       "      <th>4</th>\n",
       "      <td>2022</td>\n",
       "      <td>-</td>\n",
       "      <td>3691</td>\n",
       "      <td>2754</td>\n",
       "      <td>6445</td>\n",
       "    </tr>\n",
       "    <tr>\n",
       "      <th>5</th>\n",
       "      <td>Total</td>\n",
       "      <td>8</td>\n",
       "      <td>18463</td>\n",
       "      <td>13753</td>\n",
       "      <td>32224</td>\n",
       "    </tr>\n",
       "  </tbody>\n",
       "</table>\n",
       "</div>"
      ],
      "text/plain": [
       "  Ano 1º Sintoma(s) Ignorado  Masculino  Feminino  Total\n",
       "0              2018        1       5759      4306  10066\n",
       "1              2019        4       5174      3691   8869\n",
       "2              2020        1       2053      1568   3622\n",
       "3              2021        2       1786      1434   3222\n",
       "4              2022        -       3691      2754   6445\n",
       "5             Total        8      18463     13753  32224"
      ]
     },
     "metadata": {},
     "output_type": "display_data"
    }
   ],
   "source": [
    "# Importar base de dados \"Sexo\"\n",
    "sexo_sd = pd.read_csv(\"Sexo_sudeste.csv\", encoding=\"latin\", sep=\";\")\n",
    "\n",
    "# corrigir informações vazias\n",
    "sexo_sd = sexo_sd.dropna()\n",
    "display (sexo_sd)"
   ]
  },
  {
   "cell_type": "code",
   "execution_count": 75,
   "id": "c60f4333",
   "metadata": {},
   "outputs": [
    {
     "data": {
      "text/html": [
       "<div>\n",
       "<style scoped>\n",
       "    .dataframe tbody tr th:only-of-type {\n",
       "        vertical-align: middle;\n",
       "    }\n",
       "\n",
       "    .dataframe tbody tr th {\n",
       "        vertical-align: top;\n",
       "    }\n",
       "\n",
       "    .dataframe thead th {\n",
       "        text-align: right;\n",
       "    }\n",
       "</style>\n",
       "<table border=\"1\" class=\"dataframe\">\n",
       "  <thead>\n",
       "    <tr style=\"text-align: right;\">\n",
       "      <th></th>\n",
       "      <th>Ano 1º Sintoma(s)</th>\n",
       "      <th>Masculino</th>\n",
       "      <th>Feminino</th>\n",
       "    </tr>\n",
       "  </thead>\n",
       "  <tbody>\n",
       "    <tr>\n",
       "      <th>0</th>\n",
       "      <td>2018</td>\n",
       "      <td>5759</td>\n",
       "      <td>4306</td>\n",
       "    </tr>\n",
       "    <tr>\n",
       "      <th>1</th>\n",
       "      <td>2019</td>\n",
       "      <td>5174</td>\n",
       "      <td>3691</td>\n",
       "    </tr>\n",
       "    <tr>\n",
       "      <th>2</th>\n",
       "      <td>2020</td>\n",
       "      <td>2053</td>\n",
       "      <td>1568</td>\n",
       "    </tr>\n",
       "    <tr>\n",
       "      <th>3</th>\n",
       "      <td>2021</td>\n",
       "      <td>1786</td>\n",
       "      <td>1434</td>\n",
       "    </tr>\n",
       "    <tr>\n",
       "      <th>4</th>\n",
       "      <td>2022</td>\n",
       "      <td>3691</td>\n",
       "      <td>2754</td>\n",
       "    </tr>\n",
       "  </tbody>\n",
       "</table>\n",
       "</div>"
      ],
      "text/plain": [
       "  Ano 1º Sintoma(s)  Masculino  Feminino\n",
       "0              2018       5759      4306\n",
       "1              2019       5174      3691\n",
       "2              2020       2053      1568\n",
       "3              2021       1786      1434\n",
       "4              2022       3691      2754"
      ]
     },
     "metadata": {},
     "output_type": "display_data"
    }
   ],
   "source": [
    "# Deletar a coluna \"Em branco/IGN\", pois há muitos campos em branco, o que a torna inútil\n",
    "sexo_sd = sexo_sd.drop('Ignorado', axis=1)\n",
    "sexo_sd = sexo_sd.drop('Total', axis=1)\n",
    "sexo_sd = sexo_sd.drop(5, axis=0)\n",
    "\n",
    "# Visualizar tabela corrigida\n",
    "display (sexo_sd)"
   ]
  },
  {
   "cell_type": "code",
   "execution_count": 76,
   "id": "5a5c36c7",
   "metadata": {},
   "outputs": [
    {
     "data": {
      "application/vnd.plotly.v1+json": {
       "config": {
        "plotlyServerURL": "https://plot.ly"
       },
       "data": [
        {
         "mode": "lines",
         "name": "Masculino",
         "type": "scatter",
         "x": [
          2018,
          2019,
          2020,
          2021,
          2022
         ],
         "y": [
          5759,
          5174,
          2053,
          1786,
          3691
         ]
        },
        {
         "mode": "lines",
         "name": "Feminino",
         "type": "scatter",
         "x": [
          2018,
          2019,
          2020,
          2021,
          2022
         ],
         "y": [
          4306,
          3691,
          1568,
          1434,
          2754
         ]
        }
       ],
       "layout": {
        "hovermode": "x",
        "template": {
         "data": {
          "bar": [
           {
            "error_x": {
             "color": "#2a3f5f"
            },
            "error_y": {
             "color": "#2a3f5f"
            },
            "marker": {
             "line": {
              "color": "#E5ECF6",
              "width": 0.5
             },
             "pattern": {
              "fillmode": "overlay",
              "size": 10,
              "solidity": 0.2
             }
            },
            "type": "bar"
           }
          ],
          "barpolar": [
           {
            "marker": {
             "line": {
              "color": "#E5ECF6",
              "width": 0.5
             },
             "pattern": {
              "fillmode": "overlay",
              "size": 10,
              "solidity": 0.2
             }
            },
            "type": "barpolar"
           }
          ],
          "carpet": [
           {
            "aaxis": {
             "endlinecolor": "#2a3f5f",
             "gridcolor": "white",
             "linecolor": "white",
             "minorgridcolor": "white",
             "startlinecolor": "#2a3f5f"
            },
            "baxis": {
             "endlinecolor": "#2a3f5f",
             "gridcolor": "white",
             "linecolor": "white",
             "minorgridcolor": "white",
             "startlinecolor": "#2a3f5f"
            },
            "type": "carpet"
           }
          ],
          "choropleth": [
           {
            "colorbar": {
             "outlinewidth": 0,
             "ticks": ""
            },
            "type": "choropleth"
           }
          ],
          "contour": [
           {
            "colorbar": {
             "outlinewidth": 0,
             "ticks": ""
            },
            "colorscale": [
             [
              0,
              "#0d0887"
             ],
             [
              0.1111111111111111,
              "#46039f"
             ],
             [
              0.2222222222222222,
              "#7201a8"
             ],
             [
              0.3333333333333333,
              "#9c179e"
             ],
             [
              0.4444444444444444,
              "#bd3786"
             ],
             [
              0.5555555555555556,
              "#d8576b"
             ],
             [
              0.6666666666666666,
              "#ed7953"
             ],
             [
              0.7777777777777778,
              "#fb9f3a"
             ],
             [
              0.8888888888888888,
              "#fdca26"
             ],
             [
              1,
              "#f0f921"
             ]
            ],
            "type": "contour"
           }
          ],
          "contourcarpet": [
           {
            "colorbar": {
             "outlinewidth": 0,
             "ticks": ""
            },
            "type": "contourcarpet"
           }
          ],
          "heatmap": [
           {
            "colorbar": {
             "outlinewidth": 0,
             "ticks": ""
            },
            "colorscale": [
             [
              0,
              "#0d0887"
             ],
             [
              0.1111111111111111,
              "#46039f"
             ],
             [
              0.2222222222222222,
              "#7201a8"
             ],
             [
              0.3333333333333333,
              "#9c179e"
             ],
             [
              0.4444444444444444,
              "#bd3786"
             ],
             [
              0.5555555555555556,
              "#d8576b"
             ],
             [
              0.6666666666666666,
              "#ed7953"
             ],
             [
              0.7777777777777778,
              "#fb9f3a"
             ],
             [
              0.8888888888888888,
              "#fdca26"
             ],
             [
              1,
              "#f0f921"
             ]
            ],
            "type": "heatmap"
           }
          ],
          "heatmapgl": [
           {
            "colorbar": {
             "outlinewidth": 0,
             "ticks": ""
            },
            "colorscale": [
             [
              0,
              "#0d0887"
             ],
             [
              0.1111111111111111,
              "#46039f"
             ],
             [
              0.2222222222222222,
              "#7201a8"
             ],
             [
              0.3333333333333333,
              "#9c179e"
             ],
             [
              0.4444444444444444,
              "#bd3786"
             ],
             [
              0.5555555555555556,
              "#d8576b"
             ],
             [
              0.6666666666666666,
              "#ed7953"
             ],
             [
              0.7777777777777778,
              "#fb9f3a"
             ],
             [
              0.8888888888888888,
              "#fdca26"
             ],
             [
              1,
              "#f0f921"
             ]
            ],
            "type": "heatmapgl"
           }
          ],
          "histogram": [
           {
            "marker": {
             "pattern": {
              "fillmode": "overlay",
              "size": 10,
              "solidity": 0.2
             }
            },
            "type": "histogram"
           }
          ],
          "histogram2d": [
           {
            "colorbar": {
             "outlinewidth": 0,
             "ticks": ""
            },
            "colorscale": [
             [
              0,
              "#0d0887"
             ],
             [
              0.1111111111111111,
              "#46039f"
             ],
             [
              0.2222222222222222,
              "#7201a8"
             ],
             [
              0.3333333333333333,
              "#9c179e"
             ],
             [
              0.4444444444444444,
              "#bd3786"
             ],
             [
              0.5555555555555556,
              "#d8576b"
             ],
             [
              0.6666666666666666,
              "#ed7953"
             ],
             [
              0.7777777777777778,
              "#fb9f3a"
             ],
             [
              0.8888888888888888,
              "#fdca26"
             ],
             [
              1,
              "#f0f921"
             ]
            ],
            "type": "histogram2d"
           }
          ],
          "histogram2dcontour": [
           {
            "colorbar": {
             "outlinewidth": 0,
             "ticks": ""
            },
            "colorscale": [
             [
              0,
              "#0d0887"
             ],
             [
              0.1111111111111111,
              "#46039f"
             ],
             [
              0.2222222222222222,
              "#7201a8"
             ],
             [
              0.3333333333333333,
              "#9c179e"
             ],
             [
              0.4444444444444444,
              "#bd3786"
             ],
             [
              0.5555555555555556,
              "#d8576b"
             ],
             [
              0.6666666666666666,
              "#ed7953"
             ],
             [
              0.7777777777777778,
              "#fb9f3a"
             ],
             [
              0.8888888888888888,
              "#fdca26"
             ],
             [
              1,
              "#f0f921"
             ]
            ],
            "type": "histogram2dcontour"
           }
          ],
          "mesh3d": [
           {
            "colorbar": {
             "outlinewidth": 0,
             "ticks": ""
            },
            "type": "mesh3d"
           }
          ],
          "parcoords": [
           {
            "line": {
             "colorbar": {
              "outlinewidth": 0,
              "ticks": ""
             }
            },
            "type": "parcoords"
           }
          ],
          "pie": [
           {
            "automargin": true,
            "type": "pie"
           }
          ],
          "scatter": [
           {
            "fillpattern": {
             "fillmode": "overlay",
             "size": 10,
             "solidity": 0.2
            },
            "type": "scatter"
           }
          ],
          "scatter3d": [
           {
            "line": {
             "colorbar": {
              "outlinewidth": 0,
              "ticks": ""
             }
            },
            "marker": {
             "colorbar": {
              "outlinewidth": 0,
              "ticks": ""
             }
            },
            "type": "scatter3d"
           }
          ],
          "scattercarpet": [
           {
            "marker": {
             "colorbar": {
              "outlinewidth": 0,
              "ticks": ""
             }
            },
            "type": "scattercarpet"
           }
          ],
          "scattergeo": [
           {
            "marker": {
             "colorbar": {
              "outlinewidth": 0,
              "ticks": ""
             }
            },
            "type": "scattergeo"
           }
          ],
          "scattergl": [
           {
            "marker": {
             "colorbar": {
              "outlinewidth": 0,
              "ticks": ""
             }
            },
            "type": "scattergl"
           }
          ],
          "scattermapbox": [
           {
            "marker": {
             "colorbar": {
              "outlinewidth": 0,
              "ticks": ""
             }
            },
            "type": "scattermapbox"
           }
          ],
          "scatterpolar": [
           {
            "marker": {
             "colorbar": {
              "outlinewidth": 0,
              "ticks": ""
             }
            },
            "type": "scatterpolar"
           }
          ],
          "scatterpolargl": [
           {
            "marker": {
             "colorbar": {
              "outlinewidth": 0,
              "ticks": ""
             }
            },
            "type": "scatterpolargl"
           }
          ],
          "scatterternary": [
           {
            "marker": {
             "colorbar": {
              "outlinewidth": 0,
              "ticks": ""
             }
            },
            "type": "scatterternary"
           }
          ],
          "surface": [
           {
            "colorbar": {
             "outlinewidth": 0,
             "ticks": ""
            },
            "colorscale": [
             [
              0,
              "#0d0887"
             ],
             [
              0.1111111111111111,
              "#46039f"
             ],
             [
              0.2222222222222222,
              "#7201a8"
             ],
             [
              0.3333333333333333,
              "#9c179e"
             ],
             [
              0.4444444444444444,
              "#bd3786"
             ],
             [
              0.5555555555555556,
              "#d8576b"
             ],
             [
              0.6666666666666666,
              "#ed7953"
             ],
             [
              0.7777777777777778,
              "#fb9f3a"
             ],
             [
              0.8888888888888888,
              "#fdca26"
             ],
             [
              1,
              "#f0f921"
             ]
            ],
            "type": "surface"
           }
          ],
          "table": [
           {
            "cells": {
             "fill": {
              "color": "#EBF0F8"
             },
             "line": {
              "color": "white"
             }
            },
            "header": {
             "fill": {
              "color": "#C8D4E3"
             },
             "line": {
              "color": "white"
             }
            },
            "type": "table"
           }
          ]
         },
         "layout": {
          "annotationdefaults": {
           "arrowcolor": "#2a3f5f",
           "arrowhead": 0,
           "arrowwidth": 1
          },
          "autotypenumbers": "strict",
          "coloraxis": {
           "colorbar": {
            "outlinewidth": 0,
            "ticks": ""
           }
          },
          "colorscale": {
           "diverging": [
            [
             0,
             "#8e0152"
            ],
            [
             0.1,
             "#c51b7d"
            ],
            [
             0.2,
             "#de77ae"
            ],
            [
             0.3,
             "#f1b6da"
            ],
            [
             0.4,
             "#fde0ef"
            ],
            [
             0.5,
             "#f7f7f7"
            ],
            [
             0.6,
             "#e6f5d0"
            ],
            [
             0.7,
             "#b8e186"
            ],
            [
             0.8,
             "#7fbc41"
            ],
            [
             0.9,
             "#4d9221"
            ],
            [
             1,
             "#276419"
            ]
           ],
           "sequential": [
            [
             0,
             "#0d0887"
            ],
            [
             0.1111111111111111,
             "#46039f"
            ],
            [
             0.2222222222222222,
             "#7201a8"
            ],
            [
             0.3333333333333333,
             "#9c179e"
            ],
            [
             0.4444444444444444,
             "#bd3786"
            ],
            [
             0.5555555555555556,
             "#d8576b"
            ],
            [
             0.6666666666666666,
             "#ed7953"
            ],
            [
             0.7777777777777778,
             "#fb9f3a"
            ],
            [
             0.8888888888888888,
             "#fdca26"
            ],
            [
             1,
             "#f0f921"
            ]
           ],
           "sequentialminus": [
            [
             0,
             "#0d0887"
            ],
            [
             0.1111111111111111,
             "#46039f"
            ],
            [
             0.2222222222222222,
             "#7201a8"
            ],
            [
             0.3333333333333333,
             "#9c179e"
            ],
            [
             0.4444444444444444,
             "#bd3786"
            ],
            [
             0.5555555555555556,
             "#d8576b"
            ],
            [
             0.6666666666666666,
             "#ed7953"
            ],
            [
             0.7777777777777778,
             "#fb9f3a"
            ],
            [
             0.8888888888888888,
             "#fdca26"
            ],
            [
             1,
             "#f0f921"
            ]
           ]
          },
          "colorway": [
           "#636efa",
           "#EF553B",
           "#00cc96",
           "#ab63fa",
           "#FFA15A",
           "#19d3f3",
           "#FF6692",
           "#B6E880",
           "#FF97FF",
           "#FECB52"
          ],
          "font": {
           "color": "#2a3f5f"
          },
          "geo": {
           "bgcolor": "white",
           "lakecolor": "white",
           "landcolor": "#E5ECF6",
           "showlakes": true,
           "showland": true,
           "subunitcolor": "white"
          },
          "hoverlabel": {
           "align": "left"
          },
          "hovermode": "closest",
          "mapbox": {
           "style": "light"
          },
          "paper_bgcolor": "white",
          "plot_bgcolor": "#E5ECF6",
          "polar": {
           "angularaxis": {
            "gridcolor": "white",
            "linecolor": "white",
            "ticks": ""
           },
           "bgcolor": "#E5ECF6",
           "radialaxis": {
            "gridcolor": "white",
            "linecolor": "white",
            "ticks": ""
           }
          },
          "scene": {
           "xaxis": {
            "backgroundcolor": "#E5ECF6",
            "gridcolor": "white",
            "gridwidth": 2,
            "linecolor": "white",
            "showbackground": true,
            "ticks": "",
            "zerolinecolor": "white"
           },
           "yaxis": {
            "backgroundcolor": "#E5ECF6",
            "gridcolor": "white",
            "gridwidth": 2,
            "linecolor": "white",
            "showbackground": true,
            "ticks": "",
            "zerolinecolor": "white"
           },
           "zaxis": {
            "backgroundcolor": "#E5ECF6",
            "gridcolor": "white",
            "gridwidth": 2,
            "linecolor": "white",
            "showbackground": true,
            "ticks": "",
            "zerolinecolor": "white"
           }
          },
          "shapedefaults": {
           "line": {
            "color": "#2a3f5f"
           }
          },
          "ternary": {
           "aaxis": {
            "gridcolor": "white",
            "linecolor": "white",
            "ticks": ""
           },
           "baxis": {
            "gridcolor": "white",
            "linecolor": "white",
            "ticks": ""
           },
           "bgcolor": "#E5ECF6",
           "caxis": {
            "gridcolor": "white",
            "linecolor": "white",
            "ticks": ""
           }
          },
          "title": {
           "x": 0.05
          },
          "xaxis": {
           "automargin": true,
           "gridcolor": "white",
           "linecolor": "white",
           "ticks": "",
           "title": {
            "standoff": 15
           },
           "zerolinecolor": "white",
           "zerolinewidth": 2
          },
          "yaxis": {
           "automargin": true,
           "gridcolor": "white",
           "linecolor": "white",
           "ticks": "",
           "title": {
            "standoff": 15
           },
           "zerolinecolor": "white",
           "zerolinewidth": 2
          }
         }
        },
        "title": {
         "text": "Sexo - Região Sudeste"
        },
        "xaxis": {
         "title": {
          "text": "Ano 1º Sintoma(s)"
         }
        },
        "yaxis": {
         "title": {
          "text": "Valores"
         }
        }
       }
      },
      "text/html": [
       "<div>                            <div id=\"a8ed7dd9-5bef-4573-aef9-843808ed99d6\" class=\"plotly-graph-div\" style=\"height:525px; width:100%;\"></div>            <script type=\"text/javascript\">                require([\"plotly\"], function(Plotly) {                    window.PLOTLYENV=window.PLOTLYENV || {};                                    if (document.getElementById(\"a8ed7dd9-5bef-4573-aef9-843808ed99d6\")) {                    Plotly.newPlot(                        \"a8ed7dd9-5bef-4573-aef9-843808ed99d6\",                        [{\"mode\":\"lines\",\"name\":\"Masculino\",\"x\":[2018,2019,2020,2021,2022],\"y\":[5759,5174,2053,1786,3691],\"type\":\"scatter\"},{\"mode\":\"lines\",\"name\":\"Feminino\",\"x\":[2018,2019,2020,2021,2022],\"y\":[4306,3691,1568,1434,2754],\"type\":\"scatter\"}],                        {\"template\":{\"data\":{\"histogram2dcontour\":[{\"type\":\"histogram2dcontour\",\"colorbar\":{\"outlinewidth\":0,\"ticks\":\"\"},\"colorscale\":[[0.0,\"#0d0887\"],[0.1111111111111111,\"#46039f\"],[0.2222222222222222,\"#7201a8\"],[0.3333333333333333,\"#9c179e\"],[0.4444444444444444,\"#bd3786\"],[0.5555555555555556,\"#d8576b\"],[0.6666666666666666,\"#ed7953\"],[0.7777777777777778,\"#fb9f3a\"],[0.8888888888888888,\"#fdca26\"],[1.0,\"#f0f921\"]]}],\"choropleth\":[{\"type\":\"choropleth\",\"colorbar\":{\"outlinewidth\":0,\"ticks\":\"\"}}],\"histogram2d\":[{\"type\":\"histogram2d\",\"colorbar\":{\"outlinewidth\":0,\"ticks\":\"\"},\"colorscale\":[[0.0,\"#0d0887\"],[0.1111111111111111,\"#46039f\"],[0.2222222222222222,\"#7201a8\"],[0.3333333333333333,\"#9c179e\"],[0.4444444444444444,\"#bd3786\"],[0.5555555555555556,\"#d8576b\"],[0.6666666666666666,\"#ed7953\"],[0.7777777777777778,\"#fb9f3a\"],[0.8888888888888888,\"#fdca26\"],[1.0,\"#f0f921\"]]}],\"heatmap\":[{\"type\":\"heatmap\",\"colorbar\":{\"outlinewidth\":0,\"ticks\":\"\"},\"colorscale\":[[0.0,\"#0d0887\"],[0.1111111111111111,\"#46039f\"],[0.2222222222222222,\"#7201a8\"],[0.3333333333333333,\"#9c179e\"],[0.4444444444444444,\"#bd3786\"],[0.5555555555555556,\"#d8576b\"],[0.6666666666666666,\"#ed7953\"],[0.7777777777777778,\"#fb9f3a\"],[0.8888888888888888,\"#fdca26\"],[1.0,\"#f0f921\"]]}],\"heatmapgl\":[{\"type\":\"heatmapgl\",\"colorbar\":{\"outlinewidth\":0,\"ticks\":\"\"},\"colorscale\":[[0.0,\"#0d0887\"],[0.1111111111111111,\"#46039f\"],[0.2222222222222222,\"#7201a8\"],[0.3333333333333333,\"#9c179e\"],[0.4444444444444444,\"#bd3786\"],[0.5555555555555556,\"#d8576b\"],[0.6666666666666666,\"#ed7953\"],[0.7777777777777778,\"#fb9f3a\"],[0.8888888888888888,\"#fdca26\"],[1.0,\"#f0f921\"]]}],\"contourcarpet\":[{\"type\":\"contourcarpet\",\"colorbar\":{\"outlinewidth\":0,\"ticks\":\"\"}}],\"contour\":[{\"type\":\"contour\",\"colorbar\":{\"outlinewidth\":0,\"ticks\":\"\"},\"colorscale\":[[0.0,\"#0d0887\"],[0.1111111111111111,\"#46039f\"],[0.2222222222222222,\"#7201a8\"],[0.3333333333333333,\"#9c179e\"],[0.4444444444444444,\"#bd3786\"],[0.5555555555555556,\"#d8576b\"],[0.6666666666666666,\"#ed7953\"],[0.7777777777777778,\"#fb9f3a\"],[0.8888888888888888,\"#fdca26\"],[1.0,\"#f0f921\"]]}],\"surface\":[{\"type\":\"surface\",\"colorbar\":{\"outlinewidth\":0,\"ticks\":\"\"},\"colorscale\":[[0.0,\"#0d0887\"],[0.1111111111111111,\"#46039f\"],[0.2222222222222222,\"#7201a8\"],[0.3333333333333333,\"#9c179e\"],[0.4444444444444444,\"#bd3786\"],[0.5555555555555556,\"#d8576b\"],[0.6666666666666666,\"#ed7953\"],[0.7777777777777778,\"#fb9f3a\"],[0.8888888888888888,\"#fdca26\"],[1.0,\"#f0f921\"]]}],\"mesh3d\":[{\"type\":\"mesh3d\",\"colorbar\":{\"outlinewidth\":0,\"ticks\":\"\"}}],\"scatter\":[{\"fillpattern\":{\"fillmode\":\"overlay\",\"size\":10,\"solidity\":0.2},\"type\":\"scatter\"}],\"parcoords\":[{\"type\":\"parcoords\",\"line\":{\"colorbar\":{\"outlinewidth\":0,\"ticks\":\"\"}}}],\"scatterpolargl\":[{\"type\":\"scatterpolargl\",\"marker\":{\"colorbar\":{\"outlinewidth\":0,\"ticks\":\"\"}}}],\"bar\":[{\"error_x\":{\"color\":\"#2a3f5f\"},\"error_y\":{\"color\":\"#2a3f5f\"},\"marker\":{\"line\":{\"color\":\"#E5ECF6\",\"width\":0.5},\"pattern\":{\"fillmode\":\"overlay\",\"size\":10,\"solidity\":0.2}},\"type\":\"bar\"}],\"scattergeo\":[{\"type\":\"scattergeo\",\"marker\":{\"colorbar\":{\"outlinewidth\":0,\"ticks\":\"\"}}}],\"scatterpolar\":[{\"type\":\"scatterpolar\",\"marker\":{\"colorbar\":{\"outlinewidth\":0,\"ticks\":\"\"}}}],\"histogram\":[{\"marker\":{\"pattern\":{\"fillmode\":\"overlay\",\"size\":10,\"solidity\":0.2}},\"type\":\"histogram\"}],\"scattergl\":[{\"type\":\"scattergl\",\"marker\":{\"colorbar\":{\"outlinewidth\":0,\"ticks\":\"\"}}}],\"scatter3d\":[{\"type\":\"scatter3d\",\"line\":{\"colorbar\":{\"outlinewidth\":0,\"ticks\":\"\"}},\"marker\":{\"colorbar\":{\"outlinewidth\":0,\"ticks\":\"\"}}}],\"scattermapbox\":[{\"type\":\"scattermapbox\",\"marker\":{\"colorbar\":{\"outlinewidth\":0,\"ticks\":\"\"}}}],\"scatterternary\":[{\"type\":\"scatterternary\",\"marker\":{\"colorbar\":{\"outlinewidth\":0,\"ticks\":\"\"}}}],\"scattercarpet\":[{\"type\":\"scattercarpet\",\"marker\":{\"colorbar\":{\"outlinewidth\":0,\"ticks\":\"\"}}}],\"carpet\":[{\"aaxis\":{\"endlinecolor\":\"#2a3f5f\",\"gridcolor\":\"white\",\"linecolor\":\"white\",\"minorgridcolor\":\"white\",\"startlinecolor\":\"#2a3f5f\"},\"baxis\":{\"endlinecolor\":\"#2a3f5f\",\"gridcolor\":\"white\",\"linecolor\":\"white\",\"minorgridcolor\":\"white\",\"startlinecolor\":\"#2a3f5f\"},\"type\":\"carpet\"}],\"table\":[{\"cells\":{\"fill\":{\"color\":\"#EBF0F8\"},\"line\":{\"color\":\"white\"}},\"header\":{\"fill\":{\"color\":\"#C8D4E3\"},\"line\":{\"color\":\"white\"}},\"type\":\"table\"}],\"barpolar\":[{\"marker\":{\"line\":{\"color\":\"#E5ECF6\",\"width\":0.5},\"pattern\":{\"fillmode\":\"overlay\",\"size\":10,\"solidity\":0.2}},\"type\":\"barpolar\"}],\"pie\":[{\"automargin\":true,\"type\":\"pie\"}]},\"layout\":{\"autotypenumbers\":\"strict\",\"colorway\":[\"#636efa\",\"#EF553B\",\"#00cc96\",\"#ab63fa\",\"#FFA15A\",\"#19d3f3\",\"#FF6692\",\"#B6E880\",\"#FF97FF\",\"#FECB52\"],\"font\":{\"color\":\"#2a3f5f\"},\"hovermode\":\"closest\",\"hoverlabel\":{\"align\":\"left\"},\"paper_bgcolor\":\"white\",\"plot_bgcolor\":\"#E5ECF6\",\"polar\":{\"bgcolor\":\"#E5ECF6\",\"angularaxis\":{\"gridcolor\":\"white\",\"linecolor\":\"white\",\"ticks\":\"\"},\"radialaxis\":{\"gridcolor\":\"white\",\"linecolor\":\"white\",\"ticks\":\"\"}},\"ternary\":{\"bgcolor\":\"#E5ECF6\",\"aaxis\":{\"gridcolor\":\"white\",\"linecolor\":\"white\",\"ticks\":\"\"},\"baxis\":{\"gridcolor\":\"white\",\"linecolor\":\"white\",\"ticks\":\"\"},\"caxis\":{\"gridcolor\":\"white\",\"linecolor\":\"white\",\"ticks\":\"\"}},\"coloraxis\":{\"colorbar\":{\"outlinewidth\":0,\"ticks\":\"\"}},\"colorscale\":{\"sequential\":[[0.0,\"#0d0887\"],[0.1111111111111111,\"#46039f\"],[0.2222222222222222,\"#7201a8\"],[0.3333333333333333,\"#9c179e\"],[0.4444444444444444,\"#bd3786\"],[0.5555555555555556,\"#d8576b\"],[0.6666666666666666,\"#ed7953\"],[0.7777777777777778,\"#fb9f3a\"],[0.8888888888888888,\"#fdca26\"],[1.0,\"#f0f921\"]],\"sequentialminus\":[[0.0,\"#0d0887\"],[0.1111111111111111,\"#46039f\"],[0.2222222222222222,\"#7201a8\"],[0.3333333333333333,\"#9c179e\"],[0.4444444444444444,\"#bd3786\"],[0.5555555555555556,\"#d8576b\"],[0.6666666666666666,\"#ed7953\"],[0.7777777777777778,\"#fb9f3a\"],[0.8888888888888888,\"#fdca26\"],[1.0,\"#f0f921\"]],\"diverging\":[[0,\"#8e0152\"],[0.1,\"#c51b7d\"],[0.2,\"#de77ae\"],[0.3,\"#f1b6da\"],[0.4,\"#fde0ef\"],[0.5,\"#f7f7f7\"],[0.6,\"#e6f5d0\"],[0.7,\"#b8e186\"],[0.8,\"#7fbc41\"],[0.9,\"#4d9221\"],[1,\"#276419\"]]},\"xaxis\":{\"gridcolor\":\"white\",\"linecolor\":\"white\",\"ticks\":\"\",\"title\":{\"standoff\":15},\"zerolinecolor\":\"white\",\"automargin\":true,\"zerolinewidth\":2},\"yaxis\":{\"gridcolor\":\"white\",\"linecolor\":\"white\",\"ticks\":\"\",\"title\":{\"standoff\":15},\"zerolinecolor\":\"white\",\"automargin\":true,\"zerolinewidth\":2},\"scene\":{\"xaxis\":{\"backgroundcolor\":\"#E5ECF6\",\"gridcolor\":\"white\",\"linecolor\":\"white\",\"showbackground\":true,\"ticks\":\"\",\"zerolinecolor\":\"white\",\"gridwidth\":2},\"yaxis\":{\"backgroundcolor\":\"#E5ECF6\",\"gridcolor\":\"white\",\"linecolor\":\"white\",\"showbackground\":true,\"ticks\":\"\",\"zerolinecolor\":\"white\",\"gridwidth\":2},\"zaxis\":{\"backgroundcolor\":\"#E5ECF6\",\"gridcolor\":\"white\",\"linecolor\":\"white\",\"showbackground\":true,\"ticks\":\"\",\"zerolinecolor\":\"white\",\"gridwidth\":2}},\"shapedefaults\":{\"line\":{\"color\":\"#2a3f5f\"}},\"annotationdefaults\":{\"arrowcolor\":\"#2a3f5f\",\"arrowhead\":0,\"arrowwidth\":1},\"geo\":{\"bgcolor\":\"white\",\"landcolor\":\"#E5ECF6\",\"subunitcolor\":\"white\",\"showland\":true,\"showlakes\":true,\"lakecolor\":\"white\"},\"title\":{\"x\":0.05},\"mapbox\":{\"style\":\"light\"}}},\"title\":{\"text\":\"Sexo - Regi\\u00e3o Sudeste\"},\"xaxis\":{\"title\":{\"text\":\"Ano 1\\u00ba Sintoma(s)\"}},\"yaxis\":{\"title\":{\"text\":\"Valores\"}},\"hovermode\":\"x\"},                        {\"responsive\": true}                    ).then(function(){\n",
       "                            \n",
       "var gd = document.getElementById('a8ed7dd9-5bef-4573-aef9-843808ed99d6');\n",
       "var x = new MutationObserver(function (mutations, observer) {{\n",
       "        var display = window.getComputedStyle(gd).display;\n",
       "        if (!display || display === 'none') {{\n",
       "            console.log([gd, 'removed!']);\n",
       "            Plotly.purge(gd);\n",
       "            observer.disconnect();\n",
       "        }}\n",
       "}});\n",
       "\n",
       "// Listen for the removal of the full notebook cells\n",
       "var notebookContainer = gd.closest('#notebook-container');\n",
       "if (notebookContainer) {{\n",
       "    x.observe(notebookContainer, {childList: true});\n",
       "}}\n",
       "\n",
       "// Listen for the clearing of the current output cell\n",
       "var outputEl = gd.closest('.output');\n",
       "if (outputEl) {{\n",
       "    x.observe(outputEl, {childList: true});\n",
       "}}\n",
       "\n",
       "                        })                };                });            </script>        </div>"
      ]
     },
     "metadata": {},
     "output_type": "display_data"
    }
   ],
   "source": [
    "# Dados da tabela\n",
    "data = {'Ano 1º Sintoma(s)': [2018, 2019, 2020, 2021, 2022],\n",
    "    'Masculino': [5759, 5174, 2053, 1786, 3691],\n",
    "    'Feminino': [4306, 3691, 1568, 1434, 2754]\n",
    "    \n",
    "}\n",
    "\n",
    "sexo_sd = pd.DataFrame(data)\n",
    "\n",
    "# Criação do gráfico interativo\n",
    "fig = go.Figure()\n",
    "\n",
    "# Adição das linhas no gráfico\n",
    "for column in sexo_sd.columns:\n",
    "    if column != 'Ano 1º Sintoma(s)':\n",
    "        fig.add_trace(go.Scatter(x=sexo_sd['Ano 1º Sintoma(s)'], y=sexo_sd[column], mode='lines', name=column))\n",
    "\n",
    "# Configurações do layout\n",
    "fig.update_layout(\n",
    "    title='Sexo - Região Sudeste',\n",
    "    xaxis=dict(title='Ano 1º Sintoma(s)'),\n",
    "    yaxis=dict(title='Valores'),\n",
    "    hovermode='x'\n",
    ")\n",
    "\n",
    "# Exibição do gráfico\n",
    "fig.show()"
   ]
  },
  {
   "cell_type": "code",
   "execution_count": 88,
   "id": "b56c36cc",
   "metadata": {},
   "outputs": [
    {
     "data": {
      "text/plain": [
       "'Descrição estatística:'"
      ]
     },
     "metadata": {},
     "output_type": "display_data"
    },
    {
     "data": {
      "text/html": [
       "<div>\n",
       "<style scoped>\n",
       "    .dataframe tbody tr th:only-of-type {\n",
       "        vertical-align: middle;\n",
       "    }\n",
       "\n",
       "    .dataframe tbody tr th {\n",
       "        vertical-align: top;\n",
       "    }\n",
       "\n",
       "    .dataframe thead th {\n",
       "        text-align: right;\n",
       "    }\n",
       "</style>\n",
       "<table border=\"1\" class=\"dataframe\">\n",
       "  <thead>\n",
       "    <tr style=\"text-align: right;\">\n",
       "      <th></th>\n",
       "      <th>Ano 1º Sintoma(s)</th>\n",
       "      <th>Masculino</th>\n",
       "      <th>Feminino</th>\n",
       "    </tr>\n",
       "  </thead>\n",
       "  <tbody>\n",
       "    <tr>\n",
       "      <th>count</th>\n",
       "      <td>5.000000</td>\n",
       "      <td>5.000000</td>\n",
       "      <td>5.000000</td>\n",
       "    </tr>\n",
       "    <tr>\n",
       "      <th>mean</th>\n",
       "      <td>2020.000000</td>\n",
       "      <td>3692.600000</td>\n",
       "      <td>2750.600000</td>\n",
       "    </tr>\n",
       "    <tr>\n",
       "      <th>std</th>\n",
       "      <td>1.581139</td>\n",
       "      <td>1788.013507</td>\n",
       "      <td>1268.425323</td>\n",
       "    </tr>\n",
       "    <tr>\n",
       "      <th>min</th>\n",
       "      <td>2018.000000</td>\n",
       "      <td>1786.000000</td>\n",
       "      <td>1434.000000</td>\n",
       "    </tr>\n",
       "    <tr>\n",
       "      <th>25%</th>\n",
       "      <td>2019.000000</td>\n",
       "      <td>2053.000000</td>\n",
       "      <td>1568.000000</td>\n",
       "    </tr>\n",
       "    <tr>\n",
       "      <th>50%</th>\n",
       "      <td>2020.000000</td>\n",
       "      <td>3691.000000</td>\n",
       "      <td>2754.000000</td>\n",
       "    </tr>\n",
       "    <tr>\n",
       "      <th>75%</th>\n",
       "      <td>2021.000000</td>\n",
       "      <td>5174.000000</td>\n",
       "      <td>3691.000000</td>\n",
       "    </tr>\n",
       "    <tr>\n",
       "      <th>max</th>\n",
       "      <td>2022.000000</td>\n",
       "      <td>5759.000000</td>\n",
       "      <td>4306.000000</td>\n",
       "    </tr>\n",
       "  </tbody>\n",
       "</table>\n",
       "</div>"
      ],
      "text/plain": [
       "       Ano 1º Sintoma(s)    Masculino     Feminino\n",
       "count           5.000000     5.000000     5.000000\n",
       "mean         2020.000000  3692.600000  2750.600000\n",
       "std             1.581139  1788.013507  1268.425323\n",
       "min          2018.000000  1786.000000  1434.000000\n",
       "25%          2019.000000  2053.000000  1568.000000\n",
       "50%          2020.000000  3691.000000  2754.000000\n",
       "75%          2021.000000  5174.000000  3691.000000\n",
       "max          2022.000000  5759.000000  4306.000000"
      ]
     },
     "metadata": {},
     "output_type": "display_data"
    },
    {
     "data": {
      "text/plain": [
       "'\\nMédia:'"
      ]
     },
     "metadata": {},
     "output_type": "display_data"
    },
    {
     "data": {
      "text/plain": [
       "Ano 1º Sintoma(s)    2020.0\n",
       "Masculino            3692.6\n",
       "Feminino             2750.6\n",
       "dtype: float64"
      ]
     },
     "metadata": {},
     "output_type": "display_data"
    },
    {
     "data": {
      "text/plain": [
       "'\\nDesvio Padrão:'"
      ]
     },
     "metadata": {},
     "output_type": "display_data"
    },
    {
     "data": {
      "text/plain": [
       "Ano 1º Sintoma(s)       1.581139\n",
       "Masculino            1788.013507\n",
       "Feminino             1268.425323\n",
       "dtype: float64"
      ]
     },
     "metadata": {},
     "output_type": "display_data"
    }
   ],
   "source": [
    "# Calcula a descrição estatística do DataFrame\n",
    "descricao = sexo_sd.describe()\n",
    "\n",
    "# Calcula a média das colunas\n",
    "media = sexo_sd.mean()\n",
    "\n",
    "# Calcula o desvio padrão das colunas\n",
    "desvio_padrao = sexo_sd.std()\n",
    "\n",
    "# Exibe a descrição estatística\n",
    "display(\"Descrição estatística:\")\n",
    "display(descricao)\n",
    "\n",
    "# Exibe a média e o desvio padrão\n",
    "display(\"\\nMédia:\")\n",
    "display(media)\n",
    "display(\"\\nDesvio Padrão:\")\n",
    "display(desvio_padrao) "
   ]
  },
  {
   "cell_type": "code",
   "execution_count": 78,
   "id": "fc19286b",
   "metadata": {},
   "outputs": [
    {
     "data": {
      "text/html": [
       "<div>\n",
       "<style scoped>\n",
       "    .dataframe tbody tr th:only-of-type {\n",
       "        vertical-align: middle;\n",
       "    }\n",
       "\n",
       "    .dataframe tbody tr th {\n",
       "        vertical-align: top;\n",
       "    }\n",
       "\n",
       "    .dataframe thead th {\n",
       "        text-align: right;\n",
       "    }\n",
       "</style>\n",
       "<table border=\"1\" class=\"dataframe\">\n",
       "  <thead>\n",
       "    <tr style=\"text-align: right;\">\n",
       "      <th></th>\n",
       "      <th>Ano 1º Sintoma(s)</th>\n",
       "      <th>Ign/Branco</th>\n",
       "      <th>Analfabeto</th>\n",
       "      <th>1ª a 4ª série incompleta do EF</th>\n",
       "      <th>4ª série completa do EF</th>\n",
       "      <th>5ª a 8ª série incompleta do EF</th>\n",
       "      <th>Ensino fundamental completo</th>\n",
       "      <th>Ensino médio incompleto</th>\n",
       "      <th>Ensino médio completo</th>\n",
       "      <th>Educação superior incompleta</th>\n",
       "      <th>Educação superior completa</th>\n",
       "      <th>Não se aplica</th>\n",
       "      <th>Total</th>\n",
       "    </tr>\n",
       "  </thead>\n",
       "  <tbody>\n",
       "    <tr>\n",
       "      <th>0</th>\n",
       "      <td>2018</td>\n",
       "      <td>3249</td>\n",
       "      <td>18</td>\n",
       "      <td>356</td>\n",
       "      <td>155</td>\n",
       "      <td>367</td>\n",
       "      <td>255</td>\n",
       "      <td>188</td>\n",
       "      <td>482</td>\n",
       "      <td>87</td>\n",
       "      <td>246</td>\n",
       "      <td>4663</td>\n",
       "      <td>10066</td>\n",
       "    </tr>\n",
       "    <tr>\n",
       "      <th>1</th>\n",
       "      <td>2019</td>\n",
       "      <td>2800</td>\n",
       "      <td>21</td>\n",
       "      <td>304</td>\n",
       "      <td>90</td>\n",
       "      <td>321</td>\n",
       "      <td>188</td>\n",
       "      <td>189</td>\n",
       "      <td>496</td>\n",
       "      <td>79</td>\n",
       "      <td>225</td>\n",
       "      <td>4156</td>\n",
       "      <td>8869</td>\n",
       "    </tr>\n",
       "    <tr>\n",
       "      <th>2</th>\n",
       "      <td>2020</td>\n",
       "      <td>1353</td>\n",
       "      <td>13</td>\n",
       "      <td>105</td>\n",
       "      <td>63</td>\n",
       "      <td>122</td>\n",
       "      <td>106</td>\n",
       "      <td>75</td>\n",
       "      <td>255</td>\n",
       "      <td>41</td>\n",
       "      <td>103</td>\n",
       "      <td>1386</td>\n",
       "      <td>3622</td>\n",
       "    </tr>\n",
       "    <tr>\n",
       "      <th>3</th>\n",
       "      <td>2021</td>\n",
       "      <td>1313</td>\n",
       "      <td>12</td>\n",
       "      <td>98</td>\n",
       "      <td>49</td>\n",
       "      <td>112</td>\n",
       "      <td>93</td>\n",
       "      <td>74</td>\n",
       "      <td>226</td>\n",
       "      <td>28</td>\n",
       "      <td>88</td>\n",
       "      <td>1129</td>\n",
       "      <td>3222</td>\n",
       "    </tr>\n",
       "    <tr>\n",
       "      <th>4</th>\n",
       "      <td>2022</td>\n",
       "      <td>2162</td>\n",
       "      <td>23</td>\n",
       "      <td>222</td>\n",
       "      <td>113</td>\n",
       "      <td>219</td>\n",
       "      <td>149</td>\n",
       "      <td>142</td>\n",
       "      <td>387</td>\n",
       "      <td>62</td>\n",
       "      <td>174</td>\n",
       "      <td>2792</td>\n",
       "      <td>6445</td>\n",
       "    </tr>\n",
       "    <tr>\n",
       "      <th>5</th>\n",
       "      <td>Total</td>\n",
       "      <td>10877</td>\n",
       "      <td>87</td>\n",
       "      <td>1085</td>\n",
       "      <td>470</td>\n",
       "      <td>1141</td>\n",
       "      <td>791</td>\n",
       "      <td>668</td>\n",
       "      <td>1846</td>\n",
       "      <td>297</td>\n",
       "      <td>836</td>\n",
       "      <td>14126</td>\n",
       "      <td>32224</td>\n",
       "    </tr>\n",
       "  </tbody>\n",
       "</table>\n",
       "</div>"
      ],
      "text/plain": [
       "  Ano 1º Sintoma(s)  Ign/Branco  Analfabeto  1ª a 4ª série incompleta do EF  \\\n",
       "0              2018        3249          18                             356   \n",
       "1              2019        2800          21                             304   \n",
       "2              2020        1353          13                             105   \n",
       "3              2021        1313          12                              98   \n",
       "4              2022        2162          23                             222   \n",
       "5             Total       10877          87                            1085   \n",
       "\n",
       "   4ª série completa do EF  5ª a 8ª série incompleta do EF  \\\n",
       "0                      155                             367   \n",
       "1                       90                             321   \n",
       "2                       63                             122   \n",
       "3                       49                             112   \n",
       "4                      113                             219   \n",
       "5                      470                            1141   \n",
       "\n",
       "   Ensino fundamental completo  Ensino médio incompleto  \\\n",
       "0                          255                      188   \n",
       "1                          188                      189   \n",
       "2                          106                       75   \n",
       "3                           93                       74   \n",
       "4                          149                      142   \n",
       "5                          791                      668   \n",
       "\n",
       "   Ensino médio completo  Educação superior incompleta  \\\n",
       "0                    482                            87   \n",
       "1                    496                            79   \n",
       "2                    255                            41   \n",
       "3                    226                            28   \n",
       "4                    387                            62   \n",
       "5                   1846                           297   \n",
       "\n",
       "   Educação superior completa  Não se aplica  Total  \n",
       "0                         246           4663  10066  \n",
       "1                         225           4156   8869  \n",
       "2                         103           1386   3622  \n",
       "3                          88           1129   3222  \n",
       "4                         174           2792   6445  \n",
       "5                         836          14126  32224  "
      ]
     },
     "metadata": {},
     "output_type": "display_data"
    }
   ],
   "source": [
    "# Importar base de dados \"Evolução\"\n",
    "escolaridade_sd = pd.read_excel(\"Escolaridade_sudeste.xlsx\")\n",
    "\n",
    "# corrigir informações vazias\n",
    "escolaridade_sd = escolaridade_sd.dropna()\n",
    "display (escolaridade_sd)"
   ]
  },
  {
   "cell_type": "code",
   "execution_count": 79,
   "id": "74cb4f4d",
   "metadata": {},
   "outputs": [
    {
     "data": {
      "text/html": [
       "<div>\n",
       "<style scoped>\n",
       "    .dataframe tbody tr th:only-of-type {\n",
       "        vertical-align: middle;\n",
       "    }\n",
       "\n",
       "    .dataframe tbody tr th {\n",
       "        vertical-align: top;\n",
       "    }\n",
       "\n",
       "    .dataframe thead th {\n",
       "        text-align: right;\n",
       "    }\n",
       "</style>\n",
       "<table border=\"1\" class=\"dataframe\">\n",
       "  <thead>\n",
       "    <tr style=\"text-align: right;\">\n",
       "      <th></th>\n",
       "      <th>Ano 1º Sintoma(s)</th>\n",
       "      <th>Ign/Branco</th>\n",
       "      <th>Analfabeto</th>\n",
       "      <th>1ª a 4ª série incompleta do EF</th>\n",
       "      <th>4ª série completa do EF</th>\n",
       "      <th>5ª a 8ª série incompleta do EF</th>\n",
       "      <th>Ensino fundamental completo</th>\n",
       "      <th>Ensino médio incompleto</th>\n",
       "      <th>Ensino médio completo</th>\n",
       "      <th>Educação superior incompleta</th>\n",
       "      <th>Educação superior completa</th>\n",
       "      <th>Não se aplica</th>\n",
       "    </tr>\n",
       "  </thead>\n",
       "  <tbody>\n",
       "    <tr>\n",
       "      <th>0</th>\n",
       "      <td>2018</td>\n",
       "      <td>3249</td>\n",
       "      <td>18</td>\n",
       "      <td>356</td>\n",
       "      <td>155</td>\n",
       "      <td>367</td>\n",
       "      <td>255</td>\n",
       "      <td>188</td>\n",
       "      <td>482</td>\n",
       "      <td>87</td>\n",
       "      <td>246</td>\n",
       "      <td>4663</td>\n",
       "    </tr>\n",
       "    <tr>\n",
       "      <th>1</th>\n",
       "      <td>2019</td>\n",
       "      <td>2800</td>\n",
       "      <td>21</td>\n",
       "      <td>304</td>\n",
       "      <td>90</td>\n",
       "      <td>321</td>\n",
       "      <td>188</td>\n",
       "      <td>189</td>\n",
       "      <td>496</td>\n",
       "      <td>79</td>\n",
       "      <td>225</td>\n",
       "      <td>4156</td>\n",
       "    </tr>\n",
       "    <tr>\n",
       "      <th>2</th>\n",
       "      <td>2020</td>\n",
       "      <td>1353</td>\n",
       "      <td>13</td>\n",
       "      <td>105</td>\n",
       "      <td>63</td>\n",
       "      <td>122</td>\n",
       "      <td>106</td>\n",
       "      <td>75</td>\n",
       "      <td>255</td>\n",
       "      <td>41</td>\n",
       "      <td>103</td>\n",
       "      <td>1386</td>\n",
       "    </tr>\n",
       "    <tr>\n",
       "      <th>3</th>\n",
       "      <td>2021</td>\n",
       "      <td>1313</td>\n",
       "      <td>12</td>\n",
       "      <td>98</td>\n",
       "      <td>49</td>\n",
       "      <td>112</td>\n",
       "      <td>93</td>\n",
       "      <td>74</td>\n",
       "      <td>226</td>\n",
       "      <td>28</td>\n",
       "      <td>88</td>\n",
       "      <td>1129</td>\n",
       "    </tr>\n",
       "    <tr>\n",
       "      <th>4</th>\n",
       "      <td>2022</td>\n",
       "      <td>2162</td>\n",
       "      <td>23</td>\n",
       "      <td>222</td>\n",
       "      <td>113</td>\n",
       "      <td>219</td>\n",
       "      <td>149</td>\n",
       "      <td>142</td>\n",
       "      <td>387</td>\n",
       "      <td>62</td>\n",
       "      <td>174</td>\n",
       "      <td>2792</td>\n",
       "    </tr>\n",
       "  </tbody>\n",
       "</table>\n",
       "</div>"
      ],
      "text/plain": [
       "  Ano 1º Sintoma(s)  Ign/Branco  Analfabeto  1ª a 4ª série incompleta do EF  \\\n",
       "0              2018        3249          18                             356   \n",
       "1              2019        2800          21                             304   \n",
       "2              2020        1353          13                             105   \n",
       "3              2021        1313          12                              98   \n",
       "4              2022        2162          23                             222   \n",
       "\n",
       "   4ª série completa do EF  5ª a 8ª série incompleta do EF  \\\n",
       "0                      155                             367   \n",
       "1                       90                             321   \n",
       "2                       63                             122   \n",
       "3                       49                             112   \n",
       "4                      113                             219   \n",
       "\n",
       "   Ensino fundamental completo  Ensino médio incompleto  \\\n",
       "0                          255                      188   \n",
       "1                          188                      189   \n",
       "2                          106                       75   \n",
       "3                           93                       74   \n",
       "4                          149                      142   \n",
       "\n",
       "   Ensino médio completo  Educação superior incompleta  \\\n",
       "0                    482                            87   \n",
       "1                    496                            79   \n",
       "2                    255                            41   \n",
       "3                    226                            28   \n",
       "4                    387                            62   \n",
       "\n",
       "   Educação superior completa  Não se aplica  \n",
       "0                         246           4663  \n",
       "1                         225           4156  \n",
       "2                         103           1386  \n",
       "3                          88           1129  \n",
       "4                         174           2792  "
      ]
     },
     "metadata": {},
     "output_type": "display_data"
    }
   ],
   "source": [
    "# Deletar a coluna  e linha\n",
    "escolaridade_sd = escolaridade_sd.drop('Total', axis=1)\n",
    "escolaridade_sd = escolaridade_sd.drop(5, axis=0)\n",
    "display (escolaridade_sd)"
   ]
  },
  {
   "cell_type": "code",
   "execution_count": null,
   "id": "b6f605b5",
   "metadata": {},
   "outputs": [],
   "source": [
    "import plotly.graph_objects as go\n",
    "# Dados da tabela\n",
    "data = {'Ano 1º Sintoma(s)': [2018, 2019, 2020, 2021, 2022],\n",
    "    'Ign/Branco': [3249, 2800, 1353, 1313, 2162],\n",
    "    'Analfabeto': [18, 21, 13, 12, 23],\n",
    "    '1ª a 4ª série incompleta do EF': [356, 304, 105, 98, 222],\n",
    "    '4ª série completa do EF': [155, 90, 63, 49, 113],\n",
    "    '5ª a 8ª série incompleta do EF': [367, 321, 122, 112, 219],\n",
    "    'Ensino fundamental completo': [255, 188, 106, 93, 149],\n",
    "    'Ensino médio incompleto': [188, 189, 75, 74, 142],\n",
    "    'Ensino médio completo': [482, 496, 255, 226, 387],\n",
    "    'Educação superior incompleta': [87, 79, 41, 28, 62],\n",
    "    'Educação superior completa': [246, 225, 103, 88, 174],\n",
    "    'Não se aplica': [4663, 4156, 1386, 1129, 2792]\n",
    "    \n",
    "}\n",
    "\n",
    "escolaridade_sd = pd.DataFrame(data)\n",
    "\n",
    "# Criação do gráfico interativo\n",
    "fig = go.Figure()\n",
    "\n",
    "# Adição das linhas no gráfico\n",
    "for column in escolaridade_sd.columns:\n",
    "    if column != 'Ano 1º Sintoma(s)':\n",
    "        fig.add_trace(go.Scatter(x=escolaridade_sd['Ano 1º Sintoma(s)'], y=escolaridade_sd[column], mode='lines', name=column))\n",
    "\n",
    "# Configurações do layout\n",
    "fig.update_layout(\n",
    "    title='Evolução - Região Sudeste',\n",
    "    xaxis=dict(title='Ano 1º Sintoma(s)'),\n",
    "    yaxis=dict(title='Valores'),\n",
    "    hovermode='x'\n",
    ")\n",
    "\n",
    "# Exibição do gráfico\n",
    "fig.show()"
   ]
  },
  {
   "cell_type": "code",
   "execution_count": 89,
   "id": "a75d96ca",
   "metadata": {},
   "outputs": [
    {
     "data": {
      "text/plain": [
       "'Descrição estatística:'"
      ]
     },
     "metadata": {},
     "output_type": "display_data"
    },
    {
     "data": {
      "text/html": [
       "<div>\n",
       "<style scoped>\n",
       "    .dataframe tbody tr th:only-of-type {\n",
       "        vertical-align: middle;\n",
       "    }\n",
       "\n",
       "    .dataframe tbody tr th {\n",
       "        vertical-align: top;\n",
       "    }\n",
       "\n",
       "    .dataframe thead th {\n",
       "        text-align: right;\n",
       "    }\n",
       "</style>\n",
       "<table border=\"1\" class=\"dataframe\">\n",
       "  <thead>\n",
       "    <tr style=\"text-align: right;\">\n",
       "      <th></th>\n",
       "      <th>Ano 1º Sintoma(s)</th>\n",
       "      <th>Ign/Branco</th>\n",
       "      <th>Analfabeto</th>\n",
       "      <th>1ª a 4ª série incompleta do EF</th>\n",
       "      <th>4ª série completa do EF</th>\n",
       "      <th>5ª a 8ª série incompleta do EF</th>\n",
       "      <th>Ensino fundamental completo</th>\n",
       "      <th>Ensino médio incompleto</th>\n",
       "      <th>Ensino médio completo</th>\n",
       "      <th>Educação superior incompleta</th>\n",
       "      <th>Educação superior completa</th>\n",
       "      <th>Não se aplica</th>\n",
       "    </tr>\n",
       "  </thead>\n",
       "  <tbody>\n",
       "    <tr>\n",
       "      <th>count</th>\n",
       "      <td>5.000000</td>\n",
       "      <td>5.000000</td>\n",
       "      <td>5.000000</td>\n",
       "      <td>5.000000</td>\n",
       "      <td>5.000000</td>\n",
       "      <td>5.000000</td>\n",
       "      <td>5.000000</td>\n",
       "      <td>5.00000</td>\n",
       "      <td>5.000000</td>\n",
       "      <td>5.000000</td>\n",
       "      <td>5.000000</td>\n",
       "      <td>5.000000</td>\n",
       "    </tr>\n",
       "    <tr>\n",
       "      <th>mean</th>\n",
       "      <td>2020.000000</td>\n",
       "      <td>2175.400000</td>\n",
       "      <td>17.400000</td>\n",
       "      <td>217.000000</td>\n",
       "      <td>94.000000</td>\n",
       "      <td>228.200000</td>\n",
       "      <td>158.200000</td>\n",
       "      <td>133.60000</td>\n",
       "      <td>369.200000</td>\n",
       "      <td>59.400000</td>\n",
       "      <td>167.200000</td>\n",
       "      <td>2825.200000</td>\n",
       "    </tr>\n",
       "    <tr>\n",
       "      <th>std</th>\n",
       "      <td>1.581139</td>\n",
       "      <td>860.667938</td>\n",
       "      <td>4.827007</td>\n",
       "      <td>115.779964</td>\n",
       "      <td>42.083251</td>\n",
       "      <td>114.829003</td>\n",
       "      <td>65.800456</td>\n",
       "      <td>57.19528</td>\n",
       "      <td>125.166689</td>\n",
       "      <td>24.885739</td>\n",
       "      <td>70.694413</td>\n",
       "      <td>1588.869944</td>\n",
       "    </tr>\n",
       "    <tr>\n",
       "      <th>min</th>\n",
       "      <td>2018.000000</td>\n",
       "      <td>1313.000000</td>\n",
       "      <td>12.000000</td>\n",
       "      <td>98.000000</td>\n",
       "      <td>49.000000</td>\n",
       "      <td>112.000000</td>\n",
       "      <td>93.000000</td>\n",
       "      <td>74.00000</td>\n",
       "      <td>226.000000</td>\n",
       "      <td>28.000000</td>\n",
       "      <td>88.000000</td>\n",
       "      <td>1129.000000</td>\n",
       "    </tr>\n",
       "    <tr>\n",
       "      <th>25%</th>\n",
       "      <td>2019.000000</td>\n",
       "      <td>1353.000000</td>\n",
       "      <td>13.000000</td>\n",
       "      <td>105.000000</td>\n",
       "      <td>63.000000</td>\n",
       "      <td>122.000000</td>\n",
       "      <td>106.000000</td>\n",
       "      <td>75.00000</td>\n",
       "      <td>255.000000</td>\n",
       "      <td>41.000000</td>\n",
       "      <td>103.000000</td>\n",
       "      <td>1386.000000</td>\n",
       "    </tr>\n",
       "    <tr>\n",
       "      <th>50%</th>\n",
       "      <td>2020.000000</td>\n",
       "      <td>2162.000000</td>\n",
       "      <td>18.000000</td>\n",
       "      <td>222.000000</td>\n",
       "      <td>90.000000</td>\n",
       "      <td>219.000000</td>\n",
       "      <td>149.000000</td>\n",
       "      <td>142.00000</td>\n",
       "      <td>387.000000</td>\n",
       "      <td>62.000000</td>\n",
       "      <td>174.000000</td>\n",
       "      <td>2792.000000</td>\n",
       "    </tr>\n",
       "    <tr>\n",
       "      <th>75%</th>\n",
       "      <td>2021.000000</td>\n",
       "      <td>2800.000000</td>\n",
       "      <td>21.000000</td>\n",
       "      <td>304.000000</td>\n",
       "      <td>113.000000</td>\n",
       "      <td>321.000000</td>\n",
       "      <td>188.000000</td>\n",
       "      <td>188.00000</td>\n",
       "      <td>482.000000</td>\n",
       "      <td>79.000000</td>\n",
       "      <td>225.000000</td>\n",
       "      <td>4156.000000</td>\n",
       "    </tr>\n",
       "    <tr>\n",
       "      <th>max</th>\n",
       "      <td>2022.000000</td>\n",
       "      <td>3249.000000</td>\n",
       "      <td>23.000000</td>\n",
       "      <td>356.000000</td>\n",
       "      <td>155.000000</td>\n",
       "      <td>367.000000</td>\n",
       "      <td>255.000000</td>\n",
       "      <td>189.00000</td>\n",
       "      <td>496.000000</td>\n",
       "      <td>87.000000</td>\n",
       "      <td>246.000000</td>\n",
       "      <td>4663.000000</td>\n",
       "    </tr>\n",
       "  </tbody>\n",
       "</table>\n",
       "</div>"
      ],
      "text/plain": [
       "       Ano 1º Sintoma(s)   Ign/Branco  Analfabeto  \\\n",
       "count           5.000000     5.000000    5.000000   \n",
       "mean         2020.000000  2175.400000   17.400000   \n",
       "std             1.581139   860.667938    4.827007   \n",
       "min          2018.000000  1313.000000   12.000000   \n",
       "25%          2019.000000  1353.000000   13.000000   \n",
       "50%          2020.000000  2162.000000   18.000000   \n",
       "75%          2021.000000  2800.000000   21.000000   \n",
       "max          2022.000000  3249.000000   23.000000   \n",
       "\n",
       "       1ª a 4ª série incompleta do EF  4ª série completa do EF  \\\n",
       "count                        5.000000                 5.000000   \n",
       "mean                       217.000000                94.000000   \n",
       "std                        115.779964                42.083251   \n",
       "min                         98.000000                49.000000   \n",
       "25%                        105.000000                63.000000   \n",
       "50%                        222.000000                90.000000   \n",
       "75%                        304.000000               113.000000   \n",
       "max                        356.000000               155.000000   \n",
       "\n",
       "       5ª a 8ª série incompleta do EF  Ensino fundamental completo  \\\n",
       "count                        5.000000                     5.000000   \n",
       "mean                       228.200000                   158.200000   \n",
       "std                        114.829003                    65.800456   \n",
       "min                        112.000000                    93.000000   \n",
       "25%                        122.000000                   106.000000   \n",
       "50%                        219.000000                   149.000000   \n",
       "75%                        321.000000                   188.000000   \n",
       "max                        367.000000                   255.000000   \n",
       "\n",
       "       Ensino médio incompleto  Ensino médio completo  \\\n",
       "count                  5.00000               5.000000   \n",
       "mean                 133.60000             369.200000   \n",
       "std                   57.19528             125.166689   \n",
       "min                   74.00000             226.000000   \n",
       "25%                   75.00000             255.000000   \n",
       "50%                  142.00000             387.000000   \n",
       "75%                  188.00000             482.000000   \n",
       "max                  189.00000             496.000000   \n",
       "\n",
       "       Educação superior incompleta  Educação superior completa  Não se aplica  \n",
       "count                      5.000000                    5.000000       5.000000  \n",
       "mean                      59.400000                  167.200000    2825.200000  \n",
       "std                       24.885739                   70.694413    1588.869944  \n",
       "min                       28.000000                   88.000000    1129.000000  \n",
       "25%                       41.000000                  103.000000    1386.000000  \n",
       "50%                       62.000000                  174.000000    2792.000000  \n",
       "75%                       79.000000                  225.000000    4156.000000  \n",
       "max                       87.000000                  246.000000    4663.000000  "
      ]
     },
     "metadata": {},
     "output_type": "display_data"
    },
    {
     "data": {
      "text/plain": [
       "'\\nMédia:'"
      ]
     },
     "metadata": {},
     "output_type": "display_data"
    },
    {
     "data": {
      "text/plain": [
       "Ano 1º Sintoma(s)                 2020.0\n",
       "Ign/Branco                        2175.4\n",
       "Analfabeto                          17.4\n",
       "1ª a 4ª série incompleta do EF     217.0\n",
       "4ª série completa do EF             94.0\n",
       "5ª a 8ª série incompleta do EF     228.2\n",
       "Ensino fundamental completo        158.2\n",
       "Ensino médio incompleto            133.6\n",
       "Ensino médio completo              369.2\n",
       "Educação superior incompleta        59.4\n",
       "Educação superior completa         167.2\n",
       "Não se aplica                     2825.2\n",
       "dtype: float64"
      ]
     },
     "metadata": {},
     "output_type": "display_data"
    },
    {
     "data": {
      "text/plain": [
       "'\\nDesvio Padrão:'"
      ]
     },
     "metadata": {},
     "output_type": "display_data"
    },
    {
     "data": {
      "text/plain": [
       "Ano 1º Sintoma(s)                    1.581139\n",
       "Ign/Branco                         860.667938\n",
       "Analfabeto                           4.827007\n",
       "1ª a 4ª série incompleta do EF     115.779964\n",
       "4ª série completa do EF             42.083251\n",
       "5ª a 8ª série incompleta do EF     114.829003\n",
       "Ensino fundamental completo         65.800456\n",
       "Ensino médio incompleto             57.195280\n",
       "Ensino médio completo              125.166689\n",
       "Educação superior incompleta        24.885739\n",
       "Educação superior completa          70.694413\n",
       "Não se aplica                     1588.869944\n",
       "dtype: float64"
      ]
     },
     "metadata": {},
     "output_type": "display_data"
    }
   ],
   "source": [
    "# Calcula a descrição estatística do DataFrame\n",
    "descricao = escolaridade_sd.describe()\n",
    "\n",
    "# Calcula a média das colunas\n",
    "media = escolaridade_sd.mean()\n",
    "\n",
    "# Calcula o desvio padrão das colunas\n",
    "desvio_padrao = escolaridade_sd.std()\n",
    "\n",
    "# Exibe a descrição estatística\n",
    "display(\"Descrição estatística:\")\n",
    "display(descricao)\n",
    "\n",
    "# Exibe a média e o desvio padrão\n",
    "display(\"\\nMédia:\")\n",
    "display(media)\n",
    "display(\"\\nDesvio Padrão:\")\n",
    "display(desvio_padrao) "
   ]
  },
  {
   "cell_type": "code",
   "execution_count": 91,
   "id": "7fbad25f",
   "metadata": {},
   "outputs": [
    {
     "data": {
      "text/html": [
       "<div>\n",
       "<style scoped>\n",
       "    .dataframe tbody tr th:only-of-type {\n",
       "        vertical-align: middle;\n",
       "    }\n",
       "\n",
       "    .dataframe tbody tr th {\n",
       "        vertical-align: top;\n",
       "    }\n",
       "\n",
       "    .dataframe thead th {\n",
       "        text-align: right;\n",
       "    }\n",
       "</style>\n",
       "<table border=\"1\" class=\"dataframe\">\n",
       "  <thead>\n",
       "    <tr style=\"text-align: right;\">\n",
       "      <th></th>\n",
       "      <th>Ano 1º Sintoma(s)</th>\n",
       "      <th>Ign/Branco</th>\n",
       "      <th>Alta</th>\n",
       "      <th>Óbito por meningite</th>\n",
       "      <th>Óbito por outra causa</th>\n",
       "      <th>Total</th>\n",
       "    </tr>\n",
       "  </thead>\n",
       "  <tbody>\n",
       "    <tr>\n",
       "      <th>0</th>\n",
       "      <td>2018</td>\n",
       "      <td>994.0</td>\n",
       "      <td>7945.0</td>\n",
       "      <td>778.0</td>\n",
       "      <td>349.0</td>\n",
       "      <td>10066.0</td>\n",
       "    </tr>\n",
       "    <tr>\n",
       "      <th>1</th>\n",
       "      <td>2019</td>\n",
       "      <td>1118.0</td>\n",
       "      <td>6746.0</td>\n",
       "      <td>720.0</td>\n",
       "      <td>285.0</td>\n",
       "      <td>8869.0</td>\n",
       "    </tr>\n",
       "    <tr>\n",
       "      <th>2</th>\n",
       "      <td>2020</td>\n",
       "      <td>497.0</td>\n",
       "      <td>2574.0</td>\n",
       "      <td>349.0</td>\n",
       "      <td>202.0</td>\n",
       "      <td>3622.0</td>\n",
       "    </tr>\n",
       "    <tr>\n",
       "      <th>3</th>\n",
       "      <td>2021</td>\n",
       "      <td>334.0</td>\n",
       "      <td>2359.0</td>\n",
       "      <td>335.0</td>\n",
       "      <td>194.0</td>\n",
       "      <td>3222.0</td>\n",
       "    </tr>\n",
       "    <tr>\n",
       "      <th>4</th>\n",
       "      <td>2022</td>\n",
       "      <td>936.0</td>\n",
       "      <td>4607.0</td>\n",
       "      <td>657.0</td>\n",
       "      <td>245.0</td>\n",
       "      <td>6445.0</td>\n",
       "    </tr>\n",
       "    <tr>\n",
       "      <th>5</th>\n",
       "      <td>Total</td>\n",
       "      <td>3879.0</td>\n",
       "      <td>24231.0</td>\n",
       "      <td>2839.0</td>\n",
       "      <td>1275.0</td>\n",
       "      <td>32224.0</td>\n",
       "    </tr>\n",
       "  </tbody>\n",
       "</table>\n",
       "</div>"
      ],
      "text/plain": [
       "  Ano 1º Sintoma(s)  Ign/Branco     Alta  Óbito por meningite  \\\n",
       "0              2018       994.0   7945.0                778.0   \n",
       "1              2019      1118.0   6746.0                720.0   \n",
       "2              2020       497.0   2574.0                349.0   \n",
       "3              2021       334.0   2359.0                335.0   \n",
       "4              2022       936.0   4607.0                657.0   \n",
       "5             Total      3879.0  24231.0               2839.0   \n",
       "\n",
       "   Óbito por outra causa    Total  \n",
       "0                  349.0  10066.0  \n",
       "1                  285.0   8869.0  \n",
       "2                  202.0   3622.0  \n",
       "3                  194.0   3222.0  \n",
       "4                  245.0   6445.0  \n",
       "5                 1275.0  32224.0  "
      ]
     },
     "metadata": {},
     "output_type": "display_data"
    }
   ],
   "source": [
    "# Importar base de dados \"Evolução\"\n",
    "evolucao_sd = pd.read_csv(\"Evolucao_sudeste.csv\", encoding=\"latin\", sep=\";\")\n",
    "\n",
    "# corrigir informações vazias\n",
    "evolucao_sd = evolucao_sd.dropna()\n",
    "display (evolucao_sd)"
   ]
  },
  {
   "cell_type": "code",
   "execution_count": 92,
   "id": "9024656e",
   "metadata": {},
   "outputs": [
    {
     "data": {
      "text/html": [
       "<div>\n",
       "<style scoped>\n",
       "    .dataframe tbody tr th:only-of-type {\n",
       "        vertical-align: middle;\n",
       "    }\n",
       "\n",
       "    .dataframe tbody tr th {\n",
       "        vertical-align: top;\n",
       "    }\n",
       "\n",
       "    .dataframe thead th {\n",
       "        text-align: right;\n",
       "    }\n",
       "</style>\n",
       "<table border=\"1\" class=\"dataframe\">\n",
       "  <thead>\n",
       "    <tr style=\"text-align: right;\">\n",
       "      <th></th>\n",
       "      <th>Ano 1º Sintoma(s)</th>\n",
       "      <th>Ign/Branco</th>\n",
       "      <th>Alta</th>\n",
       "      <th>Óbito por meningite</th>\n",
       "      <th>Óbito por outra causa</th>\n",
       "    </tr>\n",
       "  </thead>\n",
       "  <tbody>\n",
       "    <tr>\n",
       "      <th>0</th>\n",
       "      <td>2018</td>\n",
       "      <td>994.0</td>\n",
       "      <td>7945.0</td>\n",
       "      <td>778.0</td>\n",
       "      <td>349.0</td>\n",
       "    </tr>\n",
       "    <tr>\n",
       "      <th>1</th>\n",
       "      <td>2019</td>\n",
       "      <td>1118.0</td>\n",
       "      <td>6746.0</td>\n",
       "      <td>720.0</td>\n",
       "      <td>285.0</td>\n",
       "    </tr>\n",
       "    <tr>\n",
       "      <th>2</th>\n",
       "      <td>2020</td>\n",
       "      <td>497.0</td>\n",
       "      <td>2574.0</td>\n",
       "      <td>349.0</td>\n",
       "      <td>202.0</td>\n",
       "    </tr>\n",
       "    <tr>\n",
       "      <th>3</th>\n",
       "      <td>2021</td>\n",
       "      <td>334.0</td>\n",
       "      <td>2359.0</td>\n",
       "      <td>335.0</td>\n",
       "      <td>194.0</td>\n",
       "    </tr>\n",
       "    <tr>\n",
       "      <th>4</th>\n",
       "      <td>2022</td>\n",
       "      <td>936.0</td>\n",
       "      <td>4607.0</td>\n",
       "      <td>657.0</td>\n",
       "      <td>245.0</td>\n",
       "    </tr>\n",
       "  </tbody>\n",
       "</table>\n",
       "</div>"
      ],
      "text/plain": [
       "  Ano 1º Sintoma(s)  Ign/Branco    Alta  Óbito por meningite  \\\n",
       "0              2018       994.0  7945.0                778.0   \n",
       "1              2019      1118.0  6746.0                720.0   \n",
       "2              2020       497.0  2574.0                349.0   \n",
       "3              2021       334.0  2359.0                335.0   \n",
       "4              2022       936.0  4607.0                657.0   \n",
       "\n",
       "   Óbito por outra causa  \n",
       "0                  349.0  \n",
       "1                  285.0  \n",
       "2                  202.0  \n",
       "3                  194.0  \n",
       "4                  245.0  "
      ]
     },
     "metadata": {},
     "output_type": "display_data"
    }
   ],
   "source": [
    "# Deletar a coluna  e linha\n",
    "evolucao_sd = evolucao_sd.drop('Total', axis=1)\n",
    "evolucao_sd = evolucao_sd.drop(5, axis=0)\n",
    "display (evolucao_sd)"
   ]
  },
  {
   "cell_type": "code",
   "execution_count": 93,
   "id": "247aaf4a",
   "metadata": {},
   "outputs": [
    {
     "data": {
      "application/vnd.plotly.v1+json": {
       "config": {
        "plotlyServerURL": "https://plot.ly"
       },
       "data": [
        {
         "mode": "lines",
         "name": "Ign/Branco",
         "type": "scatter",
         "x": [
          2018,
          2019,
          2020,
          2021,
          2022
         ],
         "y": [
          994,
          1118,
          497,
          334,
          936
         ]
        },
        {
         "mode": "lines",
         "name": "Alta",
         "type": "scatter",
         "x": [
          2018,
          2019,
          2020,
          2021,
          2022
         ],
         "y": [
          7945,
          6746,
          2574,
          2359,
          4607
         ]
        },
        {
         "mode": "lines",
         "name": "Óbito por meningite",
         "type": "scatter",
         "x": [
          2018,
          2019,
          2020,
          2021,
          2022
         ],
         "y": [
          778,
          720,
          349,
          335,
          657
         ]
        },
        {
         "mode": "lines",
         "name": "Óbito por outra causa",
         "type": "scatter",
         "x": [
          2018,
          2019,
          2020,
          2021,
          2022
         ],
         "y": [
          349,
          285,
          202,
          194,
          245
         ]
        }
       ],
       "layout": {
        "hovermode": "x",
        "template": {
         "data": {
          "bar": [
           {
            "error_x": {
             "color": "#2a3f5f"
            },
            "error_y": {
             "color": "#2a3f5f"
            },
            "marker": {
             "line": {
              "color": "#E5ECF6",
              "width": 0.5
             },
             "pattern": {
              "fillmode": "overlay",
              "size": 10,
              "solidity": 0.2
             }
            },
            "type": "bar"
           }
          ],
          "barpolar": [
           {
            "marker": {
             "line": {
              "color": "#E5ECF6",
              "width": 0.5
             },
             "pattern": {
              "fillmode": "overlay",
              "size": 10,
              "solidity": 0.2
             }
            },
            "type": "barpolar"
           }
          ],
          "carpet": [
           {
            "aaxis": {
             "endlinecolor": "#2a3f5f",
             "gridcolor": "white",
             "linecolor": "white",
             "minorgridcolor": "white",
             "startlinecolor": "#2a3f5f"
            },
            "baxis": {
             "endlinecolor": "#2a3f5f",
             "gridcolor": "white",
             "linecolor": "white",
             "minorgridcolor": "white",
             "startlinecolor": "#2a3f5f"
            },
            "type": "carpet"
           }
          ],
          "choropleth": [
           {
            "colorbar": {
             "outlinewidth": 0,
             "ticks": ""
            },
            "type": "choropleth"
           }
          ],
          "contour": [
           {
            "colorbar": {
             "outlinewidth": 0,
             "ticks": ""
            },
            "colorscale": [
             [
              0,
              "#0d0887"
             ],
             [
              0.1111111111111111,
              "#46039f"
             ],
             [
              0.2222222222222222,
              "#7201a8"
             ],
             [
              0.3333333333333333,
              "#9c179e"
             ],
             [
              0.4444444444444444,
              "#bd3786"
             ],
             [
              0.5555555555555556,
              "#d8576b"
             ],
             [
              0.6666666666666666,
              "#ed7953"
             ],
             [
              0.7777777777777778,
              "#fb9f3a"
             ],
             [
              0.8888888888888888,
              "#fdca26"
             ],
             [
              1,
              "#f0f921"
             ]
            ],
            "type": "contour"
           }
          ],
          "contourcarpet": [
           {
            "colorbar": {
             "outlinewidth": 0,
             "ticks": ""
            },
            "type": "contourcarpet"
           }
          ],
          "heatmap": [
           {
            "colorbar": {
             "outlinewidth": 0,
             "ticks": ""
            },
            "colorscale": [
             [
              0,
              "#0d0887"
             ],
             [
              0.1111111111111111,
              "#46039f"
             ],
             [
              0.2222222222222222,
              "#7201a8"
             ],
             [
              0.3333333333333333,
              "#9c179e"
             ],
             [
              0.4444444444444444,
              "#bd3786"
             ],
             [
              0.5555555555555556,
              "#d8576b"
             ],
             [
              0.6666666666666666,
              "#ed7953"
             ],
             [
              0.7777777777777778,
              "#fb9f3a"
             ],
             [
              0.8888888888888888,
              "#fdca26"
             ],
             [
              1,
              "#f0f921"
             ]
            ],
            "type": "heatmap"
           }
          ],
          "heatmapgl": [
           {
            "colorbar": {
             "outlinewidth": 0,
             "ticks": ""
            },
            "colorscale": [
             [
              0,
              "#0d0887"
             ],
             [
              0.1111111111111111,
              "#46039f"
             ],
             [
              0.2222222222222222,
              "#7201a8"
             ],
             [
              0.3333333333333333,
              "#9c179e"
             ],
             [
              0.4444444444444444,
              "#bd3786"
             ],
             [
              0.5555555555555556,
              "#d8576b"
             ],
             [
              0.6666666666666666,
              "#ed7953"
             ],
             [
              0.7777777777777778,
              "#fb9f3a"
             ],
             [
              0.8888888888888888,
              "#fdca26"
             ],
             [
              1,
              "#f0f921"
             ]
            ],
            "type": "heatmapgl"
           }
          ],
          "histogram": [
           {
            "marker": {
             "pattern": {
              "fillmode": "overlay",
              "size": 10,
              "solidity": 0.2
             }
            },
            "type": "histogram"
           }
          ],
          "histogram2d": [
           {
            "colorbar": {
             "outlinewidth": 0,
             "ticks": ""
            },
            "colorscale": [
             [
              0,
              "#0d0887"
             ],
             [
              0.1111111111111111,
              "#46039f"
             ],
             [
              0.2222222222222222,
              "#7201a8"
             ],
             [
              0.3333333333333333,
              "#9c179e"
             ],
             [
              0.4444444444444444,
              "#bd3786"
             ],
             [
              0.5555555555555556,
              "#d8576b"
             ],
             [
              0.6666666666666666,
              "#ed7953"
             ],
             [
              0.7777777777777778,
              "#fb9f3a"
             ],
             [
              0.8888888888888888,
              "#fdca26"
             ],
             [
              1,
              "#f0f921"
             ]
            ],
            "type": "histogram2d"
           }
          ],
          "histogram2dcontour": [
           {
            "colorbar": {
             "outlinewidth": 0,
             "ticks": ""
            },
            "colorscale": [
             [
              0,
              "#0d0887"
             ],
             [
              0.1111111111111111,
              "#46039f"
             ],
             [
              0.2222222222222222,
              "#7201a8"
             ],
             [
              0.3333333333333333,
              "#9c179e"
             ],
             [
              0.4444444444444444,
              "#bd3786"
             ],
             [
              0.5555555555555556,
              "#d8576b"
             ],
             [
              0.6666666666666666,
              "#ed7953"
             ],
             [
              0.7777777777777778,
              "#fb9f3a"
             ],
             [
              0.8888888888888888,
              "#fdca26"
             ],
             [
              1,
              "#f0f921"
             ]
            ],
            "type": "histogram2dcontour"
           }
          ],
          "mesh3d": [
           {
            "colorbar": {
             "outlinewidth": 0,
             "ticks": ""
            },
            "type": "mesh3d"
           }
          ],
          "parcoords": [
           {
            "line": {
             "colorbar": {
              "outlinewidth": 0,
              "ticks": ""
             }
            },
            "type": "parcoords"
           }
          ],
          "pie": [
           {
            "automargin": true,
            "type": "pie"
           }
          ],
          "scatter": [
           {
            "fillpattern": {
             "fillmode": "overlay",
             "size": 10,
             "solidity": 0.2
            },
            "type": "scatter"
           }
          ],
          "scatter3d": [
           {
            "line": {
             "colorbar": {
              "outlinewidth": 0,
              "ticks": ""
             }
            },
            "marker": {
             "colorbar": {
              "outlinewidth": 0,
              "ticks": ""
             }
            },
            "type": "scatter3d"
           }
          ],
          "scattercarpet": [
           {
            "marker": {
             "colorbar": {
              "outlinewidth": 0,
              "ticks": ""
             }
            },
            "type": "scattercarpet"
           }
          ],
          "scattergeo": [
           {
            "marker": {
             "colorbar": {
              "outlinewidth": 0,
              "ticks": ""
             }
            },
            "type": "scattergeo"
           }
          ],
          "scattergl": [
           {
            "marker": {
             "colorbar": {
              "outlinewidth": 0,
              "ticks": ""
             }
            },
            "type": "scattergl"
           }
          ],
          "scattermapbox": [
           {
            "marker": {
             "colorbar": {
              "outlinewidth": 0,
              "ticks": ""
             }
            },
            "type": "scattermapbox"
           }
          ],
          "scatterpolar": [
           {
            "marker": {
             "colorbar": {
              "outlinewidth": 0,
              "ticks": ""
             }
            },
            "type": "scatterpolar"
           }
          ],
          "scatterpolargl": [
           {
            "marker": {
             "colorbar": {
              "outlinewidth": 0,
              "ticks": ""
             }
            },
            "type": "scatterpolargl"
           }
          ],
          "scatterternary": [
           {
            "marker": {
             "colorbar": {
              "outlinewidth": 0,
              "ticks": ""
             }
            },
            "type": "scatterternary"
           }
          ],
          "surface": [
           {
            "colorbar": {
             "outlinewidth": 0,
             "ticks": ""
            },
            "colorscale": [
             [
              0,
              "#0d0887"
             ],
             [
              0.1111111111111111,
              "#46039f"
             ],
             [
              0.2222222222222222,
              "#7201a8"
             ],
             [
              0.3333333333333333,
              "#9c179e"
             ],
             [
              0.4444444444444444,
              "#bd3786"
             ],
             [
              0.5555555555555556,
              "#d8576b"
             ],
             [
              0.6666666666666666,
              "#ed7953"
             ],
             [
              0.7777777777777778,
              "#fb9f3a"
             ],
             [
              0.8888888888888888,
              "#fdca26"
             ],
             [
              1,
              "#f0f921"
             ]
            ],
            "type": "surface"
           }
          ],
          "table": [
           {
            "cells": {
             "fill": {
              "color": "#EBF0F8"
             },
             "line": {
              "color": "white"
             }
            },
            "header": {
             "fill": {
              "color": "#C8D4E3"
             },
             "line": {
              "color": "white"
             }
            },
            "type": "table"
           }
          ]
         },
         "layout": {
          "annotationdefaults": {
           "arrowcolor": "#2a3f5f",
           "arrowhead": 0,
           "arrowwidth": 1
          },
          "autotypenumbers": "strict",
          "coloraxis": {
           "colorbar": {
            "outlinewidth": 0,
            "ticks": ""
           }
          },
          "colorscale": {
           "diverging": [
            [
             0,
             "#8e0152"
            ],
            [
             0.1,
             "#c51b7d"
            ],
            [
             0.2,
             "#de77ae"
            ],
            [
             0.3,
             "#f1b6da"
            ],
            [
             0.4,
             "#fde0ef"
            ],
            [
             0.5,
             "#f7f7f7"
            ],
            [
             0.6,
             "#e6f5d0"
            ],
            [
             0.7,
             "#b8e186"
            ],
            [
             0.8,
             "#7fbc41"
            ],
            [
             0.9,
             "#4d9221"
            ],
            [
             1,
             "#276419"
            ]
           ],
           "sequential": [
            [
             0,
             "#0d0887"
            ],
            [
             0.1111111111111111,
             "#46039f"
            ],
            [
             0.2222222222222222,
             "#7201a8"
            ],
            [
             0.3333333333333333,
             "#9c179e"
            ],
            [
             0.4444444444444444,
             "#bd3786"
            ],
            [
             0.5555555555555556,
             "#d8576b"
            ],
            [
             0.6666666666666666,
             "#ed7953"
            ],
            [
             0.7777777777777778,
             "#fb9f3a"
            ],
            [
             0.8888888888888888,
             "#fdca26"
            ],
            [
             1,
             "#f0f921"
            ]
           ],
           "sequentialminus": [
            [
             0,
             "#0d0887"
            ],
            [
             0.1111111111111111,
             "#46039f"
            ],
            [
             0.2222222222222222,
             "#7201a8"
            ],
            [
             0.3333333333333333,
             "#9c179e"
            ],
            [
             0.4444444444444444,
             "#bd3786"
            ],
            [
             0.5555555555555556,
             "#d8576b"
            ],
            [
             0.6666666666666666,
             "#ed7953"
            ],
            [
             0.7777777777777778,
             "#fb9f3a"
            ],
            [
             0.8888888888888888,
             "#fdca26"
            ],
            [
             1,
             "#f0f921"
            ]
           ]
          },
          "colorway": [
           "#636efa",
           "#EF553B",
           "#00cc96",
           "#ab63fa",
           "#FFA15A",
           "#19d3f3",
           "#FF6692",
           "#B6E880",
           "#FF97FF",
           "#FECB52"
          ],
          "font": {
           "color": "#2a3f5f"
          },
          "geo": {
           "bgcolor": "white",
           "lakecolor": "white",
           "landcolor": "#E5ECF6",
           "showlakes": true,
           "showland": true,
           "subunitcolor": "white"
          },
          "hoverlabel": {
           "align": "left"
          },
          "hovermode": "closest",
          "mapbox": {
           "style": "light"
          },
          "paper_bgcolor": "white",
          "plot_bgcolor": "#E5ECF6",
          "polar": {
           "angularaxis": {
            "gridcolor": "white",
            "linecolor": "white",
            "ticks": ""
           },
           "bgcolor": "#E5ECF6",
           "radialaxis": {
            "gridcolor": "white",
            "linecolor": "white",
            "ticks": ""
           }
          },
          "scene": {
           "xaxis": {
            "backgroundcolor": "#E5ECF6",
            "gridcolor": "white",
            "gridwidth": 2,
            "linecolor": "white",
            "showbackground": true,
            "ticks": "",
            "zerolinecolor": "white"
           },
           "yaxis": {
            "backgroundcolor": "#E5ECF6",
            "gridcolor": "white",
            "gridwidth": 2,
            "linecolor": "white",
            "showbackground": true,
            "ticks": "",
            "zerolinecolor": "white"
           },
           "zaxis": {
            "backgroundcolor": "#E5ECF6",
            "gridcolor": "white",
            "gridwidth": 2,
            "linecolor": "white",
            "showbackground": true,
            "ticks": "",
            "zerolinecolor": "white"
           }
          },
          "shapedefaults": {
           "line": {
            "color": "#2a3f5f"
           }
          },
          "ternary": {
           "aaxis": {
            "gridcolor": "white",
            "linecolor": "white",
            "ticks": ""
           },
           "baxis": {
            "gridcolor": "white",
            "linecolor": "white",
            "ticks": ""
           },
           "bgcolor": "#E5ECF6",
           "caxis": {
            "gridcolor": "white",
            "linecolor": "white",
            "ticks": ""
           }
          },
          "title": {
           "x": 0.05
          },
          "xaxis": {
           "automargin": true,
           "gridcolor": "white",
           "linecolor": "white",
           "ticks": "",
           "title": {
            "standoff": 15
           },
           "zerolinecolor": "white",
           "zerolinewidth": 2
          },
          "yaxis": {
           "automargin": true,
           "gridcolor": "white",
           "linecolor": "white",
           "ticks": "",
           "title": {
            "standoff": 15
           },
           "zerolinecolor": "white",
           "zerolinewidth": 2
          }
         }
        },
        "title": {
         "text": "Evolução - Região Sudeste"
        },
        "xaxis": {
         "title": {
          "text": "Ano 1º Sintoma(s)"
         }
        },
        "yaxis": {
         "title": {
          "text": "Valores"
         }
        }
       }
      },
      "text/html": [
       "<div>                            <div id=\"2caf192c-38df-43e5-8a07-73098239b1af\" class=\"plotly-graph-div\" style=\"height:525px; width:100%;\"></div>            <script type=\"text/javascript\">                require([\"plotly\"], function(Plotly) {                    window.PLOTLYENV=window.PLOTLYENV || {};                                    if (document.getElementById(\"2caf192c-38df-43e5-8a07-73098239b1af\")) {                    Plotly.newPlot(                        \"2caf192c-38df-43e5-8a07-73098239b1af\",                        [{\"mode\":\"lines\",\"name\":\"Ign/Branco\",\"x\":[2018,2019,2020,2021,2022],\"y\":[994.0,1118.0,497.0,334.0,936.0],\"type\":\"scatter\"},{\"mode\":\"lines\",\"name\":\"Alta\",\"x\":[2018,2019,2020,2021,2022],\"y\":[7945.0,6746.0,2574.0,2359.0,4607.0],\"type\":\"scatter\"},{\"mode\":\"lines\",\"name\":\"\\u00d3bito por meningite\",\"x\":[2018,2019,2020,2021,2022],\"y\":[778.0,720.0,349.0,335.0,657.0],\"type\":\"scatter\"},{\"mode\":\"lines\",\"name\":\"\\u00d3bito por outra causa\",\"x\":[2018,2019,2020,2021,2022],\"y\":[349.0,285.0,202.0,194.0,245.0],\"type\":\"scatter\"}],                        {\"template\":{\"data\":{\"histogram2dcontour\":[{\"type\":\"histogram2dcontour\",\"colorbar\":{\"outlinewidth\":0,\"ticks\":\"\"},\"colorscale\":[[0.0,\"#0d0887\"],[0.1111111111111111,\"#46039f\"],[0.2222222222222222,\"#7201a8\"],[0.3333333333333333,\"#9c179e\"],[0.4444444444444444,\"#bd3786\"],[0.5555555555555556,\"#d8576b\"],[0.6666666666666666,\"#ed7953\"],[0.7777777777777778,\"#fb9f3a\"],[0.8888888888888888,\"#fdca26\"],[1.0,\"#f0f921\"]]}],\"choropleth\":[{\"type\":\"choropleth\",\"colorbar\":{\"outlinewidth\":0,\"ticks\":\"\"}}],\"histogram2d\":[{\"type\":\"histogram2d\",\"colorbar\":{\"outlinewidth\":0,\"ticks\":\"\"},\"colorscale\":[[0.0,\"#0d0887\"],[0.1111111111111111,\"#46039f\"],[0.2222222222222222,\"#7201a8\"],[0.3333333333333333,\"#9c179e\"],[0.4444444444444444,\"#bd3786\"],[0.5555555555555556,\"#d8576b\"],[0.6666666666666666,\"#ed7953\"],[0.7777777777777778,\"#fb9f3a\"],[0.8888888888888888,\"#fdca26\"],[1.0,\"#f0f921\"]]}],\"heatmap\":[{\"type\":\"heatmap\",\"colorbar\":{\"outlinewidth\":0,\"ticks\":\"\"},\"colorscale\":[[0.0,\"#0d0887\"],[0.1111111111111111,\"#46039f\"],[0.2222222222222222,\"#7201a8\"],[0.3333333333333333,\"#9c179e\"],[0.4444444444444444,\"#bd3786\"],[0.5555555555555556,\"#d8576b\"],[0.6666666666666666,\"#ed7953\"],[0.7777777777777778,\"#fb9f3a\"],[0.8888888888888888,\"#fdca26\"],[1.0,\"#f0f921\"]]}],\"heatmapgl\":[{\"type\":\"heatmapgl\",\"colorbar\":{\"outlinewidth\":0,\"ticks\":\"\"},\"colorscale\":[[0.0,\"#0d0887\"],[0.1111111111111111,\"#46039f\"],[0.2222222222222222,\"#7201a8\"],[0.3333333333333333,\"#9c179e\"],[0.4444444444444444,\"#bd3786\"],[0.5555555555555556,\"#d8576b\"],[0.6666666666666666,\"#ed7953\"],[0.7777777777777778,\"#fb9f3a\"],[0.8888888888888888,\"#fdca26\"],[1.0,\"#f0f921\"]]}],\"contourcarpet\":[{\"type\":\"contourcarpet\",\"colorbar\":{\"outlinewidth\":0,\"ticks\":\"\"}}],\"contour\":[{\"type\":\"contour\",\"colorbar\":{\"outlinewidth\":0,\"ticks\":\"\"},\"colorscale\":[[0.0,\"#0d0887\"],[0.1111111111111111,\"#46039f\"],[0.2222222222222222,\"#7201a8\"],[0.3333333333333333,\"#9c179e\"],[0.4444444444444444,\"#bd3786\"],[0.5555555555555556,\"#d8576b\"],[0.6666666666666666,\"#ed7953\"],[0.7777777777777778,\"#fb9f3a\"],[0.8888888888888888,\"#fdca26\"],[1.0,\"#f0f921\"]]}],\"surface\":[{\"type\":\"surface\",\"colorbar\":{\"outlinewidth\":0,\"ticks\":\"\"},\"colorscale\":[[0.0,\"#0d0887\"],[0.1111111111111111,\"#46039f\"],[0.2222222222222222,\"#7201a8\"],[0.3333333333333333,\"#9c179e\"],[0.4444444444444444,\"#bd3786\"],[0.5555555555555556,\"#d8576b\"],[0.6666666666666666,\"#ed7953\"],[0.7777777777777778,\"#fb9f3a\"],[0.8888888888888888,\"#fdca26\"],[1.0,\"#f0f921\"]]}],\"mesh3d\":[{\"type\":\"mesh3d\",\"colorbar\":{\"outlinewidth\":0,\"ticks\":\"\"}}],\"scatter\":[{\"fillpattern\":{\"fillmode\":\"overlay\",\"size\":10,\"solidity\":0.2},\"type\":\"scatter\"}],\"parcoords\":[{\"type\":\"parcoords\",\"line\":{\"colorbar\":{\"outlinewidth\":0,\"ticks\":\"\"}}}],\"scatterpolargl\":[{\"type\":\"scatterpolargl\",\"marker\":{\"colorbar\":{\"outlinewidth\":0,\"ticks\":\"\"}}}],\"bar\":[{\"error_x\":{\"color\":\"#2a3f5f\"},\"error_y\":{\"color\":\"#2a3f5f\"},\"marker\":{\"line\":{\"color\":\"#E5ECF6\",\"width\":0.5},\"pattern\":{\"fillmode\":\"overlay\",\"size\":10,\"solidity\":0.2}},\"type\":\"bar\"}],\"scattergeo\":[{\"type\":\"scattergeo\",\"marker\":{\"colorbar\":{\"outlinewidth\":0,\"ticks\":\"\"}}}],\"scatterpolar\":[{\"type\":\"scatterpolar\",\"marker\":{\"colorbar\":{\"outlinewidth\":0,\"ticks\":\"\"}}}],\"histogram\":[{\"marker\":{\"pattern\":{\"fillmode\":\"overlay\",\"size\":10,\"solidity\":0.2}},\"type\":\"histogram\"}],\"scattergl\":[{\"type\":\"scattergl\",\"marker\":{\"colorbar\":{\"outlinewidth\":0,\"ticks\":\"\"}}}],\"scatter3d\":[{\"type\":\"scatter3d\",\"line\":{\"colorbar\":{\"outlinewidth\":0,\"ticks\":\"\"}},\"marker\":{\"colorbar\":{\"outlinewidth\":0,\"ticks\":\"\"}}}],\"scattermapbox\":[{\"type\":\"scattermapbox\",\"marker\":{\"colorbar\":{\"outlinewidth\":0,\"ticks\":\"\"}}}],\"scatterternary\":[{\"type\":\"scatterternary\",\"marker\":{\"colorbar\":{\"outlinewidth\":0,\"ticks\":\"\"}}}],\"scattercarpet\":[{\"type\":\"scattercarpet\",\"marker\":{\"colorbar\":{\"outlinewidth\":0,\"ticks\":\"\"}}}],\"carpet\":[{\"aaxis\":{\"endlinecolor\":\"#2a3f5f\",\"gridcolor\":\"white\",\"linecolor\":\"white\",\"minorgridcolor\":\"white\",\"startlinecolor\":\"#2a3f5f\"},\"baxis\":{\"endlinecolor\":\"#2a3f5f\",\"gridcolor\":\"white\",\"linecolor\":\"white\",\"minorgridcolor\":\"white\",\"startlinecolor\":\"#2a3f5f\"},\"type\":\"carpet\"}],\"table\":[{\"cells\":{\"fill\":{\"color\":\"#EBF0F8\"},\"line\":{\"color\":\"white\"}},\"header\":{\"fill\":{\"color\":\"#C8D4E3\"},\"line\":{\"color\":\"white\"}},\"type\":\"table\"}],\"barpolar\":[{\"marker\":{\"line\":{\"color\":\"#E5ECF6\",\"width\":0.5},\"pattern\":{\"fillmode\":\"overlay\",\"size\":10,\"solidity\":0.2}},\"type\":\"barpolar\"}],\"pie\":[{\"automargin\":true,\"type\":\"pie\"}]},\"layout\":{\"autotypenumbers\":\"strict\",\"colorway\":[\"#636efa\",\"#EF553B\",\"#00cc96\",\"#ab63fa\",\"#FFA15A\",\"#19d3f3\",\"#FF6692\",\"#B6E880\",\"#FF97FF\",\"#FECB52\"],\"font\":{\"color\":\"#2a3f5f\"},\"hovermode\":\"closest\",\"hoverlabel\":{\"align\":\"left\"},\"paper_bgcolor\":\"white\",\"plot_bgcolor\":\"#E5ECF6\",\"polar\":{\"bgcolor\":\"#E5ECF6\",\"angularaxis\":{\"gridcolor\":\"white\",\"linecolor\":\"white\",\"ticks\":\"\"},\"radialaxis\":{\"gridcolor\":\"white\",\"linecolor\":\"white\",\"ticks\":\"\"}},\"ternary\":{\"bgcolor\":\"#E5ECF6\",\"aaxis\":{\"gridcolor\":\"white\",\"linecolor\":\"white\",\"ticks\":\"\"},\"baxis\":{\"gridcolor\":\"white\",\"linecolor\":\"white\",\"ticks\":\"\"},\"caxis\":{\"gridcolor\":\"white\",\"linecolor\":\"white\",\"ticks\":\"\"}},\"coloraxis\":{\"colorbar\":{\"outlinewidth\":0,\"ticks\":\"\"}},\"colorscale\":{\"sequential\":[[0.0,\"#0d0887\"],[0.1111111111111111,\"#46039f\"],[0.2222222222222222,\"#7201a8\"],[0.3333333333333333,\"#9c179e\"],[0.4444444444444444,\"#bd3786\"],[0.5555555555555556,\"#d8576b\"],[0.6666666666666666,\"#ed7953\"],[0.7777777777777778,\"#fb9f3a\"],[0.8888888888888888,\"#fdca26\"],[1.0,\"#f0f921\"]],\"sequentialminus\":[[0.0,\"#0d0887\"],[0.1111111111111111,\"#46039f\"],[0.2222222222222222,\"#7201a8\"],[0.3333333333333333,\"#9c179e\"],[0.4444444444444444,\"#bd3786\"],[0.5555555555555556,\"#d8576b\"],[0.6666666666666666,\"#ed7953\"],[0.7777777777777778,\"#fb9f3a\"],[0.8888888888888888,\"#fdca26\"],[1.0,\"#f0f921\"]],\"diverging\":[[0,\"#8e0152\"],[0.1,\"#c51b7d\"],[0.2,\"#de77ae\"],[0.3,\"#f1b6da\"],[0.4,\"#fde0ef\"],[0.5,\"#f7f7f7\"],[0.6,\"#e6f5d0\"],[0.7,\"#b8e186\"],[0.8,\"#7fbc41\"],[0.9,\"#4d9221\"],[1,\"#276419\"]]},\"xaxis\":{\"gridcolor\":\"white\",\"linecolor\":\"white\",\"ticks\":\"\",\"title\":{\"standoff\":15},\"zerolinecolor\":\"white\",\"automargin\":true,\"zerolinewidth\":2},\"yaxis\":{\"gridcolor\":\"white\",\"linecolor\":\"white\",\"ticks\":\"\",\"title\":{\"standoff\":15},\"zerolinecolor\":\"white\",\"automargin\":true,\"zerolinewidth\":2},\"scene\":{\"xaxis\":{\"backgroundcolor\":\"#E5ECF6\",\"gridcolor\":\"white\",\"linecolor\":\"white\",\"showbackground\":true,\"ticks\":\"\",\"zerolinecolor\":\"white\",\"gridwidth\":2},\"yaxis\":{\"backgroundcolor\":\"#E5ECF6\",\"gridcolor\":\"white\",\"linecolor\":\"white\",\"showbackground\":true,\"ticks\":\"\",\"zerolinecolor\":\"white\",\"gridwidth\":2},\"zaxis\":{\"backgroundcolor\":\"#E5ECF6\",\"gridcolor\":\"white\",\"linecolor\":\"white\",\"showbackground\":true,\"ticks\":\"\",\"zerolinecolor\":\"white\",\"gridwidth\":2}},\"shapedefaults\":{\"line\":{\"color\":\"#2a3f5f\"}},\"annotationdefaults\":{\"arrowcolor\":\"#2a3f5f\",\"arrowhead\":0,\"arrowwidth\":1},\"geo\":{\"bgcolor\":\"white\",\"landcolor\":\"#E5ECF6\",\"subunitcolor\":\"white\",\"showland\":true,\"showlakes\":true,\"lakecolor\":\"white\"},\"title\":{\"x\":0.05},\"mapbox\":{\"style\":\"light\"}}},\"title\":{\"text\":\"Evolu\\u00e7\\u00e3o - Regi\\u00e3o Sudeste\"},\"xaxis\":{\"title\":{\"text\":\"Ano 1\\u00ba Sintoma(s)\"}},\"yaxis\":{\"title\":{\"text\":\"Valores\"}},\"hovermode\":\"x\"},                        {\"responsive\": true}                    ).then(function(){\n",
       "                            \n",
       "var gd = document.getElementById('2caf192c-38df-43e5-8a07-73098239b1af');\n",
       "var x = new MutationObserver(function (mutations, observer) {{\n",
       "        var display = window.getComputedStyle(gd).display;\n",
       "        if (!display || display === 'none') {{\n",
       "            console.log([gd, 'removed!']);\n",
       "            Plotly.purge(gd);\n",
       "            observer.disconnect();\n",
       "        }}\n",
       "}});\n",
       "\n",
       "// Listen for the removal of the full notebook cells\n",
       "var notebookContainer = gd.closest('#notebook-container');\n",
       "if (notebookContainer) {{\n",
       "    x.observe(notebookContainer, {childList: true});\n",
       "}}\n",
       "\n",
       "// Listen for the clearing of the current output cell\n",
       "var outputEl = gd.closest('.output');\n",
       "if (outputEl) {{\n",
       "    x.observe(outputEl, {childList: true});\n",
       "}}\n",
       "\n",
       "                        })                };                });            </script>        </div>"
      ]
     },
     "metadata": {},
     "output_type": "display_data"
    }
   ],
   "source": [
    "import plotly.graph_objects as go\n",
    "# Dados da tabela\n",
    "data = {'Ano 1º Sintoma(s)': [2018, 2019, 2020, 2021, 2022],\n",
    "    'Ign/Branco': [994.0, 1118.0, 497.0, 334.0, 936.0],\n",
    "    'Alta': [7945.0, 6746.0, 2574.0, 2359.0, 4607.0],\n",
    "    'Óbito por meningite': [778.0, 720.0, 349.0, 335.0, 657.0],\n",
    "    'Óbito por outra causa': [349.0, 285.0, 202.0, 194.0, 245.0]\n",
    "    \n",
    "}\n",
    "\n",
    "evolucao_sd = pd.DataFrame(data)\n",
    "\n",
    "# Criação do gráfico interativo\n",
    "fig = go.Figure()\n",
    "\n",
    "# Adição das linhas no gráfico\n",
    "for column in evolucao_sd.columns:\n",
    "    if column != 'Ano 1º Sintoma(s)':\n",
    "        fig.add_trace(go.Scatter(x=evolucao_sd['Ano 1º Sintoma(s)'], y=evolucao_sd[column], mode='lines', name=column))\n",
    "\n",
    "# Configurações do layout\n",
    "fig.update_layout(\n",
    "    title='Evolução - Região Sudeste',\n",
    "    xaxis=dict(title='Ano 1º Sintoma(s)'),\n",
    "    yaxis=dict(title='Valores'),\n",
    "    hovermode='x'\n",
    ")\n",
    "\n",
    "# Exibição do gráfico\n",
    "fig.show()"
   ]
  },
  {
   "cell_type": "code",
   "execution_count": 94,
   "id": "609ef014",
   "metadata": {},
   "outputs": [
    {
     "data": {
      "text/plain": [
       "'Descrição estatística:'"
      ]
     },
     "metadata": {},
     "output_type": "display_data"
    },
    {
     "data": {
      "text/html": [
       "<div>\n",
       "<style scoped>\n",
       "    .dataframe tbody tr th:only-of-type {\n",
       "        vertical-align: middle;\n",
       "    }\n",
       "\n",
       "    .dataframe tbody tr th {\n",
       "        vertical-align: top;\n",
       "    }\n",
       "\n",
       "    .dataframe thead th {\n",
       "        text-align: right;\n",
       "    }\n",
       "</style>\n",
       "<table border=\"1\" class=\"dataframe\">\n",
       "  <thead>\n",
       "    <tr style=\"text-align: right;\">\n",
       "      <th></th>\n",
       "      <th>Ano 1º Sintoma(s)</th>\n",
       "      <th>Ign/Branco</th>\n",
       "      <th>Alta</th>\n",
       "      <th>Óbito por meningite</th>\n",
       "      <th>Óbito por outra causa</th>\n",
       "    </tr>\n",
       "  </thead>\n",
       "  <tbody>\n",
       "    <tr>\n",
       "      <th>count</th>\n",
       "      <td>5.000000</td>\n",
       "      <td>5.000000</td>\n",
       "      <td>5.000000</td>\n",
       "      <td>5.000000</td>\n",
       "      <td>5.000000</td>\n",
       "    </tr>\n",
       "    <tr>\n",
       "      <th>mean</th>\n",
       "      <td>2020.000000</td>\n",
       "      <td>775.800000</td>\n",
       "      <td>4846.200000</td>\n",
       "      <td>567.800000</td>\n",
       "      <td>255.000000</td>\n",
       "    </tr>\n",
       "    <tr>\n",
       "      <th>std</th>\n",
       "      <td>1.581139</td>\n",
       "      <td>340.328077</td>\n",
       "      <td>2480.830244</td>\n",
       "      <td>210.579439</td>\n",
       "      <td>63.964834</td>\n",
       "    </tr>\n",
       "    <tr>\n",
       "      <th>min</th>\n",
       "      <td>2018.000000</td>\n",
       "      <td>334.000000</td>\n",
       "      <td>2359.000000</td>\n",
       "      <td>335.000000</td>\n",
       "      <td>194.000000</td>\n",
       "    </tr>\n",
       "    <tr>\n",
       "      <th>25%</th>\n",
       "      <td>2019.000000</td>\n",
       "      <td>497.000000</td>\n",
       "      <td>2574.000000</td>\n",
       "      <td>349.000000</td>\n",
       "      <td>202.000000</td>\n",
       "    </tr>\n",
       "    <tr>\n",
       "      <th>50%</th>\n",
       "      <td>2020.000000</td>\n",
       "      <td>936.000000</td>\n",
       "      <td>4607.000000</td>\n",
       "      <td>657.000000</td>\n",
       "      <td>245.000000</td>\n",
       "    </tr>\n",
       "    <tr>\n",
       "      <th>75%</th>\n",
       "      <td>2021.000000</td>\n",
       "      <td>994.000000</td>\n",
       "      <td>6746.000000</td>\n",
       "      <td>720.000000</td>\n",
       "      <td>285.000000</td>\n",
       "    </tr>\n",
       "    <tr>\n",
       "      <th>max</th>\n",
       "      <td>2022.000000</td>\n",
       "      <td>1118.000000</td>\n",
       "      <td>7945.000000</td>\n",
       "      <td>778.000000</td>\n",
       "      <td>349.000000</td>\n",
       "    </tr>\n",
       "  </tbody>\n",
       "</table>\n",
       "</div>"
      ],
      "text/plain": [
       "       Ano 1º Sintoma(s)   Ign/Branco         Alta  Óbito por meningite  \\\n",
       "count           5.000000     5.000000     5.000000             5.000000   \n",
       "mean         2020.000000   775.800000  4846.200000           567.800000   \n",
       "std             1.581139   340.328077  2480.830244           210.579439   \n",
       "min          2018.000000   334.000000  2359.000000           335.000000   \n",
       "25%          2019.000000   497.000000  2574.000000           349.000000   \n",
       "50%          2020.000000   936.000000  4607.000000           657.000000   \n",
       "75%          2021.000000   994.000000  6746.000000           720.000000   \n",
       "max          2022.000000  1118.000000  7945.000000           778.000000   \n",
       "\n",
       "       Óbito por outra causa  \n",
       "count               5.000000  \n",
       "mean              255.000000  \n",
       "std                63.964834  \n",
       "min               194.000000  \n",
       "25%               202.000000  \n",
       "50%               245.000000  \n",
       "75%               285.000000  \n",
       "max               349.000000  "
      ]
     },
     "metadata": {},
     "output_type": "display_data"
    },
    {
     "data": {
      "text/plain": [
       "'\\nMédia:'"
      ]
     },
     "metadata": {},
     "output_type": "display_data"
    },
    {
     "data": {
      "text/plain": [
       "Ano 1º Sintoma(s)        2020.0\n",
       "Ign/Branco                775.8\n",
       "Alta                     4846.2\n",
       "Óbito por meningite       567.8\n",
       "Óbito por outra causa     255.0\n",
       "dtype: float64"
      ]
     },
     "metadata": {},
     "output_type": "display_data"
    },
    {
     "data": {
      "text/plain": [
       "'\\nDesvio Padrão:'"
      ]
     },
     "metadata": {},
     "output_type": "display_data"
    },
    {
     "data": {
      "text/plain": [
       "Ano 1º Sintoma(s)           1.581139\n",
       "Ign/Branco                340.328077\n",
       "Alta                     2480.830244\n",
       "Óbito por meningite       210.579439\n",
       "Óbito por outra causa      63.964834\n",
       "dtype: float64"
      ]
     },
     "metadata": {},
     "output_type": "display_data"
    }
   ],
   "source": [
    "# Calcula a descrição estatística do DataFrame\n",
    "descricao = evolucao_sd.describe()\n",
    "\n",
    "# Calcula a média das colunas\n",
    "media = evolucao_sd.mean()\n",
    "\n",
    "# Calcula o desvio padrão das colunas\n",
    "desvio_padrao = evolucao_sd.std()\n",
    "\n",
    "# Exibe a descrição estatística\n",
    "display(\"Descrição estatística:\")\n",
    "display(descricao)\n",
    "\n",
    "# Exibe a média e o desvio padrão\n",
    "display(\"\\nMédia:\")\n",
    "display(media)\n",
    "display(\"\\nDesvio Padrão:\")\n",
    "display(desvio_padrao) "
   ]
  },
  {
   "cell_type": "code",
   "execution_count": null,
   "id": "a1a7b50e",
   "metadata": {},
   "outputs": [],
   "source": []
  }
 ],
 "metadata": {
  "kernelspec": {
   "display_name": "Python 3 (ipykernel)",
   "language": "python",
   "name": "python3"
  },
  "language_info": {
   "codemirror_mode": {
    "name": "ipython",
    "version": 3
   },
   "file_extension": ".py",
   "mimetype": "text/x-python",
   "name": "python",
   "nbconvert_exporter": "python",
   "pygments_lexer": "ipython3",
   "version": "3.9.13"
  }
 },
 "nbformat": 4,
 "nbformat_minor": 5
}
